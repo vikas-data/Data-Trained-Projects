{
 "cells": [
  {
   "cell_type": "markdown",
   "metadata": {},
   "source": [
    "# Salary Dataset"
   ]
  },
  {
   "cell_type": "code",
   "execution_count": 1,
   "metadata": {},
   "outputs": [],
   "source": [
    "import pandas as pd\n",
    "import numpy as np\n",
    "import matplotlib.pyplot as plt\n",
    "import seaborn as sns\n",
    "%matplotlib inline"
   ]
  },
  {
   "cell_type": "code",
   "execution_count": 2,
   "metadata": {},
   "outputs": [],
   "source": [
    "data=pd.read_csv('MNC_Salaries.csv')"
   ]
  },
  {
   "cell_type": "code",
   "execution_count": 3,
   "metadata": {},
   "outputs": [
    {
     "data": {
      "text/html": [
       "<div>\n",
       "<style scoped>\n",
       "    .dataframe tbody tr th:only-of-type {\n",
       "        vertical-align: middle;\n",
       "    }\n",
       "\n",
       "    .dataframe tbody tr th {\n",
       "        vertical-align: top;\n",
       "    }\n",
       "\n",
       "    .dataframe thead th {\n",
       "        text-align: right;\n",
       "    }\n",
       "</style>\n",
       "<table border=\"1\" class=\"dataframe\">\n",
       "  <thead>\n",
       "    <tr style=\"text-align: right;\">\n",
       "      <th></th>\n",
       "      <th>Name</th>\n",
       "      <th>Team</th>\n",
       "      <th>Number</th>\n",
       "      <th>Position</th>\n",
       "      <th>Age</th>\n",
       "      <th>DOJ</th>\n",
       "      <th>Weight</th>\n",
       "      <th>College</th>\n",
       "      <th>Salary</th>\n",
       "    </tr>\n",
       "  </thead>\n",
       "  <tbody>\n",
       "    <tr>\n",
       "      <th>0</th>\n",
       "      <td>Avery Bradley</td>\n",
       "      <td>Boston Celtics</td>\n",
       "      <td>0</td>\n",
       "      <td>PG</td>\n",
       "      <td>25</td>\n",
       "      <td>06-Feb</td>\n",
       "      <td>180</td>\n",
       "      <td>Texas</td>\n",
       "      <td>7730337.0</td>\n",
       "    </tr>\n",
       "    <tr>\n",
       "      <th>1</th>\n",
       "      <td>Jae Crowder</td>\n",
       "      <td>Boston Celtics</td>\n",
       "      <td>99</td>\n",
       "      <td>SF</td>\n",
       "      <td>25</td>\n",
       "      <td>06-Jun</td>\n",
       "      <td>235</td>\n",
       "      <td>Marquette</td>\n",
       "      <td>6796117.0</td>\n",
       "    </tr>\n",
       "    <tr>\n",
       "      <th>2</th>\n",
       "      <td>John Holland</td>\n",
       "      <td>Boston Celtics</td>\n",
       "      <td>30</td>\n",
       "      <td>SG</td>\n",
       "      <td>27</td>\n",
       "      <td>06-May</td>\n",
       "      <td>205</td>\n",
       "      <td>Boston University</td>\n",
       "      <td>NaN</td>\n",
       "    </tr>\n",
       "    <tr>\n",
       "      <th>3</th>\n",
       "      <td>R.J. Hunter</td>\n",
       "      <td>Boston Celtics</td>\n",
       "      <td>28</td>\n",
       "      <td>SG</td>\n",
       "      <td>22</td>\n",
       "      <td>06-May</td>\n",
       "      <td>185</td>\n",
       "      <td>Georgia State</td>\n",
       "      <td>1148640.0</td>\n",
       "    </tr>\n",
       "    <tr>\n",
       "      <th>4</th>\n",
       "      <td>Jonas Jerebko</td>\n",
       "      <td>Boston Celtics</td>\n",
       "      <td>8</td>\n",
       "      <td>PF</td>\n",
       "      <td>29</td>\n",
       "      <td>06-Oct</td>\n",
       "      <td>231</td>\n",
       "      <td>NaN</td>\n",
       "      <td>5000000.0</td>\n",
       "    </tr>\n",
       "  </tbody>\n",
       "</table>\n",
       "</div>"
      ],
      "text/plain": [
       "            Name            Team  Number Position  Age     DOJ  Weight  \\\n",
       "0  Avery Bradley  Boston Celtics       0       PG   25  06-Feb     180   \n",
       "1    Jae Crowder  Boston Celtics      99       SF   25  06-Jun     235   \n",
       "2   John Holland  Boston Celtics      30       SG   27  06-May     205   \n",
       "3    R.J. Hunter  Boston Celtics      28       SG   22  06-May     185   \n",
       "4  Jonas Jerebko  Boston Celtics       8       PF   29  06-Oct     231   \n",
       "\n",
       "             College     Salary  \n",
       "0              Texas  7730337.0  \n",
       "1          Marquette  6796117.0  \n",
       "2  Boston University        NaN  \n",
       "3      Georgia State  1148640.0  \n",
       "4                NaN  5000000.0  "
      ]
     },
     "execution_count": 3,
     "metadata": {},
     "output_type": "execute_result"
    }
   ],
   "source": [
    "data.head()"
   ]
  },
  {
   "cell_type": "code",
   "execution_count": 4,
   "metadata": {},
   "outputs": [
    {
     "data": {
      "text/html": [
       "<div>\n",
       "<style scoped>\n",
       "    .dataframe tbody tr th:only-of-type {\n",
       "        vertical-align: middle;\n",
       "    }\n",
       "\n",
       "    .dataframe tbody tr th {\n",
       "        vertical-align: top;\n",
       "    }\n",
       "\n",
       "    .dataframe thead th {\n",
       "        text-align: right;\n",
       "    }\n",
       "</style>\n",
       "<table border=\"1\" class=\"dataframe\">\n",
       "  <thead>\n",
       "    <tr style=\"text-align: right;\">\n",
       "      <th></th>\n",
       "      <th>Name</th>\n",
       "      <th>Team</th>\n",
       "      <th>Number</th>\n",
       "      <th>Position</th>\n",
       "      <th>Age</th>\n",
       "      <th>DOJ</th>\n",
       "      <th>Weight</th>\n",
       "      <th>College</th>\n",
       "      <th>Salary</th>\n",
       "    </tr>\n",
       "  </thead>\n",
       "  <tbody>\n",
       "    <tr>\n",
       "      <th>452</th>\n",
       "      <td>Trey Lyles</td>\n",
       "      <td>Utah Jazz</td>\n",
       "      <td>41</td>\n",
       "      <td>PF</td>\n",
       "      <td>20</td>\n",
       "      <td>06-Oct</td>\n",
       "      <td>234</td>\n",
       "      <td>Kentucky</td>\n",
       "      <td>2239800.0</td>\n",
       "    </tr>\n",
       "    <tr>\n",
       "      <th>453</th>\n",
       "      <td>Shelvin Mack</td>\n",
       "      <td>Utah Jazz</td>\n",
       "      <td>8</td>\n",
       "      <td>PG</td>\n",
       "      <td>26</td>\n",
       "      <td>06-Mar</td>\n",
       "      <td>203</td>\n",
       "      <td>Butler</td>\n",
       "      <td>2433333.0</td>\n",
       "    </tr>\n",
       "    <tr>\n",
       "      <th>454</th>\n",
       "      <td>Raul Neto</td>\n",
       "      <td>Utah Jazz</td>\n",
       "      <td>25</td>\n",
       "      <td>PG</td>\n",
       "      <td>24</td>\n",
       "      <td>06-Jan</td>\n",
       "      <td>179</td>\n",
       "      <td>NaN</td>\n",
       "      <td>900000.0</td>\n",
       "    </tr>\n",
       "    <tr>\n",
       "      <th>455</th>\n",
       "      <td>Tibor Pleiss</td>\n",
       "      <td>Utah Jazz</td>\n",
       "      <td>21</td>\n",
       "      <td>C</td>\n",
       "      <td>26</td>\n",
       "      <td>07-Mar</td>\n",
       "      <td>256</td>\n",
       "      <td>NaN</td>\n",
       "      <td>2900000.0</td>\n",
       "    </tr>\n",
       "    <tr>\n",
       "      <th>456</th>\n",
       "      <td>Jeff Withey</td>\n",
       "      <td>Utah Jazz</td>\n",
       "      <td>24</td>\n",
       "      <td>C</td>\n",
       "      <td>26</td>\n",
       "      <td>7-0</td>\n",
       "      <td>231</td>\n",
       "      <td>Kansas</td>\n",
       "      <td>947276.0</td>\n",
       "    </tr>\n",
       "  </tbody>\n",
       "</table>\n",
       "</div>"
      ],
      "text/plain": [
       "             Name       Team  Number Position  Age     DOJ  Weight   College  \\\n",
       "452    Trey Lyles  Utah Jazz      41       PF   20  06-Oct     234  Kentucky   \n",
       "453  Shelvin Mack  Utah Jazz       8       PG   26  06-Mar     203    Butler   \n",
       "454     Raul Neto  Utah Jazz      25       PG   24  06-Jan     179       NaN   \n",
       "455  Tibor Pleiss  Utah Jazz      21        C   26  07-Mar     256       NaN   \n",
       "456   Jeff Withey  Utah Jazz      24        C   26     7-0     231    Kansas   \n",
       "\n",
       "        Salary  \n",
       "452  2239800.0  \n",
       "453  2433333.0  \n",
       "454   900000.0  \n",
       "455  2900000.0  \n",
       "456   947276.0  "
      ]
     },
     "execution_count": 4,
     "metadata": {},
     "output_type": "execute_result"
    }
   ],
   "source": [
    "data.tail()"
   ]
  },
  {
   "cell_type": "code",
   "execution_count": 5,
   "metadata": {},
   "outputs": [
    {
     "data": {
      "text/plain": [
       "<bound method DataFrame.info of               Name            Team  Number Position  Age     DOJ  Weight  \\\n",
       "0    Avery Bradley  Boston Celtics       0       PG   25  06-Feb     180   \n",
       "1      Jae Crowder  Boston Celtics      99       SF   25  06-Jun     235   \n",
       "2     John Holland  Boston Celtics      30       SG   27  06-May     205   \n",
       "3      R.J. Hunter  Boston Celtics      28       SG   22  06-May     185   \n",
       "4    Jonas Jerebko  Boston Celtics       8       PF   29  06-Oct     231   \n",
       "..             ...             ...     ...      ...  ...     ...     ...   \n",
       "452     Trey Lyles       Utah Jazz      41       PF   20  06-Oct     234   \n",
       "453   Shelvin Mack       Utah Jazz       8       PG   26  06-Mar     203   \n",
       "454      Raul Neto       Utah Jazz      25       PG   24  06-Jan     179   \n",
       "455   Tibor Pleiss       Utah Jazz      21        C   26  07-Mar     256   \n",
       "456    Jeff Withey       Utah Jazz      24        C   26     7-0     231   \n",
       "\n",
       "               College     Salary  \n",
       "0                Texas  7730337.0  \n",
       "1            Marquette  6796117.0  \n",
       "2    Boston University        NaN  \n",
       "3        Georgia State  1148640.0  \n",
       "4                  NaN  5000000.0  \n",
       "..                 ...        ...  \n",
       "452           Kentucky  2239800.0  \n",
       "453             Butler  2433333.0  \n",
       "454                NaN   900000.0  \n",
       "455                NaN  2900000.0  \n",
       "456             Kansas   947276.0  \n",
       "\n",
       "[457 rows x 9 columns]>"
      ]
     },
     "execution_count": 5,
     "metadata": {},
     "output_type": "execute_result"
    }
   ],
   "source": [
    "data.info"
   ]
  },
  {
   "cell_type": "code",
   "execution_count": 6,
   "metadata": {},
   "outputs": [
    {
     "data": {
      "text/html": [
       "<div>\n",
       "<style scoped>\n",
       "    .dataframe tbody tr th:only-of-type {\n",
       "        vertical-align: middle;\n",
       "    }\n",
       "\n",
       "    .dataframe tbody tr th {\n",
       "        vertical-align: top;\n",
       "    }\n",
       "\n",
       "    .dataframe thead th {\n",
       "        text-align: right;\n",
       "    }\n",
       "</style>\n",
       "<table border=\"1\" class=\"dataframe\">\n",
       "  <thead>\n",
       "    <tr style=\"text-align: right;\">\n",
       "      <th></th>\n",
       "      <th>Number</th>\n",
       "      <th>Age</th>\n",
       "      <th>Weight</th>\n",
       "      <th>Salary</th>\n",
       "    </tr>\n",
       "  </thead>\n",
       "  <tbody>\n",
       "    <tr>\n",
       "      <th>count</th>\n",
       "      <td>457.000000</td>\n",
       "      <td>457.000000</td>\n",
       "      <td>457.000000</td>\n",
       "      <td>4.460000e+02</td>\n",
       "    </tr>\n",
       "    <tr>\n",
       "      <th>mean</th>\n",
       "      <td>17.678337</td>\n",
       "      <td>26.938731</td>\n",
       "      <td>221.522976</td>\n",
       "      <td>4.842684e+06</td>\n",
       "    </tr>\n",
       "    <tr>\n",
       "      <th>std</th>\n",
       "      <td>15.966090</td>\n",
       "      <td>4.404016</td>\n",
       "      <td>26.368343</td>\n",
       "      <td>5.229238e+06</td>\n",
       "    </tr>\n",
       "    <tr>\n",
       "      <th>min</th>\n",
       "      <td>0.000000</td>\n",
       "      <td>19.000000</td>\n",
       "      <td>161.000000</td>\n",
       "      <td>3.088800e+04</td>\n",
       "    </tr>\n",
       "    <tr>\n",
       "      <th>25%</th>\n",
       "      <td>5.000000</td>\n",
       "      <td>24.000000</td>\n",
       "      <td>200.000000</td>\n",
       "      <td>1.044792e+06</td>\n",
       "    </tr>\n",
       "    <tr>\n",
       "      <th>50%</th>\n",
       "      <td>13.000000</td>\n",
       "      <td>26.000000</td>\n",
       "      <td>220.000000</td>\n",
       "      <td>2.839073e+06</td>\n",
       "    </tr>\n",
       "    <tr>\n",
       "      <th>75%</th>\n",
       "      <td>25.000000</td>\n",
       "      <td>30.000000</td>\n",
       "      <td>240.000000</td>\n",
       "      <td>6.500000e+06</td>\n",
       "    </tr>\n",
       "    <tr>\n",
       "      <th>max</th>\n",
       "      <td>99.000000</td>\n",
       "      <td>40.000000</td>\n",
       "      <td>307.000000</td>\n",
       "      <td>2.500000e+07</td>\n",
       "    </tr>\n",
       "  </tbody>\n",
       "</table>\n",
       "</div>"
      ],
      "text/plain": [
       "           Number         Age      Weight        Salary\n",
       "count  457.000000  457.000000  457.000000  4.460000e+02\n",
       "mean    17.678337   26.938731  221.522976  4.842684e+06\n",
       "std     15.966090    4.404016   26.368343  5.229238e+06\n",
       "min      0.000000   19.000000  161.000000  3.088800e+04\n",
       "25%      5.000000   24.000000  200.000000  1.044792e+06\n",
       "50%     13.000000   26.000000  220.000000  2.839073e+06\n",
       "75%     25.000000   30.000000  240.000000  6.500000e+06\n",
       "max     99.000000   40.000000  307.000000  2.500000e+07"
      ]
     },
     "execution_count": 6,
     "metadata": {},
     "output_type": "execute_result"
    }
   ],
   "source": [
    "data.describe()"
   ]
  },
  {
   "cell_type": "code",
   "execution_count": 7,
   "metadata": {},
   "outputs": [
    {
     "data": {
      "text/plain": [
       "(457, 9)"
      ]
     },
     "execution_count": 7,
     "metadata": {},
     "output_type": "execute_result"
    }
   ],
   "source": [
    "data.shape"
   ]
  },
  {
   "cell_type": "code",
   "execution_count": 8,
   "metadata": {},
   "outputs": [
    {
     "data": {
      "text/plain": [
       "Index(['Name', 'Team', 'Number', 'Position', 'Age', 'DOJ', 'Weight', 'College',\n",
       "       'Salary'],\n",
       "      dtype='object')"
      ]
     },
     "execution_count": 8,
     "metadata": {},
     "output_type": "execute_result"
    }
   ],
   "source": [
    "data.columns"
   ]
  },
  {
   "cell_type": "code",
   "execution_count": 10,
   "metadata": {},
   "outputs": [
    {
     "data": {
      "text/plain": [
       "Name         0\n",
       "Team         0\n",
       "Number       0\n",
       "Position     0\n",
       "Age          0\n",
       "DOJ          0\n",
       "Weight       0\n",
       "College     84\n",
       "Salary      11\n",
       "dtype: int64"
      ]
     },
     "execution_count": 10,
     "metadata": {},
     "output_type": "execute_result"
    }
   ],
   "source": [
    "data.isnull().sum()"
   ]
  },
  {
   "cell_type": "code",
   "execution_count": 13,
   "metadata": {},
   "outputs": [],
   "source": [
    "data=data.drop('College',axis=1)"
   ]
  },
  {
   "cell_type": "code",
   "execution_count": 14,
   "metadata": {},
   "outputs": [
    {
     "data": {
      "text/html": [
       "<div>\n",
       "<style scoped>\n",
       "    .dataframe tbody tr th:only-of-type {\n",
       "        vertical-align: middle;\n",
       "    }\n",
       "\n",
       "    .dataframe tbody tr th {\n",
       "        vertical-align: top;\n",
       "    }\n",
       "\n",
       "    .dataframe thead th {\n",
       "        text-align: right;\n",
       "    }\n",
       "</style>\n",
       "<table border=\"1\" class=\"dataframe\">\n",
       "  <thead>\n",
       "    <tr style=\"text-align: right;\">\n",
       "      <th></th>\n",
       "      <th>Name</th>\n",
       "      <th>Team</th>\n",
       "      <th>Number</th>\n",
       "      <th>Position</th>\n",
       "      <th>Age</th>\n",
       "      <th>DOJ</th>\n",
       "      <th>Weight</th>\n",
       "      <th>Salary</th>\n",
       "    </tr>\n",
       "  </thead>\n",
       "  <tbody>\n",
       "    <tr>\n",
       "      <th>0</th>\n",
       "      <td>Avery Bradley</td>\n",
       "      <td>Boston Celtics</td>\n",
       "      <td>0</td>\n",
       "      <td>PG</td>\n",
       "      <td>25</td>\n",
       "      <td>06-Feb</td>\n",
       "      <td>180</td>\n",
       "      <td>7730337.0</td>\n",
       "    </tr>\n",
       "    <tr>\n",
       "      <th>1</th>\n",
       "      <td>Jae Crowder</td>\n",
       "      <td>Boston Celtics</td>\n",
       "      <td>99</td>\n",
       "      <td>SF</td>\n",
       "      <td>25</td>\n",
       "      <td>06-Jun</td>\n",
       "      <td>235</td>\n",
       "      <td>6796117.0</td>\n",
       "    </tr>\n",
       "    <tr>\n",
       "      <th>2</th>\n",
       "      <td>John Holland</td>\n",
       "      <td>Boston Celtics</td>\n",
       "      <td>30</td>\n",
       "      <td>SG</td>\n",
       "      <td>27</td>\n",
       "      <td>06-May</td>\n",
       "      <td>205</td>\n",
       "      <td>NaN</td>\n",
       "    </tr>\n",
       "    <tr>\n",
       "      <th>3</th>\n",
       "      <td>R.J. Hunter</td>\n",
       "      <td>Boston Celtics</td>\n",
       "      <td>28</td>\n",
       "      <td>SG</td>\n",
       "      <td>22</td>\n",
       "      <td>06-May</td>\n",
       "      <td>185</td>\n",
       "      <td>1148640.0</td>\n",
       "    </tr>\n",
       "    <tr>\n",
       "      <th>4</th>\n",
       "      <td>Jonas Jerebko</td>\n",
       "      <td>Boston Celtics</td>\n",
       "      <td>8</td>\n",
       "      <td>PF</td>\n",
       "      <td>29</td>\n",
       "      <td>06-Oct</td>\n",
       "      <td>231</td>\n",
       "      <td>5000000.0</td>\n",
       "    </tr>\n",
       "  </tbody>\n",
       "</table>\n",
       "</div>"
      ],
      "text/plain": [
       "            Name            Team  Number Position  Age     DOJ  Weight  \\\n",
       "0  Avery Bradley  Boston Celtics       0       PG   25  06-Feb     180   \n",
       "1    Jae Crowder  Boston Celtics      99       SF   25  06-Jun     235   \n",
       "2   John Holland  Boston Celtics      30       SG   27  06-May     205   \n",
       "3    R.J. Hunter  Boston Celtics      28       SG   22  06-May     185   \n",
       "4  Jonas Jerebko  Boston Celtics       8       PF   29  06-Oct     231   \n",
       "\n",
       "      Salary  \n",
       "0  7730337.0  \n",
       "1  6796117.0  \n",
       "2        NaN  \n",
       "3  1148640.0  \n",
       "4  5000000.0  "
      ]
     },
     "execution_count": 14,
     "metadata": {},
     "output_type": "execute_result"
    }
   ],
   "source": [
    "data.head()"
   ]
  },
  {
   "cell_type": "code",
   "execution_count": 15,
   "metadata": {},
   "outputs": [],
   "source": [
    "data=data.drop('Name',axis=1)"
   ]
  },
  {
   "cell_type": "code",
   "execution_count": 16,
   "metadata": {},
   "outputs": [
    {
     "data": {
      "text/html": [
       "<div>\n",
       "<style scoped>\n",
       "    .dataframe tbody tr th:only-of-type {\n",
       "        vertical-align: middle;\n",
       "    }\n",
       "\n",
       "    .dataframe tbody tr th {\n",
       "        vertical-align: top;\n",
       "    }\n",
       "\n",
       "    .dataframe thead th {\n",
       "        text-align: right;\n",
       "    }\n",
       "</style>\n",
       "<table border=\"1\" class=\"dataframe\">\n",
       "  <thead>\n",
       "    <tr style=\"text-align: right;\">\n",
       "      <th></th>\n",
       "      <th>Team</th>\n",
       "      <th>Number</th>\n",
       "      <th>Position</th>\n",
       "      <th>Age</th>\n",
       "      <th>DOJ</th>\n",
       "      <th>Weight</th>\n",
       "      <th>Salary</th>\n",
       "    </tr>\n",
       "  </thead>\n",
       "  <tbody>\n",
       "    <tr>\n",
       "      <th>0</th>\n",
       "      <td>Boston Celtics</td>\n",
       "      <td>0</td>\n",
       "      <td>PG</td>\n",
       "      <td>25</td>\n",
       "      <td>06-Feb</td>\n",
       "      <td>180</td>\n",
       "      <td>7730337.0</td>\n",
       "    </tr>\n",
       "    <tr>\n",
       "      <th>1</th>\n",
       "      <td>Boston Celtics</td>\n",
       "      <td>99</td>\n",
       "      <td>SF</td>\n",
       "      <td>25</td>\n",
       "      <td>06-Jun</td>\n",
       "      <td>235</td>\n",
       "      <td>6796117.0</td>\n",
       "    </tr>\n",
       "    <tr>\n",
       "      <th>2</th>\n",
       "      <td>Boston Celtics</td>\n",
       "      <td>30</td>\n",
       "      <td>SG</td>\n",
       "      <td>27</td>\n",
       "      <td>06-May</td>\n",
       "      <td>205</td>\n",
       "      <td>NaN</td>\n",
       "    </tr>\n",
       "    <tr>\n",
       "      <th>3</th>\n",
       "      <td>Boston Celtics</td>\n",
       "      <td>28</td>\n",
       "      <td>SG</td>\n",
       "      <td>22</td>\n",
       "      <td>06-May</td>\n",
       "      <td>185</td>\n",
       "      <td>1148640.0</td>\n",
       "    </tr>\n",
       "    <tr>\n",
       "      <th>4</th>\n",
       "      <td>Boston Celtics</td>\n",
       "      <td>8</td>\n",
       "      <td>PF</td>\n",
       "      <td>29</td>\n",
       "      <td>06-Oct</td>\n",
       "      <td>231</td>\n",
       "      <td>5000000.0</td>\n",
       "    </tr>\n",
       "  </tbody>\n",
       "</table>\n",
       "</div>"
      ],
      "text/plain": [
       "             Team  Number Position  Age     DOJ  Weight     Salary\n",
       "0  Boston Celtics       0       PG   25  06-Feb     180  7730337.0\n",
       "1  Boston Celtics      99       SF   25  06-Jun     235  6796117.0\n",
       "2  Boston Celtics      30       SG   27  06-May     205        NaN\n",
       "3  Boston Celtics      28       SG   22  06-May     185  1148640.0\n",
       "4  Boston Celtics       8       PF   29  06-Oct     231  5000000.0"
      ]
     },
     "execution_count": 16,
     "metadata": {},
     "output_type": "execute_result"
    }
   ],
   "source": [
    "data.head()"
   ]
  },
  {
   "cell_type": "code",
   "execution_count": 18,
   "metadata": {},
   "outputs": [],
   "source": [
    "data=data.drop('Team',axis=1)"
   ]
  },
  {
   "cell_type": "code",
   "execution_count": 19,
   "metadata": {},
   "outputs": [
    {
     "data": {
      "text/html": [
       "<div>\n",
       "<style scoped>\n",
       "    .dataframe tbody tr th:only-of-type {\n",
       "        vertical-align: middle;\n",
       "    }\n",
       "\n",
       "    .dataframe tbody tr th {\n",
       "        vertical-align: top;\n",
       "    }\n",
       "\n",
       "    .dataframe thead th {\n",
       "        text-align: right;\n",
       "    }\n",
       "</style>\n",
       "<table border=\"1\" class=\"dataframe\">\n",
       "  <thead>\n",
       "    <tr style=\"text-align: right;\">\n",
       "      <th></th>\n",
       "      <th>Number</th>\n",
       "      <th>Position</th>\n",
       "      <th>Age</th>\n",
       "      <th>DOJ</th>\n",
       "      <th>Weight</th>\n",
       "      <th>Salary</th>\n",
       "    </tr>\n",
       "  </thead>\n",
       "  <tbody>\n",
       "    <tr>\n",
       "      <th>0</th>\n",
       "      <td>0</td>\n",
       "      <td>PG</td>\n",
       "      <td>25</td>\n",
       "      <td>06-Feb</td>\n",
       "      <td>180</td>\n",
       "      <td>7730337.0</td>\n",
       "    </tr>\n",
       "    <tr>\n",
       "      <th>1</th>\n",
       "      <td>99</td>\n",
       "      <td>SF</td>\n",
       "      <td>25</td>\n",
       "      <td>06-Jun</td>\n",
       "      <td>235</td>\n",
       "      <td>6796117.0</td>\n",
       "    </tr>\n",
       "    <tr>\n",
       "      <th>2</th>\n",
       "      <td>30</td>\n",
       "      <td>SG</td>\n",
       "      <td>27</td>\n",
       "      <td>06-May</td>\n",
       "      <td>205</td>\n",
       "      <td>NaN</td>\n",
       "    </tr>\n",
       "    <tr>\n",
       "      <th>3</th>\n",
       "      <td>28</td>\n",
       "      <td>SG</td>\n",
       "      <td>22</td>\n",
       "      <td>06-May</td>\n",
       "      <td>185</td>\n",
       "      <td>1148640.0</td>\n",
       "    </tr>\n",
       "    <tr>\n",
       "      <th>4</th>\n",
       "      <td>8</td>\n",
       "      <td>PF</td>\n",
       "      <td>29</td>\n",
       "      <td>06-Oct</td>\n",
       "      <td>231</td>\n",
       "      <td>5000000.0</td>\n",
       "    </tr>\n",
       "  </tbody>\n",
       "</table>\n",
       "</div>"
      ],
      "text/plain": [
       "   Number Position  Age     DOJ  Weight     Salary\n",
       "0       0       PG   25  06-Feb     180  7730337.0\n",
       "1      99       SF   25  06-Jun     235  6796117.0\n",
       "2      30       SG   27  06-May     205        NaN\n",
       "3      28       SG   22  06-May     185  1148640.0\n",
       "4       8       PF   29  06-Oct     231  5000000.0"
      ]
     },
     "execution_count": 19,
     "metadata": {},
     "output_type": "execute_result"
    }
   ],
   "source": [
    "data.head()"
   ]
  },
  {
   "cell_type": "code",
   "execution_count": 20,
   "metadata": {},
   "outputs": [
    {
     "data": {
      "text/plain": [
       "SG    102\n",
       "PF    100\n",
       "PG     92\n",
       "SF     85\n",
       "C      78\n",
       "Name: Position, dtype: int64"
      ]
     },
     "execution_count": 20,
     "metadata": {},
     "output_type": "execute_result"
    }
   ],
   "source": [
    "data['Position'].value_counts()"
   ]
  },
  {
   "cell_type": "code",
   "execution_count": 21,
   "metadata": {},
   "outputs": [
    {
     "data": {
      "text/html": [
       "<div>\n",
       "<style scoped>\n",
       "    .dataframe tbody tr th:only-of-type {\n",
       "        vertical-align: middle;\n",
       "    }\n",
       "\n",
       "    .dataframe tbody tr th {\n",
       "        vertical-align: top;\n",
       "    }\n",
       "\n",
       "    .dataframe thead th {\n",
       "        text-align: right;\n",
       "    }\n",
       "</style>\n",
       "<table border=\"1\" class=\"dataframe\">\n",
       "  <thead>\n",
       "    <tr style=\"text-align: right;\">\n",
       "      <th></th>\n",
       "      <th>Number</th>\n",
       "      <th>Position</th>\n",
       "      <th>Age</th>\n",
       "      <th>DOJ</th>\n",
       "      <th>Weight</th>\n",
       "      <th>Salary</th>\n",
       "    </tr>\n",
       "  </thead>\n",
       "  <tbody>\n",
       "    <tr>\n",
       "      <th>2</th>\n",
       "      <td>30</td>\n",
       "      <td>SG</td>\n",
       "      <td>27</td>\n",
       "      <td>06-May</td>\n",
       "      <td>205</td>\n",
       "      <td>NaN</td>\n",
       "    </tr>\n",
       "    <tr>\n",
       "      <th>46</th>\n",
       "      <td>42</td>\n",
       "      <td>PF</td>\n",
       "      <td>37</td>\n",
       "      <td>06-Sep</td>\n",
       "      <td>254</td>\n",
       "      <td>NaN</td>\n",
       "    </tr>\n",
       "    <tr>\n",
       "      <th>171</th>\n",
       "      <td>30</td>\n",
       "      <td>SG</td>\n",
       "      <td>35</td>\n",
       "      <td>06-Jun</td>\n",
       "      <td>225</td>\n",
       "      <td>NaN</td>\n",
       "    </tr>\n",
       "    <tr>\n",
       "      <th>264</th>\n",
       "      <td>4</td>\n",
       "      <td>PG</td>\n",
       "      <td>29</td>\n",
       "      <td>06-Feb</td>\n",
       "      <td>180</td>\n",
       "      <td>NaN</td>\n",
       "    </tr>\n",
       "    <tr>\n",
       "      <th>269</th>\n",
       "      <td>5</td>\n",
       "      <td>PG</td>\n",
       "      <td>24</td>\n",
       "      <td>06-Mar</td>\n",
       "      <td>190</td>\n",
       "      <td>NaN</td>\n",
       "    </tr>\n",
       "    <tr>\n",
       "      <th>270</th>\n",
       "      <td>14</td>\n",
       "      <td>PG</td>\n",
       "      <td>24</td>\n",
       "      <td>06-Mar</td>\n",
       "      <td>180</td>\n",
       "      <td>NaN</td>\n",
       "    </tr>\n",
       "    <tr>\n",
       "      <th>273</th>\n",
       "      <td>35</td>\n",
       "      <td>PF</td>\n",
       "      <td>28</td>\n",
       "      <td>06-Oct</td>\n",
       "      <td>270</td>\n",
       "      <td>NaN</td>\n",
       "    </tr>\n",
       "    <tr>\n",
       "      <th>350</th>\n",
       "      <td>12</td>\n",
       "      <td>PG</td>\n",
       "      <td>23</td>\n",
       "      <td>06-Feb</td>\n",
       "      <td>165</td>\n",
       "      <td>NaN</td>\n",
       "    </tr>\n",
       "    <tr>\n",
       "      <th>353</th>\n",
       "      <td>11</td>\n",
       "      <td>SF</td>\n",
       "      <td>30</td>\n",
       "      <td>06-Sep</td>\n",
       "      <td>205</td>\n",
       "      <td>NaN</td>\n",
       "    </tr>\n",
       "    <tr>\n",
       "      <th>397</th>\n",
       "      <td>6</td>\n",
       "      <td>SG</td>\n",
       "      <td>23</td>\n",
       "      <td>06-Jul</td>\n",
       "      <td>210</td>\n",
       "      <td>NaN</td>\n",
       "    </tr>\n",
       "    <tr>\n",
       "      <th>409</th>\n",
       "      <td>4</td>\n",
       "      <td>PF</td>\n",
       "      <td>25</td>\n",
       "      <td>06-Oct</td>\n",
       "      <td>250</td>\n",
       "      <td>NaN</td>\n",
       "    </tr>\n",
       "  </tbody>\n",
       "</table>\n",
       "</div>"
      ],
      "text/plain": [
       "     Number Position  Age     DOJ  Weight  Salary\n",
       "2        30       SG   27  06-May     205     NaN\n",
       "46       42       PF   37  06-Sep     254     NaN\n",
       "171      30       SG   35  06-Jun     225     NaN\n",
       "264       4       PG   29  06-Feb     180     NaN\n",
       "269       5       PG   24  06-Mar     190     NaN\n",
       "270      14       PG   24  06-Mar     180     NaN\n",
       "273      35       PF   28  06-Oct     270     NaN\n",
       "350      12       PG   23  06-Feb     165     NaN\n",
       "353      11       SF   30  06-Sep     205     NaN\n",
       "397       6       SG   23  06-Jul     210     NaN\n",
       "409       4       PF   25  06-Oct     250     NaN"
      ]
     },
     "execution_count": 21,
     "metadata": {},
     "output_type": "execute_result"
    }
   ],
   "source": [
    "data[data.Salary.isnull()]"
   ]
  },
  {
   "cell_type": "code",
   "execution_count": 22,
   "metadata": {},
   "outputs": [],
   "source": [
    "data.fillna(data['Salary'].mean(),inplace=True)"
   ]
  },
  {
   "cell_type": "code",
   "execution_count": 23,
   "metadata": {},
   "outputs": [
    {
     "data": {
      "text/plain": [
       "0"
      ]
     },
     "execution_count": 23,
     "metadata": {},
     "output_type": "execute_result"
    }
   ],
   "source": [
    "data['Salary'].isnull().sum()"
   ]
  },
  {
   "cell_type": "code",
   "execution_count": 24,
   "metadata": {},
   "outputs": [],
   "source": [
    "data=data.drop('DOJ',axis=1)"
   ]
  },
  {
   "cell_type": "code",
   "execution_count": 25,
   "metadata": {},
   "outputs": [
    {
     "name": "stdout",
     "output_type": "stream",
     "text": [
      "<class 'pandas.core.frame.DataFrame'>\n",
      "RangeIndex: 457 entries, 0 to 456\n",
      "Data columns (total 5 columns):\n",
      " #   Column    Non-Null Count  Dtype  \n",
      "---  ------    --------------  -----  \n",
      " 0   Number    457 non-null    int64  \n",
      " 1   Position  457 non-null    object \n",
      " 2   Age       457 non-null    int64  \n",
      " 3   Weight    457 non-null    int64  \n",
      " 4   Salary    457 non-null    float64\n",
      "dtypes: float64(1), int64(3), object(1)\n",
      "memory usage: 18.0+ KB\n"
     ]
    }
   ],
   "source": [
    "data.info()"
   ]
  },
  {
   "cell_type": "code",
   "execution_count": 26,
   "metadata": {},
   "outputs": [
    {
     "name": "stdout",
     "output_type": "stream",
     "text": [
      "['PG' 'SF' 'SG' 'PF' 'C']\n"
     ]
    }
   ],
   "source": [
    "print(data['Position'].unique())"
   ]
  },
  {
   "cell_type": "code",
   "execution_count": 27,
   "metadata": {},
   "outputs": [],
   "source": [
    "from sklearn.preprocessing import LabelEncoder\n",
    "lr=LabelEncoder()"
   ]
  },
  {
   "cell_type": "code",
   "execution_count": 28,
   "metadata": {},
   "outputs": [
    {
     "data": {
      "text/plain": [
       "Number        int64\n",
       "Position     object\n",
       "Age           int64\n",
       "Weight        int64\n",
       "Salary      float64\n",
       "dtype: object"
      ]
     },
     "execution_count": 28,
     "metadata": {},
     "output_type": "execute_result"
    }
   ],
   "source": [
    "data.dtypes"
   ]
  },
  {
   "cell_type": "code",
   "execution_count": 29,
   "metadata": {},
   "outputs": [],
   "source": [
    "data.iloc[:,1]=lr.fit_transform(data.iloc[:,1].values)"
   ]
  },
  {
   "cell_type": "code",
   "execution_count": 30,
   "metadata": {},
   "outputs": [
    {
     "name": "stdout",
     "output_type": "stream",
     "text": [
      "[2 3 4 1 0]\n"
     ]
    }
   ],
   "source": [
    "\n",
    "print(data['Position'].unique())"
   ]
  },
  {
   "cell_type": "code",
   "execution_count": 31,
   "metadata": {},
   "outputs": [
    {
     "data": {
      "text/html": [
       "<div>\n",
       "<style scoped>\n",
       "    .dataframe tbody tr th:only-of-type {\n",
       "        vertical-align: middle;\n",
       "    }\n",
       "\n",
       "    .dataframe tbody tr th {\n",
       "        vertical-align: top;\n",
       "    }\n",
       "\n",
       "    .dataframe thead th {\n",
       "        text-align: right;\n",
       "    }\n",
       "</style>\n",
       "<table border=\"1\" class=\"dataframe\">\n",
       "  <thead>\n",
       "    <tr style=\"text-align: right;\">\n",
       "      <th></th>\n",
       "      <th>Number</th>\n",
       "      <th>Position</th>\n",
       "      <th>Age</th>\n",
       "      <th>Weight</th>\n",
       "      <th>Salary</th>\n",
       "    </tr>\n",
       "  </thead>\n",
       "  <tbody>\n",
       "    <tr>\n",
       "      <th>0</th>\n",
       "      <td>0</td>\n",
       "      <td>2</td>\n",
       "      <td>25</td>\n",
       "      <td>180</td>\n",
       "      <td>7.730337e+06</td>\n",
       "    </tr>\n",
       "    <tr>\n",
       "      <th>1</th>\n",
       "      <td>99</td>\n",
       "      <td>3</td>\n",
       "      <td>25</td>\n",
       "      <td>235</td>\n",
       "      <td>6.796117e+06</td>\n",
       "    </tr>\n",
       "    <tr>\n",
       "      <th>2</th>\n",
       "      <td>30</td>\n",
       "      <td>4</td>\n",
       "      <td>27</td>\n",
       "      <td>205</td>\n",
       "      <td>4.842684e+06</td>\n",
       "    </tr>\n",
       "    <tr>\n",
       "      <th>3</th>\n",
       "      <td>28</td>\n",
       "      <td>4</td>\n",
       "      <td>22</td>\n",
       "      <td>185</td>\n",
       "      <td>1.148640e+06</td>\n",
       "    </tr>\n",
       "    <tr>\n",
       "      <th>4</th>\n",
       "      <td>8</td>\n",
       "      <td>1</td>\n",
       "      <td>29</td>\n",
       "      <td>231</td>\n",
       "      <td>5.000000e+06</td>\n",
       "    </tr>\n",
       "  </tbody>\n",
       "</table>\n",
       "</div>"
      ],
      "text/plain": [
       "   Number  Position  Age  Weight        Salary\n",
       "0       0         2   25     180  7.730337e+06\n",
       "1      99         3   25     235  6.796117e+06\n",
       "2      30         4   27     205  4.842684e+06\n",
       "3      28         4   22     185  1.148640e+06\n",
       "4       8         1   29     231  5.000000e+06"
      ]
     },
     "execution_count": 31,
     "metadata": {},
     "output_type": "execute_result"
    }
   ],
   "source": [
    "data.head()"
   ]
  },
  {
   "cell_type": "code",
   "execution_count": 32,
   "metadata": {},
   "outputs": [
    {
     "name": "stdout",
     "output_type": "stream",
     "text": [
      "(457, 5)\n",
      "(443, 5)\n"
     ]
    }
   ],
   "source": [
    "from scipy.stats import zscore\n",
    "z_score=abs(zscore(data))\n",
    "print(data.shape)\n",
    "data_final=data.loc[(z_score<3).all(axis=1)]\n",
    "print(data_final.shape)"
   ]
  },
  {
   "cell_type": "code",
   "execution_count": 33,
   "metadata": {},
   "outputs": [
    {
     "data": {
      "text/plain": [
       "Number      1.668386\n",
       "Position   -0.014795\n",
       "Age         0.626349\n",
       "Weight      0.113788\n",
       "Salary      1.595511\n",
       "dtype: float64"
      ]
     },
     "execution_count": 33,
     "metadata": {},
     "output_type": "execute_result"
    }
   ],
   "source": [
    "data.skew()"
   ]
  },
  {
   "cell_type": "code",
   "execution_count": 34,
   "metadata": {},
   "outputs": [
    {
     "data": {
      "image/png": "[encoded data removed]",
      "text/plain": [
       "<Figure size 432x288 with 1 Axes>"
      ]
     },
     "metadata": {
      "needs_background": "light"
     },
     "output_type": "display_data"
    }
   ],
   "source": [
    "plt.hist(x='Salary',bins=10,data=data)\n",
    "plt.show()"
   ]
  },
  {
   "cell_type": "code",
   "execution_count": 35,
   "metadata": {},
   "outputs": [],
   "source": [
    "X=data.drop('Salary',axis=1)\n",
    "y=data['Salary']"
   ]
  },
  {
   "cell_type": "code",
   "execution_count": 36,
   "metadata": {},
   "outputs": [
    {
     "data": {
      "text/plain": [
       "0.05294535412809283"
      ]
     },
     "execution_count": 36,
     "metadata": {},
     "output_type": "execute_result"
    }
   ],
   "source": [
    "from sklearn import linear_model\n",
    "from sklearn.model_selection import cross_val_score\n",
    "cross_val_score(linear_model.LinearRegression(),X,y,cv=5,scoring='r2').mean()"
   ]
  },
  {
   "cell_type": "code",
   "execution_count": 37,
   "metadata": {},
   "outputs": [],
   "source": [
    "from sklearn.model_selection import train_test_split\n",
    "X_train,X_test,y_train,y_test=train_test_split(X,y,test_size=0.20,random_state=42)\n",
    "lr=linear_model.LinearRegression()\n",
    "lr.fit(X_train,y_train)\n",
    "predm=lr.predict(X_test)"
   ]
  },
  {
   "cell_type": "code",
   "execution_count": 38,
   "metadata": {},
   "outputs": [
    {
     "name": "stdout",
     "output_type": "stream",
     "text": [
      "r2 score: -0.012863937002104198\n",
      "RMSE is: 5464422.5806776555\n"
     ]
    }
   ],
   "source": [
    "from sklearn.metrics import mean_squared_error\n",
    "from sklearn.metrics import r2_score\n",
    "print('r2 score:',r2_score(y_test,predm))\n",
    "print('RMSE is:',np.sqrt(mean_squared_error(y_test,predm)))"
   ]
  },
  {
   "cell_type": "code",
   "execution_count": 39,
   "metadata": {},
   "outputs": [
    {
     "data": {
      "text/plain": [
       "['MNC_Salaries_joblib']"
      ]
     },
     "execution_count": 39,
     "metadata": {},
     "output_type": "execute_result"
    }
   ],
   "source": [
    "import joblib\n",
    "joblib.dump(data,'MNC_Salaries_joblib')"
   ]
  },
  {
   "cell_type": "code",
   "execution_count": 40,
   "metadata": {},
   "outputs": [
    {
     "data": {
      "text/plain": [
       "'C:\\\\Users\\\\Scp'"
      ]
     },
     "execution_count": 40,
     "metadata": {},
     "output_type": "execute_result"
    }
   ],
   "source": [
    "import os\n",
    "cwd=os.getcwd()\n",
    "cwd"
   ]
  },
  {
   "cell_type": "code",
   "execution_count": null,
   "metadata": {},
   "outputs": [],
   "source": []
  }
 ],
 "metadata": {
  "kernelspec": {
   "display_name": "Python 3",
   "language": "python",
   "name": "python3"
  },
  "language_info": {
   "codemirror_mode": {
    "name": "ipython",
    "version": 3
   },
   "file_extension": ".py",
   "mimetype": "text/x-python",
   "name": "python",
   "nbconvert_exporter": "python",
   "pygments_lexer": "ipython3",
   "version": "3.7.6"
  }
 },
 "nbformat": 4,
 "nbformat_minor": 4
}
