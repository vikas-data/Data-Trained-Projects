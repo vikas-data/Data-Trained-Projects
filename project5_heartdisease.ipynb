{
 "cells": [
  {
   "cell_type": "markdown",
   "metadata": {},
   "source": [
    "# Heart Disease ML Project"
   ]
  },
  {
   "cell_type": "markdown",
   "metadata": {},
   "source": [
    "OBSERVATION: Data Set Information: This database contains 14 attributes . In particular, the Cleveland database is the only one that has been used by ML researchers to this date. The \"goal\" field refers to the presence of heart disease in the patient. It is integer valued from 0 (no presence) to 4. Experiments with the Cleveland database have concentrated on simply attempting to distinguish presence (values 1,2,3,4) from absence (value 0). Only 14 attributes used: 1.(age) 2.(sex) 3.(cp) 4.(trestbps) 5.(chol) 6.(fbs) 7.(restecg) 8.(thalach) 9.(exang) 10.(oldpeak) 11.(slope) 12.(ca) 13.(thal) 14.(num) (the predicted attribute)"
   ]
  },
  {
   "cell_type": "code",
   "execution_count": 1,
   "metadata": {},
   "outputs": [],
   "source": [
    "# importing esential libraries :\n",
    "import numpy as np\n",
    "import pandas as pd\n",
    "import seaborn as sns\n",
    "import matplotlib.pyplot as plt"
   ]
  },
  {
   "cell_type": "code",
   "execution_count": 2,
   "metadata": {},
   "outputs": [],
   "source": [
    "# loading the given dataset :\n",
    "data=pd.read_csv('heartdisease_data.csv')"
   ]
  },
  {
   "cell_type": "code",
   "execution_count": 3,
   "metadata": {},
   "outputs": [
    {
     "data": {
      "text/html": [
       "<div>\n",
       "<style scoped>\n",
       "    .dataframe tbody tr th:only-of-type {\n",
       "        vertical-align: middle;\n",
       "    }\n",
       "\n",
       "    .dataframe tbody tr th {\n",
       "        vertical-align: top;\n",
       "    }\n",
       "\n",
       "    .dataframe thead th {\n",
       "        text-align: right;\n",
       "    }\n",
       "</style>\n",
       "<table border=\"1\" class=\"dataframe\">\n",
       "  <thead>\n",
       "    <tr style=\"text-align: right;\">\n",
       "      <th></th>\n",
       "      <th>age</th>\n",
       "      <th>sex</th>\n",
       "      <th>cp</th>\n",
       "      <th>testbps</th>\n",
       "      <th>chol</th>\n",
       "      <th>fbs</th>\n",
       "      <th>restecg</th>\n",
       "      <th>thalach</th>\n",
       "      <th>exang</th>\n",
       "      <th>oldpeak</th>\n",
       "      <th>slope</th>\n",
       "      <th>ca</th>\n",
       "      <th>thal</th>\n",
       "      <th>num</th>\n",
       "    </tr>\n",
       "  </thead>\n",
       "  <tbody>\n",
       "    <tr>\n",
       "      <th>0</th>\n",
       "      <td>63</td>\n",
       "      <td>1</td>\n",
       "      <td>4</td>\n",
       "      <td>140</td>\n",
       "      <td>260</td>\n",
       "      <td>0</td>\n",
       "      <td>1</td>\n",
       "      <td>112</td>\n",
       "      <td>1</td>\n",
       "      <td>3</td>\n",
       "      <td>2</td>\n",
       "      <td>?</td>\n",
       "      <td>?</td>\n",
       "      <td>2</td>\n",
       "    </tr>\n",
       "    <tr>\n",
       "      <th>1</th>\n",
       "      <td>44</td>\n",
       "      <td>1</td>\n",
       "      <td>4</td>\n",
       "      <td>130</td>\n",
       "      <td>209</td>\n",
       "      <td>0</td>\n",
       "      <td>1</td>\n",
       "      <td>127</td>\n",
       "      <td>0</td>\n",
       "      <td>0</td>\n",
       "      <td>?</td>\n",
       "      <td>?</td>\n",
       "      <td>?</td>\n",
       "      <td>0</td>\n",
       "    </tr>\n",
       "    <tr>\n",
       "      <th>2</th>\n",
       "      <td>60</td>\n",
       "      <td>1</td>\n",
       "      <td>4</td>\n",
       "      <td>132</td>\n",
       "      <td>218</td>\n",
       "      <td>0</td>\n",
       "      <td>1</td>\n",
       "      <td>140</td>\n",
       "      <td>1</td>\n",
       "      <td>1.5</td>\n",
       "      <td>3</td>\n",
       "      <td>?</td>\n",
       "      <td>?</td>\n",
       "      <td>2</td>\n",
       "    </tr>\n",
       "    <tr>\n",
       "      <th>3</th>\n",
       "      <td>55</td>\n",
       "      <td>1</td>\n",
       "      <td>4</td>\n",
       "      <td>142</td>\n",
       "      <td>228</td>\n",
       "      <td>0</td>\n",
       "      <td>1</td>\n",
       "      <td>149</td>\n",
       "      <td>1</td>\n",
       "      <td>2.5</td>\n",
       "      <td>1</td>\n",
       "      <td>?</td>\n",
       "      <td>?</td>\n",
       "      <td>1</td>\n",
       "    </tr>\n",
       "    <tr>\n",
       "      <th>4</th>\n",
       "      <td>66</td>\n",
       "      <td>1</td>\n",
       "      <td>3</td>\n",
       "      <td>110</td>\n",
       "      <td>213</td>\n",
       "      <td>1</td>\n",
       "      <td>2</td>\n",
       "      <td>99</td>\n",
       "      <td>1</td>\n",
       "      <td>1.3</td>\n",
       "      <td>2</td>\n",
       "      <td>?</td>\n",
       "      <td>?</td>\n",
       "      <td>0</td>\n",
       "    </tr>\n",
       "  </tbody>\n",
       "</table>\n",
       "</div>"
      ],
      "text/plain": [
       "   age  sex  cp testbps chol fbs  restecg thalach exang oldpeak slope ca thal  \\\n",
       "0   63    1   4     140  260   0        1     112     1       3     2  ?    ?   \n",
       "1   44    1   4     130  209   0        1     127     0       0     ?  ?    ?   \n",
       "2   60    1   4     132  218   0        1     140     1     1.5     3  ?    ?   \n",
       "3   55    1   4     142  228   0        1     149     1     2.5     1  ?    ?   \n",
       "4   66    1   3     110  213   1        2      99     1     1.3     2  ?    ?   \n",
       "\n",
       "   num  \n",
       "0    2  \n",
       "1    0  \n",
       "2    2  \n",
       "3    1  \n",
       "4    0  "
      ]
     },
     "execution_count": 3,
     "metadata": {},
     "output_type": "execute_result"
    }
   ],
   "source": [
    "data.head()"
   ]
  },
  {
   "cell_type": "code",
   "execution_count": 4,
   "metadata": {},
   "outputs": [
    {
     "data": {
      "text/html": [
       "<div>\n",
       "<style scoped>\n",
       "    .dataframe tbody tr th:only-of-type {\n",
       "        vertical-align: middle;\n",
       "    }\n",
       "\n",
       "    .dataframe tbody tr th {\n",
       "        vertical-align: top;\n",
       "    }\n",
       "\n",
       "    .dataframe thead th {\n",
       "        text-align: right;\n",
       "    }\n",
       "</style>\n",
       "<table border=\"1\" class=\"dataframe\">\n",
       "  <thead>\n",
       "    <tr style=\"text-align: right;\">\n",
       "      <th></th>\n",
       "      <th>age</th>\n",
       "      <th>sex</th>\n",
       "      <th>cp</th>\n",
       "      <th>testbps</th>\n",
       "      <th>chol</th>\n",
       "      <th>fbs</th>\n",
       "      <th>restecg</th>\n",
       "      <th>thalach</th>\n",
       "      <th>exang</th>\n",
       "      <th>oldpeak</th>\n",
       "      <th>slope</th>\n",
       "      <th>ca</th>\n",
       "      <th>thal</th>\n",
       "      <th>num</th>\n",
       "    </tr>\n",
       "  </thead>\n",
       "  <tbody>\n",
       "    <tr>\n",
       "      <th>0</th>\n",
       "      <td>63</td>\n",
       "      <td>1</td>\n",
       "      <td>4</td>\n",
       "      <td>140</td>\n",
       "      <td>260</td>\n",
       "      <td>0</td>\n",
       "      <td>1</td>\n",
       "      <td>112</td>\n",
       "      <td>1</td>\n",
       "      <td>3</td>\n",
       "      <td>2</td>\n",
       "      <td>?</td>\n",
       "      <td>?</td>\n",
       "      <td>2</td>\n",
       "    </tr>\n",
       "    <tr>\n",
       "      <th>1</th>\n",
       "      <td>44</td>\n",
       "      <td>1</td>\n",
       "      <td>4</td>\n",
       "      <td>130</td>\n",
       "      <td>209</td>\n",
       "      <td>0</td>\n",
       "      <td>1</td>\n",
       "      <td>127</td>\n",
       "      <td>0</td>\n",
       "      <td>0</td>\n",
       "      <td>?</td>\n",
       "      <td>?</td>\n",
       "      <td>?</td>\n",
       "      <td>0</td>\n",
       "    </tr>\n",
       "    <tr>\n",
       "      <th>2</th>\n",
       "      <td>60</td>\n",
       "      <td>1</td>\n",
       "      <td>4</td>\n",
       "      <td>132</td>\n",
       "      <td>218</td>\n",
       "      <td>0</td>\n",
       "      <td>1</td>\n",
       "      <td>140</td>\n",
       "      <td>1</td>\n",
       "      <td>1.5</td>\n",
       "      <td>3</td>\n",
       "      <td>?</td>\n",
       "      <td>?</td>\n",
       "      <td>2</td>\n",
       "    </tr>\n",
       "    <tr>\n",
       "      <th>3</th>\n",
       "      <td>55</td>\n",
       "      <td>1</td>\n",
       "      <td>4</td>\n",
       "      <td>142</td>\n",
       "      <td>228</td>\n",
       "      <td>0</td>\n",
       "      <td>1</td>\n",
       "      <td>149</td>\n",
       "      <td>1</td>\n",
       "      <td>2.5</td>\n",
       "      <td>1</td>\n",
       "      <td>?</td>\n",
       "      <td>?</td>\n",
       "      <td>1</td>\n",
       "    </tr>\n",
       "    <tr>\n",
       "      <th>4</th>\n",
       "      <td>66</td>\n",
       "      <td>1</td>\n",
       "      <td>3</td>\n",
       "      <td>110</td>\n",
       "      <td>213</td>\n",
       "      <td>1</td>\n",
       "      <td>2</td>\n",
       "      <td>99</td>\n",
       "      <td>1</td>\n",
       "      <td>1.3</td>\n",
       "      <td>2</td>\n",
       "      <td>?</td>\n",
       "      <td>?</td>\n",
       "      <td>0</td>\n",
       "    </tr>\n",
       "  </tbody>\n",
       "</table>\n",
       "</div>"
      ],
      "text/plain": [
       "   age  sex  cp testbps chol fbs  restecg thalach exang oldpeak slope ca thal  \\\n",
       "0   63    1   4     140  260   0        1     112     1       3     2  ?    ?   \n",
       "1   44    1   4     130  209   0        1     127     0       0     ?  ?    ?   \n",
       "2   60    1   4     132  218   0        1     140     1     1.5     3  ?    ?   \n",
       "3   55    1   4     142  228   0        1     149     1     2.5     1  ?    ?   \n",
       "4   66    1   3     110  213   1        2      99     1     1.3     2  ?    ?   \n",
       "\n",
       "   num  \n",
       "0    2  \n",
       "1    0  \n",
       "2    2  \n",
       "3    1  \n",
       "4    0  "
      ]
     },
     "execution_count": 4,
     "metadata": {},
     "output_type": "execute_result"
    }
   ],
   "source": [
    "# lets check the first five records :\n",
    "data.head()"
   ]
  },
  {
   "cell_type": "code",
   "execution_count": 5,
   "metadata": {},
   "outputs": [
    {
     "data": {
      "text/html": [
       "<div>\n",
       "<style scoped>\n",
       "    .dataframe tbody tr th:only-of-type {\n",
       "        vertical-align: middle;\n",
       "    }\n",
       "\n",
       "    .dataframe tbody tr th {\n",
       "        vertical-align: top;\n",
       "    }\n",
       "\n",
       "    .dataframe thead th {\n",
       "        text-align: right;\n",
       "    }\n",
       "</style>\n",
       "<table border=\"1\" class=\"dataframe\">\n",
       "  <thead>\n",
       "    <tr style=\"text-align: right;\">\n",
       "      <th></th>\n",
       "      <th>age</th>\n",
       "      <th>sex</th>\n",
       "      <th>cp</th>\n",
       "      <th>testbps</th>\n",
       "      <th>chol</th>\n",
       "      <th>fbs</th>\n",
       "      <th>restecg</th>\n",
       "      <th>thalach</th>\n",
       "      <th>exang</th>\n",
       "      <th>oldpeak</th>\n",
       "      <th>slope</th>\n",
       "      <th>ca</th>\n",
       "      <th>thal</th>\n",
       "      <th>num</th>\n",
       "    </tr>\n",
       "  </thead>\n",
       "  <tbody>\n",
       "    <tr>\n",
       "      <th>195</th>\n",
       "      <td>54</td>\n",
       "      <td>0</td>\n",
       "      <td>4</td>\n",
       "      <td>127</td>\n",
       "      <td>333</td>\n",
       "      <td>1</td>\n",
       "      <td>1</td>\n",
       "      <td>154</td>\n",
       "      <td>0</td>\n",
       "      <td>0</td>\n",
       "      <td>?</td>\n",
       "      <td>?</td>\n",
       "      <td>?</td>\n",
       "      <td>1</td>\n",
       "    </tr>\n",
       "    <tr>\n",
       "      <th>196</th>\n",
       "      <td>62</td>\n",
       "      <td>1</td>\n",
       "      <td>1</td>\n",
       "      <td>?</td>\n",
       "      <td>139</td>\n",
       "      <td>0</td>\n",
       "      <td>1</td>\n",
       "      <td>?</td>\n",
       "      <td>?</td>\n",
       "      <td>?</td>\n",
       "      <td>?</td>\n",
       "      <td>?</td>\n",
       "      <td>?</td>\n",
       "      <td>0</td>\n",
       "    </tr>\n",
       "    <tr>\n",
       "      <th>197</th>\n",
       "      <td>55</td>\n",
       "      <td>1</td>\n",
       "      <td>4</td>\n",
       "      <td>122</td>\n",
       "      <td>223</td>\n",
       "      <td>1</td>\n",
       "      <td>1</td>\n",
       "      <td>100</td>\n",
       "      <td>0</td>\n",
       "      <td>0</td>\n",
       "      <td>?</td>\n",
       "      <td>?</td>\n",
       "      <td>6</td>\n",
       "      <td>2</td>\n",
       "    </tr>\n",
       "    <tr>\n",
       "      <th>198</th>\n",
       "      <td>58</td>\n",
       "      <td>1</td>\n",
       "      <td>4</td>\n",
       "      <td>?</td>\n",
       "      <td>385</td>\n",
       "      <td>1</td>\n",
       "      <td>2</td>\n",
       "      <td>?</td>\n",
       "      <td>?</td>\n",
       "      <td>?</td>\n",
       "      <td>?</td>\n",
       "      <td>?</td>\n",
       "      <td>?</td>\n",
       "      <td>0</td>\n",
       "    </tr>\n",
       "    <tr>\n",
       "      <th>199</th>\n",
       "      <td>62</td>\n",
       "      <td>1</td>\n",
       "      <td>2</td>\n",
       "      <td>120</td>\n",
       "      <td>254</td>\n",
       "      <td>0</td>\n",
       "      <td>2</td>\n",
       "      <td>93</td>\n",
       "      <td>1</td>\n",
       "      <td>0</td>\n",
       "      <td>?</td>\n",
       "      <td>?</td>\n",
       "      <td>?</td>\n",
       "      <td>1</td>\n",
       "    </tr>\n",
       "  </tbody>\n",
       "</table>\n",
       "</div>"
      ],
      "text/plain": [
       "     age  sex  cp testbps chol fbs  restecg thalach exang oldpeak slope ca  \\\n",
       "195   54    0   4     127  333   1        1     154     0       0     ?  ?   \n",
       "196   62    1   1       ?  139   0        1       ?     ?       ?     ?  ?   \n",
       "197   55    1   4     122  223   1        1     100     0       0     ?  ?   \n",
       "198   58    1   4       ?  385   1        2       ?     ?       ?     ?  ?   \n",
       "199   62    1   2     120  254   0        2      93     1       0     ?  ?   \n",
       "\n",
       "    thal  num  \n",
       "195    ?    1  \n",
       "196    ?    0  \n",
       "197    6    2  \n",
       "198    ?    0  \n",
       "199    ?    1  "
      ]
     },
     "execution_count": 5,
     "metadata": {},
     "output_type": "execute_result"
    }
   ],
   "source": [
    "# lets check the last five records :\n",
    "data.tail()"
   ]
  },
  {
   "cell_type": "code",
   "execution_count": 6,
   "metadata": {},
   "outputs": [
    {
     "data": {
      "text/plain": [
       "(200, 14)"
      ]
     },
     "execution_count": 6,
     "metadata": {},
     "output_type": "execute_result"
    }
   ],
   "source": [
    "# shape of the dataset (Rows and Columns) :\n",
    "data.shape"
   ]
  },
  {
   "cell_type": "code",
   "execution_count": 7,
   "metadata": {},
   "outputs": [
    {
     "name": "stdout",
     "output_type": "stream",
     "text": [
      "<class 'pandas.core.frame.DataFrame'>\n",
      "RangeIndex: 200 entries, 0 to 199\n",
      "Data columns (total 14 columns):\n",
      " #   Column   Non-Null Count  Dtype \n",
      "---  ------   --------------  ----- \n",
      " 0   age      200 non-null    int64 \n",
      " 1   sex      200 non-null    int64 \n",
      " 2   cp       200 non-null    int64 \n",
      " 3   testbps  200 non-null    object\n",
      " 4   chol     200 non-null    object\n",
      " 5   fbs      200 non-null    object\n",
      " 6   restecg  200 non-null    int64 \n",
      " 7   thalach  200 non-null    object\n",
      " 8   exang    200 non-null    object\n",
      " 9   oldpeak  200 non-null    object\n",
      " 10  slope    200 non-null    object\n",
      " 11  ca       200 non-null    object\n",
      " 12  thal     200 non-null    object\n",
      " 13  num      200 non-null    int64 \n",
      "dtypes: int64(5), object(9)\n",
      "memory usage: 22.0+ KB\n"
     ]
    }
   ],
   "source": [
    "# total information of the dataset :\n",
    "data.info()"
   ]
  },
  {
   "cell_type": "code",
   "execution_count": 8,
   "metadata": {},
   "outputs": [
    {
     "data": {
      "text/plain": [
       "age        0\n",
       "sex        0\n",
       "cp         0\n",
       "testbps    0\n",
       "chol       0\n",
       "fbs        0\n",
       "restecg    0\n",
       "thalach    0\n",
       "exang      0\n",
       "oldpeak    0\n",
       "slope      0\n",
       "ca         0\n",
       "thal       0\n",
       "num        0\n",
       "dtype: int64"
      ]
     },
     "execution_count": 8,
     "metadata": {},
     "output_type": "execute_result"
    }
   ],
   "source": [
    "# checking the null values :\n",
    "data.isnull().sum()"
   ]
  },
  {
   "cell_type": "code",
   "execution_count": 9,
   "metadata": {},
   "outputs": [
    {
     "data": {
      "text/plain": [
       "testbps    object\n",
       "chol       object\n",
       "fbs        object\n",
       "thalach    object\n",
       "exang      object\n",
       "oldpeak    object\n",
       "slope      object\n",
       "ca         object\n",
       "thal       object\n",
       "dtype: object"
      ]
     },
     "execution_count": 9,
     "metadata": {},
     "output_type": "execute_result"
    }
   ],
   "source": [
    "# here we will check the object datatypes :\n",
    "data1=data.dtypes.loc[data.dtypes=='object']\n",
    "data1"
   ]
  },
  {
   "cell_type": "code",
   "execution_count": 10,
   "metadata": {},
   "outputs": [],
   "source": [
    "# replacing the values with NaN :\n",
    "data_final=data.replace('?',np.NaN)"
   ]
  },
  {
   "cell_type": "code",
   "execution_count": 11,
   "metadata": {},
   "outputs": [
    {
     "data": {
      "text/plain": [
       "age          0\n",
       "sex          0\n",
       "cp           0\n",
       "testbps     56\n",
       "chol         7\n",
       "fbs          7\n",
       "restecg      0\n",
       "thalach     53\n",
       "exang       53\n",
       "oldpeak     56\n",
       "slope      102\n",
       "ca         198\n",
       "thal       166\n",
       "num          0\n",
       "dtype: int64"
      ]
     },
     "execution_count": 11,
     "metadata": {},
     "output_type": "execute_result"
    }
   ],
   "source": [
    "data_final.isnull().sum()"
   ]
  },
  {
   "cell_type": "code",
   "execution_count": 12,
   "metadata": {},
   "outputs": [],
   "source": [
    "data_final.drop('slope',axis=1,inplace=True)"
   ]
  },
  {
   "cell_type": "code",
   "execution_count": 13,
   "metadata": {},
   "outputs": [],
   "source": [
    "data_final.drop('ca',axis=1,inplace=True)"
   ]
  },
  {
   "cell_type": "code",
   "execution_count": 14,
   "metadata": {},
   "outputs": [],
   "source": [
    "data_final.drop('thal',axis=1,inplace=True)"
   ]
  },
  {
   "cell_type": "code",
   "execution_count": 15,
   "metadata": {},
   "outputs": [
    {
     "data": {
      "text/plain": [
       "age         0\n",
       "sex         0\n",
       "cp          0\n",
       "testbps    56\n",
       "chol        7\n",
       "fbs         7\n",
       "restecg     0\n",
       "thalach    53\n",
       "exang      53\n",
       "oldpeak    56\n",
       "num         0\n",
       "dtype: int64"
      ]
     },
     "execution_count": 15,
     "metadata": {},
     "output_type": "execute_result"
    }
   ],
   "source": [
    "data_final.isnull().sum()"
   ]
  },
  {
   "cell_type": "code",
   "execution_count": 16,
   "metadata": {},
   "outputs": [],
   "source": [
    "data_final.fillna(data_final['thalach'].median(),inplace=True)"
   ]
  },
  {
   "cell_type": "code",
   "execution_count": 17,
   "metadata": {},
   "outputs": [
    {
     "data": {
      "text/plain": [
       "age        0\n",
       "sex        0\n",
       "cp         0\n",
       "testbps    0\n",
       "chol       0\n",
       "fbs        0\n",
       "restecg    0\n",
       "thalach    0\n",
       "exang      0\n",
       "oldpeak    0\n",
       "num        0\n",
       "dtype: int64"
      ]
     },
     "execution_count": 17,
     "metadata": {},
     "output_type": "execute_result"
    }
   ],
   "source": [
    "data_final.isnull().sum()"
   ]
  },
  {
   "cell_type": "code",
   "execution_count": 18,
   "metadata": {},
   "outputs": [
    {
     "data": {
      "text/plain": [
       "<matplotlib.axes._subplots.AxesSubplot at 0x1f37435eb88>"
      ]
     },
     "execution_count": 18,
     "metadata": {},
     "output_type": "execute_result"
    },
    {
     "data": {
      "image/png": "[encoded data removed]",
      "text/plain": [
       "<Figure size 432x288 with 2 Axes>"
      ]
     },
     "metadata": {
      "needs_background": "light"
     },
     "output_type": "display_data"
    }
   ],
   "source": [
    "# check the null values by seaborn heatmap method :\n",
    "sns.heatmap(data_final.isnull())"
   ]
  },
  {
   "cell_type": "code",
   "execution_count": 19,
   "metadata": {},
   "outputs": [
    {
     "data": {
      "text/plain": [
       "testbps    object\n",
       "chol       object\n",
       "fbs        object\n",
       "thalach    object\n",
       "exang      object\n",
       "oldpeak    object\n",
       "dtype: object"
      ]
     },
     "execution_count": 19,
     "metadata": {},
     "output_type": "execute_result"
    }
   ],
   "source": [
    "data_final.dtypes.loc[data_final.dtypes=='object']"
   ]
  },
  {
   "cell_type": "markdown",
   "metadata": {},
   "source": [
    "# here we will change the datatypes below :\n"
   ]
  },
  {
   "cell_type": "code",
   "execution_count": 20,
   "metadata": {},
   "outputs": [],
   "source": [
    "data_final['testbps']=data_final['testbps'].astype(str).astype(float)"
   ]
  },
  {
   "cell_type": "code",
   "execution_count": 21,
   "metadata": {},
   "outputs": [],
   "source": [
    "data_final['chol']=data_final['chol'].astype(str).astype(float)"
   ]
  },
  {
   "cell_type": "code",
   "execution_count": 22,
   "metadata": {},
   "outputs": [],
   "source": [
    "data_final['fbs']=data_final['fbs'].astype(str).astype(float)"
   ]
  },
  {
   "cell_type": "code",
   "execution_count": 23,
   "metadata": {},
   "outputs": [],
   "source": [
    "data_final['thalach']=data_final['thalach'].astype(str).astype(float)"
   ]
  },
  {
   "cell_type": "code",
   "execution_count": 24,
   "metadata": {},
   "outputs": [],
   "source": [
    "data_final['exang']=data_final['exang'].astype(str).astype(float)"
   ]
  },
  {
   "cell_type": "code",
   "execution_count": 25,
   "metadata": {},
   "outputs": [],
   "source": [
    "data_final['oldpeak']=data_final['oldpeak'].astype(str).astype(float)"
   ]
  },
  {
   "cell_type": "code",
   "execution_count": 26,
   "metadata": {},
   "outputs": [
    {
     "data": {
      "text/plain": [
       "age          int64\n",
       "sex          int64\n",
       "cp           int64\n",
       "testbps    float64\n",
       "chol       float64\n",
       "fbs        float64\n",
       "restecg      int64\n",
       "thalach    float64\n",
       "exang      float64\n",
       "oldpeak    float64\n",
       "num          int64\n",
       "dtype: object"
      ]
     },
     "execution_count": 26,
     "metadata": {},
     "output_type": "execute_result"
    }
   ],
   "source": [
    "data_final.dtypes"
   ]
  },
  {
   "cell_type": "code",
   "execution_count": 27,
   "metadata": {},
   "outputs": [
    {
     "data": {
      "text/html": [
       "<div>\n",
       "<style scoped>\n",
       "    .dataframe tbody tr th:only-of-type {\n",
       "        vertical-align: middle;\n",
       "    }\n",
       "\n",
       "    .dataframe tbody tr th {\n",
       "        vertical-align: top;\n",
       "    }\n",
       "\n",
       "    .dataframe thead th {\n",
       "        text-align: right;\n",
       "    }\n",
       "</style>\n",
       "<table border=\"1\" class=\"dataframe\">\n",
       "  <thead>\n",
       "    <tr style=\"text-align: right;\">\n",
       "      <th></th>\n",
       "      <th>age</th>\n",
       "      <th>sex</th>\n",
       "      <th>cp</th>\n",
       "      <th>testbps</th>\n",
       "      <th>chol</th>\n",
       "      <th>fbs</th>\n",
       "      <th>restecg</th>\n",
       "      <th>thalach</th>\n",
       "      <th>exang</th>\n",
       "      <th>oldpeak</th>\n",
       "      <th>num</th>\n",
       "    </tr>\n",
       "  </thead>\n",
       "  <tbody>\n",
       "    <tr>\n",
       "      <th>count</th>\n",
       "      <td>200.000000</td>\n",
       "      <td>200.000000</td>\n",
       "      <td>200.000000</td>\n",
       "      <td>200.000000</td>\n",
       "      <td>200.00000</td>\n",
       "      <td>200.000000</td>\n",
       "      <td>200.000000</td>\n",
       "      <td>200.000000</td>\n",
       "      <td>200.000000</td>\n",
       "      <td>200.000000</td>\n",
       "      <td>200.000000</td>\n",
       "    </tr>\n",
       "    <tr>\n",
       "      <th>mean</th>\n",
       "      <td>59.350000</td>\n",
       "      <td>0.970000</td>\n",
       "      <td>3.505000</td>\n",
       "      <td>129.910000</td>\n",
       "      <td>176.69000</td>\n",
       "      <td>4.540000</td>\n",
       "      <td>0.735000</td>\n",
       "      <td>122.055000</td>\n",
       "      <td>32.275000</td>\n",
       "      <td>34.551000</td>\n",
       "      <td>1.520000</td>\n",
       "    </tr>\n",
       "    <tr>\n",
       "      <th>std</th>\n",
       "      <td>7.811697</td>\n",
       "      <td>0.171015</td>\n",
       "      <td>0.795701</td>\n",
       "      <td>19.280055</td>\n",
       "      <td>112.53334</td>\n",
       "      <td>22.049018</td>\n",
       "      <td>0.683455</td>\n",
       "      <td>18.876269</td>\n",
       "      <td>52.808551</td>\n",
       "      <td>53.428763</td>\n",
       "      <td>1.219441</td>\n",
       "    </tr>\n",
       "    <tr>\n",
       "      <th>min</th>\n",
       "      <td>35.000000</td>\n",
       "      <td>0.000000</td>\n",
       "      <td>1.000000</td>\n",
       "      <td>0.000000</td>\n",
       "      <td>0.00000</td>\n",
       "      <td>0.000000</td>\n",
       "      <td>0.000000</td>\n",
       "      <td>69.000000</td>\n",
       "      <td>0.000000</td>\n",
       "      <td>-0.500000</td>\n",
       "      <td>0.000000</td>\n",
       "    </tr>\n",
       "    <tr>\n",
       "      <th>25%</th>\n",
       "      <td>55.000000</td>\n",
       "      <td>1.000000</td>\n",
       "      <td>3.000000</td>\n",
       "      <td>120.000000</td>\n",
       "      <td>115.00000</td>\n",
       "      <td>0.000000</td>\n",
       "      <td>0.000000</td>\n",
       "      <td>112.000000</td>\n",
       "      <td>0.000000</td>\n",
       "      <td>1.000000</td>\n",
       "      <td>0.000000</td>\n",
       "    </tr>\n",
       "    <tr>\n",
       "      <th>50%</th>\n",
       "      <td>60.000000</td>\n",
       "      <td>1.000000</td>\n",
       "      <td>4.000000</td>\n",
       "      <td>123.000000</td>\n",
       "      <td>214.00000</td>\n",
       "      <td>0.000000</td>\n",
       "      <td>1.000000</td>\n",
       "      <td>120.000000</td>\n",
       "      <td>1.000000</td>\n",
       "      <td>2.000000</td>\n",
       "      <td>1.000000</td>\n",
       "    </tr>\n",
       "    <tr>\n",
       "      <th>75%</th>\n",
       "      <td>64.000000</td>\n",
       "      <td>1.000000</td>\n",
       "      <td>4.000000</td>\n",
       "      <td>140.000000</td>\n",
       "      <td>254.50000</td>\n",
       "      <td>1.000000</td>\n",
       "      <td>1.000000</td>\n",
       "      <td>130.000000</td>\n",
       "      <td>120.000000</td>\n",
       "      <td>120.000000</td>\n",
       "      <td>3.000000</td>\n",
       "    </tr>\n",
       "    <tr>\n",
       "      <th>max</th>\n",
       "      <td>77.000000</td>\n",
       "      <td>1.000000</td>\n",
       "      <td>4.000000</td>\n",
       "      <td>190.000000</td>\n",
       "      <td>458.00000</td>\n",
       "      <td>120.000000</td>\n",
       "      <td>2.000000</td>\n",
       "      <td>180.000000</td>\n",
       "      <td>120.000000</td>\n",
       "      <td>120.000000</td>\n",
       "      <td>4.000000</td>\n",
       "    </tr>\n",
       "  </tbody>\n",
       "</table>\n",
       "</div>"
      ],
      "text/plain": [
       "              age         sex          cp     testbps       chol         fbs  \\\n",
       "count  200.000000  200.000000  200.000000  200.000000  200.00000  200.000000   \n",
       "mean    59.350000    0.970000    3.505000  129.910000  176.69000    4.540000   \n",
       "std      7.811697    0.171015    0.795701   19.280055  112.53334   22.049018   \n",
       "min     35.000000    0.000000    1.000000    0.000000    0.00000    0.000000   \n",
       "25%     55.000000    1.000000    3.000000  120.000000  115.00000    0.000000   \n",
       "50%     60.000000    1.000000    4.000000  123.000000  214.00000    0.000000   \n",
       "75%     64.000000    1.000000    4.000000  140.000000  254.50000    1.000000   \n",
       "max     77.000000    1.000000    4.000000  190.000000  458.00000  120.000000   \n",
       "\n",
       "          restecg     thalach       exang     oldpeak         num  \n",
       "count  200.000000  200.000000  200.000000  200.000000  200.000000  \n",
       "mean     0.735000  122.055000   32.275000   34.551000    1.520000  \n",
       "std      0.683455   18.876269   52.808551   53.428763    1.219441  \n",
       "min      0.000000   69.000000    0.000000   -0.500000    0.000000  \n",
       "25%      0.000000  112.000000    0.000000    1.000000    0.000000  \n",
       "50%      1.000000  120.000000    1.000000    2.000000    1.000000  \n",
       "75%      1.000000  130.000000  120.000000  120.000000    3.000000  \n",
       "max      2.000000  180.000000  120.000000  120.000000    4.000000  "
      ]
     },
     "execution_count": 27,
     "metadata": {},
     "output_type": "execute_result"
    }
   ],
   "source": [
    "# Stastistical Analysis :\n",
    "data_final.describe()"
   ]
  },
  {
   "cell_type": "code",
   "execution_count": 28,
   "metadata": {},
   "outputs": [
    {
     "data": {
      "text/html": [
       "<div>\n",
       "<style scoped>\n",
       "    .dataframe tbody tr th:only-of-type {\n",
       "        vertical-align: middle;\n",
       "    }\n",
       "\n",
       "    .dataframe tbody tr th {\n",
       "        vertical-align: top;\n",
       "    }\n",
       "\n",
       "    .dataframe thead th {\n",
       "        text-align: right;\n",
       "    }\n",
       "</style>\n",
       "<table border=\"1\" class=\"dataframe\">\n",
       "  <thead>\n",
       "    <tr style=\"text-align: right;\">\n",
       "      <th></th>\n",
       "      <th>age</th>\n",
       "      <th>sex</th>\n",
       "      <th>cp</th>\n",
       "      <th>testbps</th>\n",
       "      <th>chol</th>\n",
       "      <th>fbs</th>\n",
       "      <th>restecg</th>\n",
       "      <th>thalach</th>\n",
       "      <th>exang</th>\n",
       "      <th>oldpeak</th>\n",
       "      <th>num</th>\n",
       "    </tr>\n",
       "  </thead>\n",
       "  <tbody>\n",
       "    <tr>\n",
       "      <th>age</th>\n",
       "      <td>1.000000</td>\n",
       "      <td>0.034230</td>\n",
       "      <td>-0.038280</td>\n",
       "      <td>0.167637</td>\n",
       "      <td>0.061775</td>\n",
       "      <td>-0.086177</td>\n",
       "      <td>0.002400</td>\n",
       "      <td>-0.150146</td>\n",
       "      <td>0.008975</td>\n",
       "      <td>-0.000958</td>\n",
       "      <td>0.287289</td>\n",
       "    </tr>\n",
       "    <tr>\n",
       "      <th>sex</th>\n",
       "      <td>0.034230</td>\n",
       "      <td>1.000000</td>\n",
       "      <td>0.038036</td>\n",
       "      <td>-0.002347</td>\n",
       "      <td>-0.098926</td>\n",
       "      <td>0.032304</td>\n",
       "      <td>0.060621</td>\n",
       "      <td>-0.004156</td>\n",
       "      <td>0.039312</td>\n",
       "      <td>0.046091</td>\n",
       "      <td>0.147470</td>\n",
       "    </tr>\n",
       "    <tr>\n",
       "      <th>cp</th>\n",
       "      <td>-0.038280</td>\n",
       "      <td>0.038036</td>\n",
       "      <td>1.000000</td>\n",
       "      <td>0.139569</td>\n",
       "      <td>0.060683</td>\n",
       "      <td>-0.019345</td>\n",
       "      <td>0.034790</td>\n",
       "      <td>-0.108585</td>\n",
       "      <td>-0.223605</td>\n",
       "      <td>-0.283783</td>\n",
       "      <td>0.168210</td>\n",
       "    </tr>\n",
       "    <tr>\n",
       "      <th>testbps</th>\n",
       "      <td>0.167637</td>\n",
       "      <td>-0.002347</td>\n",
       "      <td>0.139569</td>\n",
       "      <td>1.000000</td>\n",
       "      <td>0.124823</td>\n",
       "      <td>-0.024035</td>\n",
       "      <td>0.077503</td>\n",
       "      <td>0.014484</td>\n",
       "      <td>-0.307780</td>\n",
       "      <td>-0.309702</td>\n",
       "      <td>0.149265</td>\n",
       "    </tr>\n",
       "    <tr>\n",
       "      <th>chol</th>\n",
       "      <td>0.061775</td>\n",
       "      <td>-0.098926</td>\n",
       "      <td>0.060683</td>\n",
       "      <td>0.124823</td>\n",
       "      <td>1.000000</td>\n",
       "      <td>-0.163033</td>\n",
       "      <td>0.017025</td>\n",
       "      <td>-0.051823</td>\n",
       "      <td>0.093095</td>\n",
       "      <td>0.102328</td>\n",
       "      <td>0.071013</td>\n",
       "    </tr>\n",
       "    <tr>\n",
       "      <th>fbs</th>\n",
       "      <td>-0.086177</td>\n",
       "      <td>0.032304</td>\n",
       "      <td>-0.019345</td>\n",
       "      <td>-0.024035</td>\n",
       "      <td>-0.163033</td>\n",
       "      <td>1.000000</td>\n",
       "      <td>-0.042143</td>\n",
       "      <td>0.103026</td>\n",
       "      <td>-0.112915</td>\n",
       "      <td>-0.116205</td>\n",
       "      <td>0.009128</td>\n",
       "    </tr>\n",
       "    <tr>\n",
       "      <th>restecg</th>\n",
       "      <td>0.002400</td>\n",
       "      <td>0.060621</td>\n",
       "      <td>0.034790</td>\n",
       "      <td>0.077503</td>\n",
       "      <td>0.017025</td>\n",
       "      <td>-0.042143</td>\n",
       "      <td>1.000000</td>\n",
       "      <td>0.010094</td>\n",
       "      <td>0.033356</td>\n",
       "      <td>0.044505</td>\n",
       "      <td>-0.032800</td>\n",
       "    </tr>\n",
       "    <tr>\n",
       "      <th>thalach</th>\n",
       "      <td>-0.150146</td>\n",
       "      <td>-0.004156</td>\n",
       "      <td>-0.108585</td>\n",
       "      <td>0.014484</td>\n",
       "      <td>-0.051823</td>\n",
       "      <td>0.103026</td>\n",
       "      <td>0.010094</td>\n",
       "      <td>1.000000</td>\n",
       "      <td>-0.066114</td>\n",
       "      <td>0.011836</td>\n",
       "      <td>-0.073072</td>\n",
       "    </tr>\n",
       "    <tr>\n",
       "      <th>exang</th>\n",
       "      <td>0.008975</td>\n",
       "      <td>0.039312</td>\n",
       "      <td>-0.223605</td>\n",
       "      <td>-0.307780</td>\n",
       "      <td>0.093095</td>\n",
       "      <td>-0.112915</td>\n",
       "      <td>0.033356</td>\n",
       "      <td>-0.066114</td>\n",
       "      <td>1.000000</td>\n",
       "      <td>0.962534</td>\n",
       "      <td>-0.087054</td>\n",
       "    </tr>\n",
       "    <tr>\n",
       "      <th>oldpeak</th>\n",
       "      <td>-0.000958</td>\n",
       "      <td>0.046091</td>\n",
       "      <td>-0.283783</td>\n",
       "      <td>-0.309702</td>\n",
       "      <td>0.102328</td>\n",
       "      <td>-0.116205</td>\n",
       "      <td>0.044505</td>\n",
       "      <td>0.011836</td>\n",
       "      <td>0.962534</td>\n",
       "      <td>1.000000</td>\n",
       "      <td>-0.113455</td>\n",
       "    </tr>\n",
       "    <tr>\n",
       "      <th>num</th>\n",
       "      <td>0.287289</td>\n",
       "      <td>0.147470</td>\n",
       "      <td>0.168210</td>\n",
       "      <td>0.149265</td>\n",
       "      <td>0.071013</td>\n",
       "      <td>0.009128</td>\n",
       "      <td>-0.032800</td>\n",
       "      <td>-0.073072</td>\n",
       "      <td>-0.087054</td>\n",
       "      <td>-0.113455</td>\n",
       "      <td>1.000000</td>\n",
       "    </tr>\n",
       "  </tbody>\n",
       "</table>\n",
       "</div>"
      ],
      "text/plain": [
       "              age       sex        cp   testbps      chol       fbs   restecg  \\\n",
       "age      1.000000  0.034230 -0.038280  0.167637  0.061775 -0.086177  0.002400   \n",
       "sex      0.034230  1.000000  0.038036 -0.002347 -0.098926  0.032304  0.060621   \n",
       "cp      -0.038280  0.038036  1.000000  0.139569  0.060683 -0.019345  0.034790   \n",
       "testbps  0.167637 -0.002347  0.139569  1.000000  0.124823 -0.024035  0.077503   \n",
       "chol     0.061775 -0.098926  0.060683  0.124823  1.000000 -0.163033  0.017025   \n",
       "fbs     -0.086177  0.032304 -0.019345 -0.024035 -0.163033  1.000000 -0.042143   \n",
       "restecg  0.002400  0.060621  0.034790  0.077503  0.017025 -0.042143  1.000000   \n",
       "thalach -0.150146 -0.004156 -0.108585  0.014484 -0.051823  0.103026  0.010094   \n",
       "exang    0.008975  0.039312 -0.223605 -0.307780  0.093095 -0.112915  0.033356   \n",
       "oldpeak -0.000958  0.046091 -0.283783 -0.309702  0.102328 -0.116205  0.044505   \n",
       "num      0.287289  0.147470  0.168210  0.149265  0.071013  0.009128 -0.032800   \n",
       "\n",
       "          thalach     exang   oldpeak       num  \n",
       "age     -0.150146  0.008975 -0.000958  0.287289  \n",
       "sex     -0.004156  0.039312  0.046091  0.147470  \n",
       "cp      -0.108585 -0.223605 -0.283783  0.168210  \n",
       "testbps  0.014484 -0.307780 -0.309702  0.149265  \n",
       "chol    -0.051823  0.093095  0.102328  0.071013  \n",
       "fbs      0.103026 -0.112915 -0.116205  0.009128  \n",
       "restecg  0.010094  0.033356  0.044505 -0.032800  \n",
       "thalach  1.000000 -0.066114  0.011836 -0.073072  \n",
       "exang   -0.066114  1.000000  0.962534 -0.087054  \n",
       "oldpeak  0.011836  0.962534  1.000000 -0.113455  \n",
       "num     -0.073072 -0.087054 -0.113455  1.000000  "
      ]
     },
     "execution_count": 28,
     "metadata": {},
     "output_type": "execute_result"
    }
   ],
   "source": [
    "#Corelation:\n",
    "dfr=data_final.corr()\n",
    "dfr"
   ]
  },
  {
   "cell_type": "code",
   "execution_count": 29,
   "metadata": {},
   "outputs": [
    {
     "data": {
      "text/plain": [
       "<matplotlib.axes._subplots.AxesSubplot at 0x1f376191148>"
      ]
     },
     "execution_count": 29,
     "metadata": {},
     "output_type": "execute_result"
    },
    {
     "data": {
      "image/png": "[encoded data removed]",
      "text/plain": [
       "<Figure size 1008x720 with 2 Axes>"
      ]
     },
     "metadata": {
      "needs_background": "light"
     },
     "output_type": "display_data"
    }
   ],
   "source": [
    "plt.figure(figsize=(14,10))\n",
    "sns.heatmap(dfr,annot=True)"
   ]
  },
  {
   "cell_type": "code",
   "execution_count": 30,
   "metadata": {},
   "outputs": [
    {
     "data": {
      "text/plain": [
       "<matplotlib.axes._subplots.AxesSubplot at 0x1f374274508>"
      ]
     },
     "execution_count": 30,
     "metadata": {},
     "output_type": "execute_result"
    },
    {
     "data": {
      "image/png": "[encoded data removed]",
      "text/plain": [
       "<Figure size 432x288 with 1 Axes>"
      ]
     },
     "metadata": {
      "needs_background": "light"
     },
     "output_type": "display_data"
    }
   ],
   "source": [
    "sns.distplot(data_final['age'])"
   ]
  },
  {
   "cell_type": "code",
   "execution_count": 31,
   "metadata": {},
   "outputs": [
    {
     "data": {
      "image/png": "[encoded data removed]",
      "text/plain": [
       "<Figure size 1152x576 with 12 Axes>"
      ]
     },
     "metadata": {
      "needs_background": "light"
     },
     "output_type": "display_data"
    }
   ],
   "source": [
    "data_final.hist(figsize=(16,8))\n",
    "plt.show()"
   ]
  },
  {
   "cell_type": "code",
   "execution_count": 32,
   "metadata": {},
   "outputs": [
    {
     "data": {
      "image/png": "[encoded data removed]",
      "text/plain": [
       "<Figure size 1152x1152 with 32 Axes>"
      ]
     },
     "metadata": {
      "needs_background": "light"
     },
     "output_type": "display_data"
    }
   ],
   "source": [
    "# checking outliers :\n",
    "data_final.plot(kind='box',subplots=True,layout=(4,8),fontsize=10,figsize=(16,16))\n",
    "plt.show()"
   ]
  },
  {
   "cell_type": "code",
   "execution_count": 33,
   "metadata": {},
   "outputs": [
    {
     "data": {
      "text/plain": [
       "<matplotlib.axes._subplots.AxesSubplot at 0x1f376a9b388>"
      ]
     },
     "execution_count": 33,
     "metadata": {},
     "output_type": "execute_result"
    },
    {
     "data": {
      "image/png": "[encoded data removed]",
      "text/plain": [
       "<Figure size 432x288 with 1 Axes>"
      ]
     },
     "metadata": {},
     "output_type": "display_data"
    }
   ],
   "source": [
    "sns.set_style('whitegrid')\n",
    "sns.countplot(x='num',data=data_final,palette='RdBu_r')"
   ]
  },
  {
   "cell_type": "code",
   "execution_count": 34,
   "metadata": {},
   "outputs": [
    {
     "data": {
      "text/plain": [
       "age       -0.404091\n",
       "sex       -5.552105\n",
       "cp        -1.648734\n",
       "testbps   -0.773003\n",
       "chol      -0.513644\n",
       "fbs        5.094988\n",
       "restecg    0.391463\n",
       "thalach    0.265689\n",
       "exang      1.072812\n",
       "oldpeak    0.986344\n",
       "num        0.297393\n",
       "dtype: float64"
      ]
     },
     "execution_count": 34,
     "metadata": {},
     "output_type": "execute_result"
    }
   ],
   "source": [
    "data_final.skew()"
   ]
  },
  {
   "cell_type": "code",
   "execution_count": 35,
   "metadata": {},
   "outputs": [],
   "source": [
    "# we will use for loop for removing skewness :\n",
    "for i in data_final.columns:\n",
    "    if data_final.skew().loc[i]>0.55:\n",
    "        data_final[i]=np.log1p(data_final[i])"
   ]
  },
  {
   "cell_type": "code",
   "execution_count": 36,
   "metadata": {},
   "outputs": [
    {
     "data": {
      "text/plain": [
       "age       -0.404091\n",
       "sex       -5.552105\n",
       "cp        -1.648734\n",
       "testbps   -0.773003\n",
       "chol      -0.513644\n",
       "fbs        4.087652\n",
       "restecg    0.391463\n",
       "thalach    0.265689\n",
       "exang      0.997892\n",
       "oldpeak    0.796630\n",
       "num        0.297393\n",
       "dtype: float64"
      ]
     },
     "execution_count": 36,
     "metadata": {},
     "output_type": "execute_result"
    }
   ],
   "source": [
    "data_final.skew()"
   ]
  },
  {
   "cell_type": "code",
   "execution_count": 37,
   "metadata": {},
   "outputs": [],
   "source": [
    "# we will use for loop for removing skewness :\n",
    "for i in data_final.columns:\n",
    "    if data_final.skew().loc[i]>0.55:\n",
    "        data_final[i]=np.log1p(data_final[i])"
   ]
  },
  {
   "cell_type": "code",
   "execution_count": 38,
   "metadata": {},
   "outputs": [
    {
     "data": {
      "text/plain": [
       "age       -0.404091\n",
       "sex       -5.552105\n",
       "cp        -1.648734\n",
       "testbps   -0.773003\n",
       "chol      -0.513644\n",
       "fbs        2.226272\n",
       "restecg    0.391463\n",
       "thalach    0.265689\n",
       "exang      0.698620\n",
       "oldpeak    0.183497\n",
       "num        0.297393\n",
       "dtype: float64"
      ]
     },
     "execution_count": 38,
     "metadata": {},
     "output_type": "execute_result"
    }
   ],
   "source": [
    "data_final.skew()"
   ]
  },
  {
   "cell_type": "code",
   "execution_count": 39,
   "metadata": {},
   "outputs": [
    {
     "data": {
      "text/html": [
       "<div>\n",
       "<style scoped>\n",
       "    .dataframe tbody tr th:only-of-type {\n",
       "        vertical-align: middle;\n",
       "    }\n",
       "\n",
       "    .dataframe tbody tr th {\n",
       "        vertical-align: top;\n",
       "    }\n",
       "\n",
       "    .dataframe thead th {\n",
       "        text-align: right;\n",
       "    }\n",
       "</style>\n",
       "<table border=\"1\" class=\"dataframe\">\n",
       "  <thead>\n",
       "    <tr style=\"text-align: right;\">\n",
       "      <th></th>\n",
       "      <th>age</th>\n",
       "      <th>sex</th>\n",
       "      <th>cp</th>\n",
       "      <th>testbps</th>\n",
       "      <th>chol</th>\n",
       "      <th>fbs</th>\n",
       "      <th>restecg</th>\n",
       "      <th>thalach</th>\n",
       "      <th>exang</th>\n",
       "      <th>oldpeak</th>\n",
       "      <th>num</th>\n",
       "    </tr>\n",
       "  </thead>\n",
       "  <tbody>\n",
       "    <tr>\n",
       "      <th>0</th>\n",
       "      <td>63</td>\n",
       "      <td>1</td>\n",
       "      <td>4</td>\n",
       "      <td>140.0</td>\n",
       "      <td>260.0</td>\n",
       "      <td>0.000000</td>\n",
       "      <td>1</td>\n",
       "      <td>112.0</td>\n",
       "      <td>0.526589</td>\n",
       "      <td>0.869742</td>\n",
       "      <td>2</td>\n",
       "    </tr>\n",
       "    <tr>\n",
       "      <th>1</th>\n",
       "      <td>44</td>\n",
       "      <td>1</td>\n",
       "      <td>4</td>\n",
       "      <td>130.0</td>\n",
       "      <td>209.0</td>\n",
       "      <td>0.000000</td>\n",
       "      <td>1</td>\n",
       "      <td>127.0</td>\n",
       "      <td>0.000000</td>\n",
       "      <td>0.000000</td>\n",
       "      <td>0</td>\n",
       "    </tr>\n",
       "    <tr>\n",
       "      <th>2</th>\n",
       "      <td>60</td>\n",
       "      <td>1</td>\n",
       "      <td>4</td>\n",
       "      <td>132.0</td>\n",
       "      <td>218.0</td>\n",
       "      <td>0.000000</td>\n",
       "      <td>1</td>\n",
       "      <td>140.0</td>\n",
       "      <td>0.526589</td>\n",
       "      <td>0.650391</td>\n",
       "      <td>2</td>\n",
       "    </tr>\n",
       "    <tr>\n",
       "      <th>3</th>\n",
       "      <td>55</td>\n",
       "      <td>1</td>\n",
       "      <td>4</td>\n",
       "      <td>142.0</td>\n",
       "      <td>228.0</td>\n",
       "      <td>0.000000</td>\n",
       "      <td>1</td>\n",
       "      <td>149.0</td>\n",
       "      <td>0.526589</td>\n",
       "      <td>0.812157</td>\n",
       "      <td>1</td>\n",
       "    </tr>\n",
       "    <tr>\n",
       "      <th>4</th>\n",
       "      <td>66</td>\n",
       "      <td>1</td>\n",
       "      <td>3</td>\n",
       "      <td>110.0</td>\n",
       "      <td>213.0</td>\n",
       "      <td>0.526589</td>\n",
       "      <td>2</td>\n",
       "      <td>99.0</td>\n",
       "      <td>0.526589</td>\n",
       "      <td>0.605904</td>\n",
       "      <td>0</td>\n",
       "    </tr>\n",
       "  </tbody>\n",
       "</table>\n",
       "</div>"
      ],
      "text/plain": [
       "   age  sex  cp  testbps   chol       fbs  restecg  thalach     exang  \\\n",
       "0   63    1   4    140.0  260.0  0.000000        1    112.0  0.526589   \n",
       "1   44    1   4    130.0  209.0  0.000000        1    127.0  0.000000   \n",
       "2   60    1   4    132.0  218.0  0.000000        1    140.0  0.526589   \n",
       "3   55    1   4    142.0  228.0  0.000000        1    149.0  0.526589   \n",
       "4   66    1   3    110.0  213.0  0.526589        2     99.0  0.526589   \n",
       "\n",
       "    oldpeak  num  \n",
       "0  0.869742    2  \n",
       "1  0.000000    0  \n",
       "2  0.650391    2  \n",
       "3  0.812157    1  \n",
       "4  0.605904    0  "
      ]
     },
     "execution_count": 39,
     "metadata": {},
     "output_type": "execute_result"
    }
   ],
   "source": [
    "data_final.head()"
   ]
  },
  {
   "cell_type": "code",
   "execution_count": 40,
   "metadata": {},
   "outputs": [
    {
     "data": {
      "text/plain": [
       "1    56\n",
       "0    51\n",
       "3    42\n",
       "2    41\n",
       "4    10\n",
       "Name: num, dtype: int64"
      ]
     },
     "execution_count": 40,
     "metadata": {},
     "output_type": "execute_result"
    }
   ],
   "source": [
    "data_final['num'].value_counts()"
   ]
  },
  {
   "cell_type": "code",
   "execution_count": 41,
   "metadata": {},
   "outputs": [],
   "source": [
    "from sklearn.model_selection import train_test_split\n",
    "from sklearn.preprocessing import StandardScaler\n",
    "sc=StandardScaler()\n",
    "list=['age','chol','thalach','oldpeak','sex','cp','restecg']\n",
    "data_final[list]=sc.fit_transform(data_final[list])"
   ]
  },
  {
   "cell_type": "code",
   "execution_count": 42,
   "metadata": {},
   "outputs": [],
   "source": [
    "X=data_final.drop('num',axis=1)\n",
    "y=data_final['num']"
   ]
  },
  {
   "cell_type": "code",
   "execution_count": 43,
   "metadata": {},
   "outputs": [],
   "source": [
    "from sklearn.model_selection import cross_val_score\n",
    "from sklearn.neighbors import KNeighborsClassifier\n",
    "knn_scores=[]\n",
    "for i in range(1,21):\n",
    "    knn_classifier=KNeighborsClassifier(n_neighbors=i)\n",
    "    score=cross_val_score(knn_classifier,X,y,cv=10)\n",
    "    knn_scores.append(score.mean())"
   ]
  },
  {
   "cell_type": "code",
   "execution_count": 44,
   "metadata": {},
   "outputs": [
    {
     "data": {
      "text/plain": [
       "0.23500000000000001"
      ]
     },
     "execution_count": 44,
     "metadata": {},
     "output_type": "execute_result"
    }
   ],
   "source": [
    "knn_classifier=KNeighborsClassifier(n_neighbors=12)\n",
    "score=cross_val_score(knn_classifier,X,y,cv=10)\n",
    "score.mean()"
   ]
  },
  {
   "cell_type": "code",
   "execution_count": 45,
   "metadata": {},
   "outputs": [],
   "source": [
    "from sklearn.model_selection import train_test_split\n",
    "X_train,X_test,y_train,y_test=train_test_split(X,y,test_size=.22,random_state=42)"
   ]
  },
  {
   "cell_type": "code",
   "execution_count": 46,
   "metadata": {},
   "outputs": [],
   "source": [
    "from sklearn.svm import SVC\n",
    "from sklearn.tree import DecisionTreeClassifier\n",
    "from sklearn.neighbors import KNeighborsClassifier\n",
    "from sklearn.metrics import accuracy_score,confusion_matrix,classification_report"
   ]
  },
  {
   "cell_type": "code",
   "execution_count": 47,
   "metadata": {},
   "outputs": [
    {
     "name": "stdout",
     "output_type": "stream",
     "text": [
      "0.22727272727272727\n",
      "[[ 8  0  0  0  0]\n",
      " [12  2  0  0  0]\n",
      " [ 9  2  0  0  0]\n",
      " [ 7  1  0  0  0]\n",
      " [ 2  1  0  0  0]]\n",
      "              precision    recall  f1-score   support\n",
      "\n",
      "           0       0.21      1.00      0.35         8\n",
      "           1       0.33      0.14      0.20        14\n",
      "           2       0.00      0.00      0.00        11\n",
      "           3       0.00      0.00      0.00         8\n",
      "           4       0.00      0.00      0.00         3\n",
      "\n",
      "    accuracy                           0.23        44\n",
      "   macro avg       0.11      0.23      0.11        44\n",
      "weighted avg       0.14      0.23      0.13        44\n",
      "\n"
     ]
    },
    {
     "name": "stderr",
     "output_type": "stream",
     "text": [
      "C:\\Users\\Scp\\anaconda3\\lib\\site-packages\\sklearn\\metrics\\_classification.py:1272: UndefinedMetricWarning: Precision and F-score are ill-defined and being set to 0.0 in labels with no predicted samples. Use `zero_division` parameter to control this behavior.\n",
      "  _warn_prf(average, modifier, msg_start, len(result))\n"
     ]
    }
   ],
   "source": [
    "svc=SVC(kernel='poly')\n",
    "svc.fit(X_train,y_train)\n",
    "svc.score(X_train,y_train)\n",
    "predsvc=svc.predict(X_test)\n",
    "\n",
    "print(accuracy_score(y_test,predsvc))\n",
    "print(confusion_matrix(y_test,predsvc))\n",
    "print(classification_report(y_test,predsvc))"
   ]
  },
  {
   "cell_type": "code",
   "execution_count": 48,
   "metadata": {},
   "outputs": [],
   "source": [
    "from sklearn.metrics import confusion_matrix\n",
    "from sklearn.metrics import classification_report\n",
    "from sklearn.metrics import accuracy_score\n",
    "from sklearn.linear_model import LogisticRegression\n",
    "from sklearn.tree import DecisionTreeClassifier\n",
    "from sklearn.neighbors import KNeighborsClassifier\n",
    "from sklearn.naive_bayes import MultinomialNB\n",
    "from sklearn.svm import SVC\n",
    "from sklearn.ensemble import RandomForestClassifier"
   ]
  },
  {
   "cell_type": "code",
   "execution_count": 49,
   "metadata": {},
   "outputs": [
    {
     "name": "stdout",
     "output_type": "stream",
     "text": [
      "Accuracy score of LogisticRegression(C=1.0, class_weight=None, dual=False, fit_intercept=True,\n",
      "                   intercept_scaling=1, l1_ratio=None, max_iter=100,\n",
      "                   multi_class='auto', n_jobs=None, penalty='l2',\n",
      "                   random_state=None, solver='lbfgs', tol=0.0001, verbose=0,\n",
      "                   warm_start=False) is:\n",
      "0.38636363636363635\n",
      "[[3 2 2 1 0]\n",
      " [3 8 1 2 0]\n",
      " [2 5 2 2 0]\n",
      " [2 2 0 4 0]\n",
      " [0 0 0 3 0]]\n",
      "              precision    recall  f1-score   support\n",
      "\n",
      "           0       0.30      0.38      0.33         8\n",
      "           1       0.47      0.57      0.52        14\n",
      "           2       0.40      0.18      0.25        11\n",
      "           3       0.33      0.50      0.40         8\n",
      "           4       0.00      0.00      0.00         3\n",
      "\n",
      "    accuracy                           0.39        44\n",
      "   macro avg       0.30      0.33      0.30        44\n",
      "weighted avg       0.36      0.39      0.36        44\n",
      "\n",
      "\n",
      "\n",
      "Accuracy score of"
     ]
    },
    {
     "name": "stderr",
     "output_type": "stream",
     "text": [
      "C:\\Users\\Scp\\anaconda3\\lib\\site-packages\\sklearn\\linear_model\\_logistic.py:940: ConvergenceWarning: lbfgs failed to converge (status=1):\n",
      "STOP: TOTAL NO. of ITERATIONS REACHED LIMIT.\n",
      "\n",
      "Increase the number of iterations (max_iter) or scale the data as shown in:\n",
      "    https://scikit-learn.org/stable/modules/preprocessing.html\n",
      "Please also refer to the documentation for alternative solver options:\n",
      "    https://scikit-learn.org/stable/modules/linear_model.html#logistic-regression\n",
      "  extra_warning_msg=_LOGISTIC_SOLVER_CONVERGENCE_MSG)\n",
      "C:\\Users\\Scp\\anaconda3\\lib\\site-packages\\sklearn\\metrics\\_classification.py:1272: UndefinedMetricWarning: Precision and F-score are ill-defined and being set to 0.0 in labels with no predicted samples. Use `zero_division` parameter to control this behavior.\n",
      "  _warn_prf(average, modifier, msg_start, len(result))\n"
     ]
    },
    {
     "name": "stdout",
     "output_type": "stream",
     "text": [
      " DecisionTreeClassifier(ccp_alpha=0.0, class_weight=None, criterion='gini',\n",
      "                       max_depth=None, max_features=None, max_leaf_nodes=None,\n",
      "                       min_impurity_decrease=0.0, min_impurity_split=None,\n",
      "                       min_samples_leaf=1, min_samples_split=2,\n",
      "                       min_weight_fraction_leaf=0.0, presort='deprecated',\n",
      "                       random_state=None, splitter='best') is:\n",
      "0.29545454545454547\n",
      "[[3 2 1 2 0]\n",
      " [7 4 1 1 1]\n",
      " [1 3 4 3 0]\n",
      " [1 3 1 2 1]\n",
      " [1 0 0 2 0]]\n",
      "              precision    recall  f1-score   support\n",
      "\n",
      "           0       0.23      0.38      0.29         8\n",
      "           1       0.33      0.29      0.31        14\n",
      "           2       0.57      0.36      0.44        11\n",
      "           3       0.20      0.25      0.22         8\n",
      "           4       0.00      0.00      0.00         3\n",
      "\n",
      "    accuracy                           0.30        44\n",
      "   macro avg       0.27      0.25      0.25        44\n",
      "weighted avg       0.33      0.30      0.30        44\n",
      "\n",
      "\n",
      "\n",
      "Accuracy score of SVC(C=1.0, break_ties=False, cache_size=200, class_weight=None, coef0=0.0,\n",
      "    decision_function_shape='ovr', degree=3, gamma='scale', kernel='rbf',\n",
      "    max_iter=-1, probability=False, random_state=None, shrinking=True,\n",
      "    tol=0.001, verbose=False) is:\n",
      "0.18181818181818182\n",
      "[[ 8  0  0  0  0]\n",
      " [14  0  0  0  0]\n",
      " [11  0  0  0  0]\n",
      " [ 8  0  0  0  0]\n",
      " [ 3  0  0  0  0]]\n",
      "              precision    recall  f1-score   support\n",
      "\n",
      "           0       0.18      1.00      0.31         8\n",
      "           1       0.00      0.00      0.00        14\n",
      "           2       0.00      0.00      0.00        11\n",
      "           3       0.00      0.00      0.00         8\n",
      "           4       0.00      0.00      0.00         3\n",
      "\n",
      "    accuracy                           0.18        44\n",
      "   macro avg       0.04      0.20      0.06        44\n",
      "weighted avg       0.03      0.18      0.06        44\n",
      "\n",
      "\n",
      "\n",
      "Accuracy score of KNeighborsClassifier(algorithm='auto', leaf_size=30, metric='minkowski',\n",
      "                     metric_params=None, n_jobs=None, n_neighbors=5, p=2,\n",
      "                     weights='uniform') is:\n",
      "0.29545454545454547\n",
      "[[2 5 1 0 0]\n",
      " [5 7 0 2 0]\n",
      " [2 4 3 2 0]\n",
      " [1 5 1 1 0]\n",
      " [1 0 0 2 0]]\n",
      "              precision    recall  f1-score   support\n",
      "\n",
      "           0       0.18      0.25      0.21         8\n",
      "           1       0.33      0.50      0.40        14\n",
      "           2       0.60      0.27      0.37        11\n",
      "           3       0.14      0.12      0.13         8\n",
      "           4       0.00      0.00      0.00         3\n",
      "\n",
      "    accuracy                           0.30        44\n",
      "   macro avg       0.25      0.23      0.22        44\n",
      "weighted avg       0.32      0.30      0.28        44\n",
      "\n",
      "\n",
      "\n"
     ]
    },
    {
     "name": "stderr",
     "output_type": "stream",
     "text": [
      "C:\\Users\\Scp\\anaconda3\\lib\\site-packages\\sklearn\\metrics\\_classification.py:1272: UndefinedMetricWarning: Precision and F-score are ill-defined and being set to 0.0 in labels with no predicted samples. Use `zero_division` parameter to control this behavior.\n",
      "  _warn_prf(average, modifier, msg_start, len(result))\n",
      "C:\\Users\\Scp\\anaconda3\\lib\\site-packages\\sklearn\\metrics\\_classification.py:1272: UndefinedMetricWarning: Precision and F-score are ill-defined and being set to 0.0 in labels with no predicted samples. Use `zero_division` parameter to control this behavior.\n",
      "  _warn_prf(average, modifier, msg_start, len(result))\n"
     ]
    },
    {
     "name": "stdout",
     "output_type": "stream",
     "text": [
      "Accuracy score of RandomForestClassifier(bootstrap=True, ccp_alpha=0.0, class_weight=None,\n",
      "                       criterion='gini', max_depth=None, max_features='auto',\n",
      "                       max_leaf_nodes=None, max_samples=None,\n",
      "                       min_impurity_decrease=0.0, min_impurity_split=None,\n",
      "                       min_samples_leaf=1, min_samples_split=2,\n",
      "                       min_weight_fraction_leaf=0.0, n_estimators=100,\n",
      "                       n_jobs=None, oob_score=False, random_state=None,\n",
      "                       verbose=0, warm_start=False) is:\n",
      "0.29545454545454547\n",
      "[[2 3 1 2 0]\n",
      " [5 7 2 0 0]\n",
      " [2 4 2 3 0]\n",
      " [3 2 0 2 1]\n",
      " [1 0 0 2 0]]\n",
      "              precision    recall  f1-score   support\n",
      "\n",
      "           0       0.15      0.25      0.19         8\n",
      "           1       0.44      0.50      0.47        14\n",
      "           2       0.40      0.18      0.25        11\n",
      "           3       0.22      0.25      0.24         8\n",
      "           4       0.00      0.00      0.00         3\n",
      "\n",
      "    accuracy                           0.30        44\n",
      "   macro avg       0.24      0.24      0.23        44\n",
      "weighted avg       0.31      0.30      0.29        44\n",
      "\n",
      "\n",
      "\n"
     ]
    }
   ],
   "source": [
    "# we will make list of algorithm and add to for loop and check the score :\n",
    "model=[LogisticRegression(),DecisionTreeClassifier(),SVC(),KNeighborsClassifier(),RandomForestClassifier()]\n",
    "\n",
    "for m in model:\n",
    "    m.fit(X_train,y_train)\n",
    "    m.score(X_train,y_train)\n",
    "    predm=m.predict(X_test)\n",
    "    print('Accuracy score of',m,'is:')\n",
    "    print(accuracy_score(y_test,predm))\n",
    "    print(confusion_matrix(y_test,predm))\n",
    "    print(classification_report(y_test,predm))\n",
    "    print('\\n')"
   ]
  },
  {
   "cell_type": "code",
   "execution_count": 50,
   "metadata": {},
   "outputs": [
    {
     "data": {
      "text/plain": [
       "['Project_5_HeartDisease.pkl']"
      ]
     },
     "execution_count": 50,
     "metadata": {},
     "output_type": "execute_result"
    }
   ],
   "source": [
    "import joblib\n",
    "joblib.dump(RandomForestClassifier,'Project_5_HeartDisease.pkl')"
   ]
  },
  {
   "cell_type": "markdown",
   "metadata": {},
   "source": [
    "Conclusion:1) These problem we have solved by Classification. 2) We have done EDA process, Feature Engineering, Model Selection, finding the right model. 3) for Clasification problem (RandomForestClassifier is best) 4) Saving the model.\n",
    "#Thankyou!!"
   ]
  },
  {
   "cell_type": "code",
   "execution_count": null,
   "metadata": {},
   "outputs": [],
   "source": []
  }
 ],
 "metadata": {
  "kernelspec": {
   "display_name": "Python 3",
   "language": "python",
   "name": "python3"
  },
  "language_info": {
   "codemirror_mode": {
    "name": "ipython",
    "version": 3
   },
   "file_extension": ".py",
   "mimetype": "text/x-python",
   "name": "python",
   "nbconvert_exporter": "python",
   "pygments_lexer": "ipython3",
   "version": "3.7.6"
  }
 },
 "nbformat": 4,
 "nbformat_minor": 4
}
