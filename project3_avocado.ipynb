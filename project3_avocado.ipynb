{
 "cells": [
  {
   "cell_type": "markdown",
   "metadata": {},
   "source": [
    "# Avocada-ML-Project\n"
   ]
  },
  {
   "cell_type": "markdown",
   "metadata": {},
   "source": [
    "#Observation: Avacado is a fruit consumed by people heavily in United states. Content: This data was downloaded from the Hass Avocado Board website in May of 2018 & compiled into a single CSV. Here's how the Hass Avocado Board describes the data on their website: > The table below represents weekly 2018 retail scan data for National retail volume (units) and price. Retail scan data comes directly from retailers’ cash registers based on actual retail sales of Hass avocados. Starting in 2013, the table below reflects an expanded, multi-outlet retail data set. Multi-outlet reporting includes an aggregation of the following channels: grocery, mass, club, drug, dollar and military. The Average Price (of avocados) in the table reflects a per unit (per avocado) cost, even when multiple units (avocados) are sold in bags. The Product Lookup codes (PLU’s) in the table are only for Hass avocados. Other varieties of avocados (e.g. greenskins) are not included in this table. Some relevant columns in the dataset: Date - The date of the observation AveragePrice - the average price of a single avocado type - conventional or organic year - the year Region - the city or region of the observation Total Volume - Total number of avocados sold 4046 - Total number of avocados with PLU 4046 sold 4225 - Total number of avocados with PLU 4225 sold 4770 - Total number of avocados with PLU 4770 sold"
   ]
  },
  {
   "cell_type": "code",
   "execution_count": 1,
   "metadata": {},
   "outputs": [],
   "source": [
    "# importing essential libraries :\n",
    "import numpy as np\n",
    "import pandas as pd\n",
    "import seaborn as sns\n",
    "import matplotlib.pyplot as plt"
   ]
  },
  {
   "cell_type": "code",
   "execution_count": 2,
   "metadata": {},
   "outputs": [],
   "source": [
    "# load the dataset :\n",
    "data=pd.read_csv('avocado.csv', index_col=[0])"
   ]
  },
  {
   "cell_type": "code",
   "execution_count": 3,
   "metadata": {},
   "outputs": [
    {
     "data": {
      "text/html": [
       "<div>\n",
       "<style scoped>\n",
       "    .dataframe tbody tr th:only-of-type {\n",
       "        vertical-align: middle;\n",
       "    }\n",
       "\n",
       "    .dataframe tbody tr th {\n",
       "        vertical-align: top;\n",
       "    }\n",
       "\n",
       "    .dataframe thead th {\n",
       "        text-align: right;\n",
       "    }\n",
       "</style>\n",
       "<table border=\"1\" class=\"dataframe\">\n",
       "  <thead>\n",
       "    <tr style=\"text-align: right;\">\n",
       "      <th></th>\n",
       "      <th>Date</th>\n",
       "      <th>AveragePrice</th>\n",
       "      <th>Total Volume</th>\n",
       "      <th>4046</th>\n",
       "      <th>4225</th>\n",
       "      <th>4770</th>\n",
       "      <th>Total Bags</th>\n",
       "      <th>Small Bags</th>\n",
       "      <th>Large Bags</th>\n",
       "      <th>XLarge Bags</th>\n",
       "      <th>type</th>\n",
       "      <th>year</th>\n",
       "      <th>region</th>\n",
       "    </tr>\n",
       "  </thead>\n",
       "  <tbody>\n",
       "    <tr>\n",
       "      <th>0</th>\n",
       "      <td>2015-12-27</td>\n",
       "      <td>1.33</td>\n",
       "      <td>64236.62</td>\n",
       "      <td>1036.74</td>\n",
       "      <td>54454.85</td>\n",
       "      <td>48.16</td>\n",
       "      <td>8696.87</td>\n",
       "      <td>8603.62</td>\n",
       "      <td>93.25</td>\n",
       "      <td>0.0</td>\n",
       "      <td>conventional</td>\n",
       "      <td>2015</td>\n",
       "      <td>Albany</td>\n",
       "    </tr>\n",
       "    <tr>\n",
       "      <th>1</th>\n",
       "      <td>2015-12-20</td>\n",
       "      <td>1.35</td>\n",
       "      <td>54876.98</td>\n",
       "      <td>674.28</td>\n",
       "      <td>44638.81</td>\n",
       "      <td>58.33</td>\n",
       "      <td>9505.56</td>\n",
       "      <td>9408.07</td>\n",
       "      <td>97.49</td>\n",
       "      <td>0.0</td>\n",
       "      <td>conventional</td>\n",
       "      <td>2015</td>\n",
       "      <td>Albany</td>\n",
       "    </tr>\n",
       "    <tr>\n",
       "      <th>2</th>\n",
       "      <td>2015-12-13</td>\n",
       "      <td>0.93</td>\n",
       "      <td>118220.22</td>\n",
       "      <td>794.70</td>\n",
       "      <td>109149.67</td>\n",
       "      <td>130.50</td>\n",
       "      <td>8145.35</td>\n",
       "      <td>8042.21</td>\n",
       "      <td>103.14</td>\n",
       "      <td>0.0</td>\n",
       "      <td>conventional</td>\n",
       "      <td>2015</td>\n",
       "      <td>Albany</td>\n",
       "    </tr>\n",
       "    <tr>\n",
       "      <th>3</th>\n",
       "      <td>2015-12-06</td>\n",
       "      <td>1.08</td>\n",
       "      <td>78992.15</td>\n",
       "      <td>1132.00</td>\n",
       "      <td>71976.41</td>\n",
       "      <td>72.58</td>\n",
       "      <td>5811.16</td>\n",
       "      <td>5677.40</td>\n",
       "      <td>133.76</td>\n",
       "      <td>0.0</td>\n",
       "      <td>conventional</td>\n",
       "      <td>2015</td>\n",
       "      <td>Albany</td>\n",
       "    </tr>\n",
       "    <tr>\n",
       "      <th>4</th>\n",
       "      <td>2015-11-29</td>\n",
       "      <td>1.28</td>\n",
       "      <td>51039.60</td>\n",
       "      <td>941.48</td>\n",
       "      <td>43838.39</td>\n",
       "      <td>75.78</td>\n",
       "      <td>6183.95</td>\n",
       "      <td>5986.26</td>\n",
       "      <td>197.69</td>\n",
       "      <td>0.0</td>\n",
       "      <td>conventional</td>\n",
       "      <td>2015</td>\n",
       "      <td>Albany</td>\n",
       "    </tr>\n",
       "  </tbody>\n",
       "</table>\n",
       "</div>"
      ],
      "text/plain": [
       "         Date  AveragePrice  Total Volume     4046       4225    4770  \\\n",
       "0  2015-12-27          1.33      64236.62  1036.74   54454.85   48.16   \n",
       "1  2015-12-20          1.35      54876.98   674.28   44638.81   58.33   \n",
       "2  2015-12-13          0.93     118220.22   794.70  109149.67  130.50   \n",
       "3  2015-12-06          1.08      78992.15  1132.00   71976.41   72.58   \n",
       "4  2015-11-29          1.28      51039.60   941.48   43838.39   75.78   \n",
       "\n",
       "   Total Bags  Small Bags  Large Bags  XLarge Bags          type  year  region  \n",
       "0     8696.87     8603.62       93.25          0.0  conventional  2015  Albany  \n",
       "1     9505.56     9408.07       97.49          0.0  conventional  2015  Albany  \n",
       "2     8145.35     8042.21      103.14          0.0  conventional  2015  Albany  \n",
       "3     5811.16     5677.40      133.76          0.0  conventional  2015  Albany  \n",
       "4     6183.95     5986.26      197.69          0.0  conventional  2015  Albany  "
      ]
     },
     "execution_count": 3,
     "metadata": {},
     "output_type": "execute_result"
    }
   ],
   "source": [
    "# lets check the first five records :\n",
    "data.head()"
   ]
  },
  {
   "cell_type": "code",
   "execution_count": 4,
   "metadata": {},
   "outputs": [
    {
     "data": {
      "text/html": [
       "<div>\n",
       "<style scoped>\n",
       "    .dataframe tbody tr th:only-of-type {\n",
       "        vertical-align: middle;\n",
       "    }\n",
       "\n",
       "    .dataframe tbody tr th {\n",
       "        vertical-align: top;\n",
       "    }\n",
       "\n",
       "    .dataframe thead th {\n",
       "        text-align: right;\n",
       "    }\n",
       "</style>\n",
       "<table border=\"1\" class=\"dataframe\">\n",
       "  <thead>\n",
       "    <tr style=\"text-align: right;\">\n",
       "      <th></th>\n",
       "      <th>Date</th>\n",
       "      <th>AveragePrice</th>\n",
       "      <th>Total Volume</th>\n",
       "      <th>4046</th>\n",
       "      <th>4225</th>\n",
       "      <th>4770</th>\n",
       "      <th>Total Bags</th>\n",
       "      <th>Small Bags</th>\n",
       "      <th>Large Bags</th>\n",
       "      <th>XLarge Bags</th>\n",
       "      <th>type</th>\n",
       "      <th>year</th>\n",
       "      <th>region</th>\n",
       "    </tr>\n",
       "  </thead>\n",
       "  <tbody>\n",
       "    <tr>\n",
       "      <th>7</th>\n",
       "      <td>2018-02-04</td>\n",
       "      <td>1.63</td>\n",
       "      <td>17074.83</td>\n",
       "      <td>2046.96</td>\n",
       "      <td>1529.20</td>\n",
       "      <td>0.00</td>\n",
       "      <td>13498.67</td>\n",
       "      <td>13066.82</td>\n",
       "      <td>431.85</td>\n",
       "      <td>0.0</td>\n",
       "      <td>organic</td>\n",
       "      <td>2018</td>\n",
       "      <td>WestTexNewMexico</td>\n",
       "    </tr>\n",
       "    <tr>\n",
       "      <th>8</th>\n",
       "      <td>2018-01-28</td>\n",
       "      <td>1.71</td>\n",
       "      <td>13888.04</td>\n",
       "      <td>1191.70</td>\n",
       "      <td>3431.50</td>\n",
       "      <td>0.00</td>\n",
       "      <td>9264.84</td>\n",
       "      <td>8940.04</td>\n",
       "      <td>324.80</td>\n",
       "      <td>0.0</td>\n",
       "      <td>organic</td>\n",
       "      <td>2018</td>\n",
       "      <td>WestTexNewMexico</td>\n",
       "    </tr>\n",
       "    <tr>\n",
       "      <th>9</th>\n",
       "      <td>2018-01-21</td>\n",
       "      <td>1.87</td>\n",
       "      <td>13766.76</td>\n",
       "      <td>1191.92</td>\n",
       "      <td>2452.79</td>\n",
       "      <td>727.94</td>\n",
       "      <td>9394.11</td>\n",
       "      <td>9351.80</td>\n",
       "      <td>42.31</td>\n",
       "      <td>0.0</td>\n",
       "      <td>organic</td>\n",
       "      <td>2018</td>\n",
       "      <td>WestTexNewMexico</td>\n",
       "    </tr>\n",
       "    <tr>\n",
       "      <th>10</th>\n",
       "      <td>2018-01-14</td>\n",
       "      <td>1.93</td>\n",
       "      <td>16205.22</td>\n",
       "      <td>1527.63</td>\n",
       "      <td>2981.04</td>\n",
       "      <td>727.01</td>\n",
       "      <td>10969.54</td>\n",
       "      <td>10919.54</td>\n",
       "      <td>50.00</td>\n",
       "      <td>0.0</td>\n",
       "      <td>organic</td>\n",
       "      <td>2018</td>\n",
       "      <td>WestTexNewMexico</td>\n",
       "    </tr>\n",
       "    <tr>\n",
       "      <th>11</th>\n",
       "      <td>2018-01-07</td>\n",
       "      <td>1.62</td>\n",
       "      <td>17489.58</td>\n",
       "      <td>2894.77</td>\n",
       "      <td>2356.13</td>\n",
       "      <td>224.53</td>\n",
       "      <td>12014.15</td>\n",
       "      <td>11988.14</td>\n",
       "      <td>26.01</td>\n",
       "      <td>0.0</td>\n",
       "      <td>organic</td>\n",
       "      <td>2018</td>\n",
       "      <td>WestTexNewMexico</td>\n",
       "    </tr>\n",
       "  </tbody>\n",
       "</table>\n",
       "</div>"
      ],
      "text/plain": [
       "          Date  AveragePrice  Total Volume     4046     4225    4770  \\\n",
       "7   2018-02-04          1.63      17074.83  2046.96  1529.20    0.00   \n",
       "8   2018-01-28          1.71      13888.04  1191.70  3431.50    0.00   \n",
       "9   2018-01-21          1.87      13766.76  1191.92  2452.79  727.94   \n",
       "10  2018-01-14          1.93      16205.22  1527.63  2981.04  727.01   \n",
       "11  2018-01-07          1.62      17489.58  2894.77  2356.13  224.53   \n",
       "\n",
       "    Total Bags  Small Bags  Large Bags  XLarge Bags     type  year  \\\n",
       "7     13498.67    13066.82      431.85          0.0  organic  2018   \n",
       "8      9264.84     8940.04      324.80          0.0  organic  2018   \n",
       "9      9394.11     9351.80       42.31          0.0  organic  2018   \n",
       "10    10969.54    10919.54       50.00          0.0  organic  2018   \n",
       "11    12014.15    11988.14       26.01          0.0  organic  2018   \n",
       "\n",
       "              region  \n",
       "7   WestTexNewMexico  \n",
       "8   WestTexNewMexico  \n",
       "9   WestTexNewMexico  \n",
       "10  WestTexNewMexico  \n",
       "11  WestTexNewMexico  "
      ]
     },
     "execution_count": 4,
     "metadata": {},
     "output_type": "execute_result"
    }
   ],
   "source": [
    "# lets check the last five records :\n",
    "data.tail()"
   ]
  },
  {
   "cell_type": "code",
   "execution_count": 5,
   "metadata": {},
   "outputs": [
    {
     "data": {
      "text/plain": [
       "(18249, 13)"
      ]
     },
     "execution_count": 5,
     "metadata": {},
     "output_type": "execute_result"
    }
   ],
   "source": [
    "# shape of the dataset (Rows, Columns) :\n",
    "data.shape"
   ]
  },
  {
   "cell_type": "code",
   "execution_count": 6,
   "metadata": {},
   "outputs": [
    {
     "data": {
      "text/plain": [
       "Index(['Date', 'AveragePrice', 'Total Volume', '4046', '4225', '4770',\n",
       "       'Total Bags', 'Small Bags', 'Large Bags', 'XLarge Bags', 'type', 'year',\n",
       "       'region'],\n",
       "      dtype='object')"
      ]
     },
     "execution_count": 6,
     "metadata": {},
     "output_type": "execute_result"
    }
   ],
   "source": [
    "# names of the columns :\n",
    "data.columns"
   ]
  },
  {
   "cell_type": "code",
   "execution_count": 7,
   "metadata": {},
   "outputs": [
    {
     "name": "stdout",
     "output_type": "stream",
     "text": [
      "<class 'pandas.core.frame.DataFrame'>\n",
      "Int64Index: 18249 entries, 0 to 11\n",
      "Data columns (total 13 columns):\n",
      " #   Column        Non-Null Count  Dtype  \n",
      "---  ------        --------------  -----  \n",
      " 0   Date          18249 non-null  object \n",
      " 1   AveragePrice  18249 non-null  float64\n",
      " 2   Total Volume  18249 non-null  float64\n",
      " 3   4046          18249 non-null  float64\n",
      " 4   4225          18249 non-null  float64\n",
      " 5   4770          18249 non-null  float64\n",
      " 6   Total Bags    18249 non-null  float64\n",
      " 7   Small Bags    18249 non-null  float64\n",
      " 8   Large Bags    18249 non-null  float64\n",
      " 9   XLarge Bags   18249 non-null  float64\n",
      " 10  type          18249 non-null  object \n",
      " 11  year          18249 non-null  int64  \n",
      " 12  region        18249 non-null  object \n",
      "dtypes: float64(9), int64(1), object(3)\n",
      "memory usage: 1.9+ MB\n"
     ]
    }
   ],
   "source": [
    "# totalinformation of the given dataset :\n",
    "data.info()"
   ]
  },
  {
   "cell_type": "code",
   "execution_count": 8,
   "metadata": {},
   "outputs": [
    {
     "data": {
      "text/plain": [
       "Date            0\n",
       "AveragePrice    0\n",
       "Total Volume    0\n",
       "4046            0\n",
       "4225            0\n",
       "4770            0\n",
       "Total Bags      0\n",
       "Small Bags      0\n",
       "Large Bags      0\n",
       "XLarge Bags     0\n",
       "type            0\n",
       "year            0\n",
       "region          0\n",
       "dtype: int64"
      ]
     },
     "execution_count": 8,
     "metadata": {},
     "output_type": "execute_result"
    }
   ],
   "source": [
    "# check the null values :\n",
    "data.isnull().sum()"
   ]
  },
  {
   "cell_type": "raw",
   "metadata": {},
   "source": [
    "# Now first we are going to replace date column with (year,month,day)"
   ]
  },
  {
   "cell_type": "code",
   "execution_count": 9,
   "metadata": {},
   "outputs": [],
   "source": [
    "data['year']=pd.to_datetime(data['Date']).dt.year"
   ]
  },
  {
   "cell_type": "code",
   "execution_count": 10,
   "metadata": {},
   "outputs": [],
   "source": [
    "data['month']=pd.to_datetime(data['Date']).dt.month"
   ]
  },
  {
   "cell_type": "code",
   "execution_count": 11,
   "metadata": {},
   "outputs": [],
   "source": [
    "data['day']=pd.to_datetime(data['Date']).dt.day"
   ]
  },
  {
   "cell_type": "code",
   "execution_count": 12,
   "metadata": {},
   "outputs": [],
   "source": [
    "# now we will drop the date column :\n",
    "data.drop('Date',axis=1,inplace=True)"
   ]
  },
  {
   "cell_type": "code",
   "execution_count": 13,
   "metadata": {},
   "outputs": [
    {
     "data": {
      "text/html": [
       "<div>\n",
       "<style scoped>\n",
       "    .dataframe tbody tr th:only-of-type {\n",
       "        vertical-align: middle;\n",
       "    }\n",
       "\n",
       "    .dataframe tbody tr th {\n",
       "        vertical-align: top;\n",
       "    }\n",
       "\n",
       "    .dataframe thead th {\n",
       "        text-align: right;\n",
       "    }\n",
       "</style>\n",
       "<table border=\"1\" class=\"dataframe\">\n",
       "  <thead>\n",
       "    <tr style=\"text-align: right;\">\n",
       "      <th></th>\n",
       "      <th>AveragePrice</th>\n",
       "      <th>Total Volume</th>\n",
       "      <th>4046</th>\n",
       "      <th>4225</th>\n",
       "      <th>4770</th>\n",
       "      <th>Total Bags</th>\n",
       "      <th>Small Bags</th>\n",
       "      <th>Large Bags</th>\n",
       "      <th>XLarge Bags</th>\n",
       "      <th>type</th>\n",
       "      <th>year</th>\n",
       "      <th>region</th>\n",
       "      <th>month</th>\n",
       "      <th>day</th>\n",
       "    </tr>\n",
       "  </thead>\n",
       "  <tbody>\n",
       "    <tr>\n",
       "      <th>0</th>\n",
       "      <td>1.33</td>\n",
       "      <td>64236.62</td>\n",
       "      <td>1036.74</td>\n",
       "      <td>54454.85</td>\n",
       "      <td>48.16</td>\n",
       "      <td>8696.87</td>\n",
       "      <td>8603.62</td>\n",
       "      <td>93.25</td>\n",
       "      <td>0.0</td>\n",
       "      <td>conventional</td>\n",
       "      <td>2015</td>\n",
       "      <td>Albany</td>\n",
       "      <td>12</td>\n",
       "      <td>27</td>\n",
       "    </tr>\n",
       "    <tr>\n",
       "      <th>1</th>\n",
       "      <td>1.35</td>\n",
       "      <td>54876.98</td>\n",
       "      <td>674.28</td>\n",
       "      <td>44638.81</td>\n",
       "      <td>58.33</td>\n",
       "      <td>9505.56</td>\n",
       "      <td>9408.07</td>\n",
       "      <td>97.49</td>\n",
       "      <td>0.0</td>\n",
       "      <td>conventional</td>\n",
       "      <td>2015</td>\n",
       "      <td>Albany</td>\n",
       "      <td>12</td>\n",
       "      <td>20</td>\n",
       "    </tr>\n",
       "    <tr>\n",
       "      <th>2</th>\n",
       "      <td>0.93</td>\n",
       "      <td>118220.22</td>\n",
       "      <td>794.70</td>\n",
       "      <td>109149.67</td>\n",
       "      <td>130.50</td>\n",
       "      <td>8145.35</td>\n",
       "      <td>8042.21</td>\n",
       "      <td>103.14</td>\n",
       "      <td>0.0</td>\n",
       "      <td>conventional</td>\n",
       "      <td>2015</td>\n",
       "      <td>Albany</td>\n",
       "      <td>12</td>\n",
       "      <td>13</td>\n",
       "    </tr>\n",
       "    <tr>\n",
       "      <th>3</th>\n",
       "      <td>1.08</td>\n",
       "      <td>78992.15</td>\n",
       "      <td>1132.00</td>\n",
       "      <td>71976.41</td>\n",
       "      <td>72.58</td>\n",
       "      <td>5811.16</td>\n",
       "      <td>5677.40</td>\n",
       "      <td>133.76</td>\n",
       "      <td>0.0</td>\n",
       "      <td>conventional</td>\n",
       "      <td>2015</td>\n",
       "      <td>Albany</td>\n",
       "      <td>12</td>\n",
       "      <td>6</td>\n",
       "    </tr>\n",
       "    <tr>\n",
       "      <th>4</th>\n",
       "      <td>1.28</td>\n",
       "      <td>51039.60</td>\n",
       "      <td>941.48</td>\n",
       "      <td>43838.39</td>\n",
       "      <td>75.78</td>\n",
       "      <td>6183.95</td>\n",
       "      <td>5986.26</td>\n",
       "      <td>197.69</td>\n",
       "      <td>0.0</td>\n",
       "      <td>conventional</td>\n",
       "      <td>2015</td>\n",
       "      <td>Albany</td>\n",
       "      <td>11</td>\n",
       "      <td>29</td>\n",
       "    </tr>\n",
       "  </tbody>\n",
       "</table>\n",
       "</div>"
      ],
      "text/plain": [
       "   AveragePrice  Total Volume     4046       4225    4770  Total Bags  \\\n",
       "0          1.33      64236.62  1036.74   54454.85   48.16     8696.87   \n",
       "1          1.35      54876.98   674.28   44638.81   58.33     9505.56   \n",
       "2          0.93     118220.22   794.70  109149.67  130.50     8145.35   \n",
       "3          1.08      78992.15  1132.00   71976.41   72.58     5811.16   \n",
       "4          1.28      51039.60   941.48   43838.39   75.78     6183.95   \n",
       "\n",
       "   Small Bags  Large Bags  XLarge Bags          type  year  region  month  day  \n",
       "0     8603.62       93.25          0.0  conventional  2015  Albany     12   27  \n",
       "1     9408.07       97.49          0.0  conventional  2015  Albany     12   20  \n",
       "2     8042.21      103.14          0.0  conventional  2015  Albany     12   13  \n",
       "3     5677.40      133.76          0.0  conventional  2015  Albany     12    6  \n",
       "4     5986.26      197.69          0.0  conventional  2015  Albany     11   29  "
      ]
     },
     "execution_count": 13,
     "metadata": {},
     "output_type": "execute_result"
    }
   ],
   "source": [
    "# lets check the dataset :\n",
    "data.head()"
   ]
  },
  {
   "cell_type": "code",
   "execution_count": 14,
   "metadata": {},
   "outputs": [],
   "source": [
    "# we will drop the type column for now :\n",
    "data.drop('type',axis=1,inplace=True)"
   ]
  },
  {
   "cell_type": "code",
   "execution_count": 15,
   "metadata": {},
   "outputs": [
    {
     "data": {
      "text/html": [
       "<div>\n",
       "<style scoped>\n",
       "    .dataframe tbody tr th:only-of-type {\n",
       "        vertical-align: middle;\n",
       "    }\n",
       "\n",
       "    .dataframe tbody tr th {\n",
       "        vertical-align: top;\n",
       "    }\n",
       "\n",
       "    .dataframe thead th {\n",
       "        text-align: right;\n",
       "    }\n",
       "</style>\n",
       "<table border=\"1\" class=\"dataframe\">\n",
       "  <thead>\n",
       "    <tr style=\"text-align: right;\">\n",
       "      <th></th>\n",
       "      <th>AveragePrice</th>\n",
       "      <th>Total Volume</th>\n",
       "      <th>4046</th>\n",
       "      <th>4225</th>\n",
       "      <th>4770</th>\n",
       "      <th>Total Bags</th>\n",
       "      <th>Small Bags</th>\n",
       "      <th>Large Bags</th>\n",
       "      <th>XLarge Bags</th>\n",
       "      <th>year</th>\n",
       "      <th>region</th>\n",
       "      <th>month</th>\n",
       "      <th>day</th>\n",
       "    </tr>\n",
       "  </thead>\n",
       "  <tbody>\n",
       "    <tr>\n",
       "      <th>0</th>\n",
       "      <td>1.33</td>\n",
       "      <td>64236.62</td>\n",
       "      <td>1036.74</td>\n",
       "      <td>54454.85</td>\n",
       "      <td>48.16</td>\n",
       "      <td>8696.87</td>\n",
       "      <td>8603.62</td>\n",
       "      <td>93.25</td>\n",
       "      <td>0.0</td>\n",
       "      <td>2015</td>\n",
       "      <td>Albany</td>\n",
       "      <td>12</td>\n",
       "      <td>27</td>\n",
       "    </tr>\n",
       "    <tr>\n",
       "      <th>1</th>\n",
       "      <td>1.35</td>\n",
       "      <td>54876.98</td>\n",
       "      <td>674.28</td>\n",
       "      <td>44638.81</td>\n",
       "      <td>58.33</td>\n",
       "      <td>9505.56</td>\n",
       "      <td>9408.07</td>\n",
       "      <td>97.49</td>\n",
       "      <td>0.0</td>\n",
       "      <td>2015</td>\n",
       "      <td>Albany</td>\n",
       "      <td>12</td>\n",
       "      <td>20</td>\n",
       "    </tr>\n",
       "  </tbody>\n",
       "</table>\n",
       "</div>"
      ],
      "text/plain": [
       "   AveragePrice  Total Volume     4046      4225   4770  Total Bags  \\\n",
       "0          1.33      64236.62  1036.74  54454.85  48.16     8696.87   \n",
       "1          1.35      54876.98   674.28  44638.81  58.33     9505.56   \n",
       "\n",
       "   Small Bags  Large Bags  XLarge Bags  year  region  month  day  \n",
       "0     8603.62       93.25          0.0  2015  Albany     12   27  \n",
       "1     9408.07       97.49          0.0  2015  Albany     12   20  "
      ]
     },
     "execution_count": 15,
     "metadata": {},
     "output_type": "execute_result"
    }
   ],
   "source": [
    "data.head(2)"
   ]
  },
  {
   "cell_type": "code",
   "execution_count": 16,
   "metadata": {},
   "outputs": [],
   "source": [
    "# importing scikit learn library for LabelEncoder :\n",
    "from sklearn.preprocessing import LabelEncoder\n",
    "le=LabelEncoder()\n",
    "data['region']=le.fit_transform(data['region'])\n",
    "## we have now converted the region column :"
   ]
  },
  {
   "cell_type": "code",
   "execution_count": 17,
   "metadata": {},
   "outputs": [
    {
     "data": {
      "text/plain": [
       "<function matplotlib.pyplot.show(*args, **kw)>"
      ]
     },
     "execution_count": 17,
     "metadata": {},
     "output_type": "execute_result"
    },
    {
     "data": {
      "image/png": "[encoded data removed]",
      "text/plain": [
       "<Figure size 720x432 with 16 Axes>"
      ]
     },
     "metadata": {
      "needs_background": "light"
     },
     "output_type": "display_data"
    }
   ],
   "source": [
    "# lets plot the histogram of the columns :\n",
    "data.hist(figsize=(10,6))\n",
    "plt.show"
   ]
  },
  {
   "cell_type": "code",
   "execution_count": 18,
   "metadata": {},
   "outputs": [
    {
     "name": "stdout",
     "output_type": "stream",
     "text": [
      "AxesSubplot(0.125,0.125;0.775x0.755)\n"
     ]
    },
    {
     "data": {
      "image/png": "[encoded data removed]",
      "text/plain": [
       "<Figure size 432x288 with 1 Axes>"
      ]
     },
     "metadata": {
      "needs_background": "light"
     },
     "output_type": "display_data"
    }
   ],
   "source": [
    "# Univariate analysis :\n",
    "print(sns.countplot(data['day']))"
   ]
  },
  {
   "cell_type": "code",
   "execution_count": 19,
   "metadata": {},
   "outputs": [
    {
     "data": {
      "text/plain": [
       "<matplotlib.axes._subplots.AxesSubplot at 0x276c2727c88>"
      ]
     },
     "execution_count": 19,
     "metadata": {},
     "output_type": "execute_result"
    },
    {
     "data": {
      "image/png": "[encoded data removed]",
      "text/plain": [
       "<Figure size 432x288 with 1 Axes>"
      ]
     },
     "metadata": {
      "needs_background": "light"
     },
     "output_type": "display_data"
    }
   ],
   "source": [
    "# Univariate Analysis of day column :\n",
    "sns.distplot(data['day'])"
   ]
  },
  {
   "cell_type": "code",
   "execution_count": 20,
   "metadata": {},
   "outputs": [
    {
     "data": {
      "text/plain": [
       "<matplotlib.axes._subplots.AxesSubplot at 0x276c27cac48>"
      ]
     },
     "execution_count": 20,
     "metadata": {},
     "output_type": "execute_result"
    },
    {
     "data": {
      "image/png": "[encoded data removed]",
      "text/plain": [
       "<Figure size 432x288 with 1 Axes>"
      ]
     },
     "metadata": {
      "needs_background": "light"
     },
     "output_type": "display_data"
    }
   ],
   "source": [
    "sns.distplot(data['month'])"
   ]
  },
  {
   "cell_type": "code",
   "execution_count": 21,
   "metadata": {},
   "outputs": [
    {
     "data": {
      "image/png": "[encoded data removed]",
      "text/plain": [
       "<Figure size 864x864 with 16 Axes>"
      ]
     },
     "metadata": {
      "needs_background": "light"
     },
     "output_type": "display_data"
    }
   ],
   "source": [
    "# box plot for the better visualisation of all columns :\n",
    "data.plot(kind='box',subplots=True,layout=(4,4),fontsize=8,figsize=(12,12))\n",
    "plt.show()"
   ]
  },
  {
   "cell_type": "code",
   "execution_count": 22,
   "metadata": {},
   "outputs": [
    {
     "data": {
      "text/plain": [
       "AveragePrice     0.580303\n",
       "Total Volume     9.007687\n",
       "4046             8.648220\n",
       "4225             8.942466\n",
       "4770            10.159396\n",
       "Total Bags       9.756072\n",
       "Small Bags       9.540660\n",
       "Large Bags       9.796455\n",
       "XLarge Bags     13.139751\n",
       "year             0.215339\n",
       "region           0.000030\n",
       "month            0.106617\n",
       "day              0.014310\n",
       "dtype: float64"
      ]
     },
     "execution_count": 22,
     "metadata": {},
     "output_type": "execute_result"
    }
   ],
   "source": [
    "# lets check the skewness :\n",
    "data.skew()"
   ]
  },
  {
   "cell_type": "code",
   "execution_count": 23,
   "metadata": {},
   "outputs": [
    {
     "name": "stdout",
     "output_type": "stream",
     "text": [
      "(18249, 13)\n",
      "(17651, 13)\n"
     ]
    }
   ],
   "source": [
    "# check the outliers from the dataset :\n",
    "from scipy.stats import zscore\n",
    "z_score=abs(zscore(data))\n",
    "print(data.shape)\n",
    "data_final=data.loc[(z_score<3).all(axis=1)]\n",
    "print(data_final.shape)"
   ]
  },
  {
   "cell_type": "code",
   "execution_count": 24,
   "metadata": {},
   "outputs": [
    {
     "data": {
      "text/plain": [
       "AveragePrice     0.580303\n",
       "Total Volume     9.007687\n",
       "4046             8.648220\n",
       "4225             8.942466\n",
       "4770            10.159396\n",
       "Total Bags       9.756072\n",
       "Small Bags       9.540660\n",
       "Large Bags       9.796455\n",
       "XLarge Bags     13.139751\n",
       "year             0.215339\n",
       "region           0.000030\n",
       "month            0.106617\n",
       "day              0.014310\n",
       "dtype: float64"
      ]
     },
     "execution_count": 24,
     "metadata": {},
     "output_type": "execute_result"
    }
   ],
   "source": [
    "data.skew()"
   ]
  },
  {
   "cell_type": "code",
   "execution_count": 25,
   "metadata": {},
   "outputs": [],
   "source": [
    "# we will use for loop for removing skewness :\n",
    "for i in data.columns:\n",
    "    if data.skew().loc[i]>0.55:\n",
    "        data[i]=np.log1p(data[i])"
   ]
  },
  {
   "cell_type": "code",
   "execution_count": 26,
   "metadata": {},
   "outputs": [
    {
     "data": {
      "text/plain": [
       "AveragePrice    0.138629\n",
       "Total Volume    0.088098\n",
       "4046           -0.328195\n",
       "4225           -0.486654\n",
       "4770            0.099986\n",
       "Total Bags     -0.218874\n",
       "Small Bags     -0.622148\n",
       "Large Bags     -0.547765\n",
       "XLarge Bags     1.176494\n",
       "year            0.215339\n",
       "region          0.000030\n",
       "month           0.106617\n",
       "day             0.014310\n",
       "dtype: float64"
      ]
     },
     "execution_count": 26,
     "metadata": {},
     "output_type": "execute_result"
    }
   ],
   "source": [
    "data.skew()"
   ]
  },
  {
   "cell_type": "code",
   "execution_count": 27,
   "metadata": {},
   "outputs": [],
   "source": [
    "for i in data.columns:\n",
    "    if data.skew().loc[i]>0.55:\n",
    "        data[i]=np.log1p(data[i])"
   ]
  },
  {
   "cell_type": "code",
   "execution_count": 28,
   "metadata": {},
   "outputs": [
    {
     "data": {
      "text/plain": [
       "AveragePrice    0.138629\n",
       "Total Volume    0.088098\n",
       "4046           -0.328195\n",
       "4225           -0.486654\n",
       "4770            0.099986\n",
       "Total Bags     -0.218874\n",
       "Small Bags     -0.622148\n",
       "Large Bags     -0.547765\n",
       "XLarge Bags     0.840536\n",
       "year            0.215339\n",
       "region          0.000030\n",
       "month           0.106617\n",
       "day             0.014310\n",
       "dtype: float64"
      ]
     },
     "execution_count": 28,
     "metadata": {},
     "output_type": "execute_result"
    }
   ],
   "source": [
    "data.skew()"
   ]
  },
  {
   "cell_type": "code",
   "execution_count": 29,
   "metadata": {},
   "outputs": [],
   "source": [
    "for i in data.columns:\n",
    "    if data.skew().loc[i]>0.55:\n",
    "        data[i]=np.log1p(data[i])"
   ]
  },
  {
   "cell_type": "code",
   "execution_count": 30,
   "metadata": {},
   "outputs": [],
   "source": [
    "for i in data.columns:\n",
    "    if data.skew().loc[i]>0.55:\n",
    "        data[i]=np.log1p(data[i])"
   ]
  },
  {
   "cell_type": "code",
   "execution_count": 31,
   "metadata": {},
   "outputs": [],
   "source": [
    "for i in data.columns:\n",
    "    if data.skew().loc[i]>0.55:\n",
    "        data[i]=np.log1p(data[i])"
   ]
  },
  {
   "cell_type": "code",
   "execution_count": 32,
   "metadata": {},
   "outputs": [
    {
     "data": {
      "text/plain": [
       "AveragePrice    0.138629\n",
       "Total Volume    0.088098\n",
       "4046           -0.328195\n",
       "4225           -0.486654\n",
       "4770            0.099986\n",
       "Total Bags     -0.218874\n",
       "Small Bags     -0.622148\n",
       "Large Bags     -0.547765\n",
       "XLarge Bags     0.709558\n",
       "year            0.215339\n",
       "region          0.000030\n",
       "month           0.106617\n",
       "day             0.014310\n",
       "dtype: float64"
      ]
     },
     "execution_count": 32,
     "metadata": {},
     "output_type": "execute_result"
    }
   ],
   "source": [
    "data.skew()"
   ]
  },
  {
   "cell_type": "code",
   "execution_count": 33,
   "metadata": {},
   "outputs": [],
   "source": [
    "for i in data.columns:\n",
    "    if data.skew().loc[i]>0.55:\n",
    "        data[i]=np.log1p(data[i])"
   ]
  },
  {
   "cell_type": "code",
   "execution_count": 34,
   "metadata": {},
   "outputs": [],
   "source": [
    "\n",
    "for i in data.columns:\n",
    "    if data.skew().loc[i]>0.55:\n",
    "        data[i]=np.log1p(data[i])"
   ]
  },
  {
   "cell_type": "code",
   "execution_count": 35,
   "metadata": {},
   "outputs": [
    {
     "data": {
      "text/plain": [
       "AveragePrice    0.138629\n",
       "Total Volume    0.088098\n",
       "4046           -0.328195\n",
       "4225           -0.486654\n",
       "4770            0.099986\n",
       "Total Bags     -0.218874\n",
       "Small Bags     -0.622148\n",
       "Large Bags     -0.547765\n",
       "XLarge Bags     0.694246\n",
       "year            0.215339\n",
       "region          0.000030\n",
       "month           0.106617\n",
       "day             0.014310\n",
       "dtype: float64"
      ]
     },
     "execution_count": 35,
     "metadata": {},
     "output_type": "execute_result"
    }
   ],
   "source": [
    "data.skew()"
   ]
  },
  {
   "cell_type": "code",
   "execution_count": 36,
   "metadata": {},
   "outputs": [
    {
     "data": {
      "text/html": [
       "<div>\n",
       "<style scoped>\n",
       "    .dataframe tbody tr th:only-of-type {\n",
       "        vertical-align: middle;\n",
       "    }\n",
       "\n",
       "    .dataframe tbody tr th {\n",
       "        vertical-align: top;\n",
       "    }\n",
       "\n",
       "    .dataframe thead th {\n",
       "        text-align: right;\n",
       "    }\n",
       "</style>\n",
       "<table border=\"1\" class=\"dataframe\">\n",
       "  <thead>\n",
       "    <tr style=\"text-align: right;\">\n",
       "      <th></th>\n",
       "      <th>AveragePrice</th>\n",
       "      <th>Total Volume</th>\n",
       "      <th>4046</th>\n",
       "      <th>4225</th>\n",
       "      <th>4770</th>\n",
       "      <th>Total Bags</th>\n",
       "      <th>Small Bags</th>\n",
       "      <th>Large Bags</th>\n",
       "      <th>XLarge Bags</th>\n",
       "      <th>year</th>\n",
       "      <th>region</th>\n",
       "      <th>month</th>\n",
       "      <th>day</th>\n",
       "    </tr>\n",
       "  </thead>\n",
       "  <tbody>\n",
       "    <tr>\n",
       "      <th>count</th>\n",
       "      <td>18249.000000</td>\n",
       "      <td>18249.000000</td>\n",
       "      <td>18249.000000</td>\n",
       "      <td>18249.000000</td>\n",
       "      <td>18249.000000</td>\n",
       "      <td>18249.000000</td>\n",
       "      <td>18249.000000</td>\n",
       "      <td>18249.000000</td>\n",
       "      <td>18249.000000</td>\n",
       "      <td>18249.000000</td>\n",
       "      <td>18249.000000</td>\n",
       "      <td>18249.000000</td>\n",
       "      <td>18249.000000</td>\n",
       "    </tr>\n",
       "    <tr>\n",
       "      <th>mean</th>\n",
       "      <td>0.864300</td>\n",
       "      <td>11.316380</td>\n",
       "      <td>8.992344</td>\n",
       "      <td>9.836480</td>\n",
       "      <td>5.053649</td>\n",
       "      <td>10.188148</td>\n",
       "      <td>9.698227</td>\n",
       "      <td>7.115979</td>\n",
       "      <td>0.122522</td>\n",
       "      <td>2016.147899</td>\n",
       "      <td>26.495644</td>\n",
       "      <td>6.177215</td>\n",
       "      <td>15.662612</td>\n",
       "    </tr>\n",
       "    <tr>\n",
       "      <th>std</th>\n",
       "      <td>0.164696</td>\n",
       "      <td>2.293415</td>\n",
       "      <td>3.358087</td>\n",
       "      <td>2.850342</td>\n",
       "      <td>4.150570</td>\n",
       "      <td>2.261495</td>\n",
       "      <td>2.575460</td>\n",
       "      <td>3.837418</td>\n",
       "      <td>0.171314</td>\n",
       "      <td>0.939938</td>\n",
       "      <td>15.583788</td>\n",
       "      <td>3.534130</td>\n",
       "      <td>8.776281</td>\n",
       "    </tr>\n",
       "    <tr>\n",
       "      <th>min</th>\n",
       "      <td>0.364643</td>\n",
       "      <td>4.449218</td>\n",
       "      <td>0.000000</td>\n",
       "      <td>0.000000</td>\n",
       "      <td>0.000000</td>\n",
       "      <td>0.000000</td>\n",
       "      <td>0.000000</td>\n",
       "      <td>0.000000</td>\n",
       "      <td>0.000000</td>\n",
       "      <td>2015.000000</td>\n",
       "      <td>0.000000</td>\n",
       "      <td>1.000000</td>\n",
       "      <td>1.000000</td>\n",
       "    </tr>\n",
       "    <tr>\n",
       "      <th>25%</th>\n",
       "      <td>0.741937</td>\n",
       "      <td>9.290960</td>\n",
       "      <td>6.751183</td>\n",
       "      <td>8.009622</td>\n",
       "      <td>0.000000</td>\n",
       "      <td>8.534962</td>\n",
       "      <td>7.955222</td>\n",
       "      <td>4.855695</td>\n",
       "      <td>0.000000</td>\n",
       "      <td>2015.000000</td>\n",
       "      <td>13.000000</td>\n",
       "      <td>3.000000</td>\n",
       "      <td>8.000000</td>\n",
       "    </tr>\n",
       "    <tr>\n",
       "      <th>50%</th>\n",
       "      <td>0.862890</td>\n",
       "      <td>11.584108</td>\n",
       "      <td>9.064887</td>\n",
       "      <td>10.277187</td>\n",
       "      <td>5.225693</td>\n",
       "      <td>10.590235</td>\n",
       "      <td>10.179748</td>\n",
       "      <td>7.881828</td>\n",
       "      <td>0.000000</td>\n",
       "      <td>2016.000000</td>\n",
       "      <td>26.000000</td>\n",
       "      <td>6.000000</td>\n",
       "      <td>16.000000</td>\n",
       "    </tr>\n",
       "    <tr>\n",
       "      <th>75%</th>\n",
       "      <td>0.978326</td>\n",
       "      <td>12.978408</td>\n",
       "      <td>11.617476</td>\n",
       "      <td>11.919775</td>\n",
       "      <td>8.739444</td>\n",
       "      <td>11.615341</td>\n",
       "      <td>11.330668</td>\n",
       "      <td>10.000172</td>\n",
       "      <td>0.355517</td>\n",
       "      <td>2017.000000</td>\n",
       "      <td>40.000000</td>\n",
       "      <td>9.000000</td>\n",
       "      <td>23.000000</td>\n",
       "    </tr>\n",
       "    <tr>\n",
       "      <th>max</th>\n",
       "      <td>1.446919</td>\n",
       "      <td>17.950767</td>\n",
       "      <td>16.939795</td>\n",
       "      <td>16.834499</td>\n",
       "      <td>14.750207</td>\n",
       "      <td>16.779398</td>\n",
       "      <td>16.409614</td>\n",
       "      <td>15.559322</td>\n",
       "      <td>0.387367</td>\n",
       "      <td>2018.000000</td>\n",
       "      <td>53.000000</td>\n",
       "      <td>12.000000</td>\n",
       "      <td>31.000000</td>\n",
       "    </tr>\n",
       "  </tbody>\n",
       "</table>\n",
       "</div>"
      ],
      "text/plain": [
       "       AveragePrice  Total Volume          4046          4225          4770  \\\n",
       "count  18249.000000  18249.000000  18249.000000  18249.000000  18249.000000   \n",
       "mean       0.864300     11.316380      8.992344      9.836480      5.053649   \n",
       "std        0.164696      2.293415      3.358087      2.850342      4.150570   \n",
       "min        0.364643      4.449218      0.000000      0.000000      0.000000   \n",
       "25%        0.741937      9.290960      6.751183      8.009622      0.000000   \n",
       "50%        0.862890     11.584108      9.064887     10.277187      5.225693   \n",
       "75%        0.978326     12.978408     11.617476     11.919775      8.739444   \n",
       "max        1.446919     17.950767     16.939795     16.834499     14.750207   \n",
       "\n",
       "         Total Bags    Small Bags    Large Bags   XLarge Bags          year  \\\n",
       "count  18249.000000  18249.000000  18249.000000  18249.000000  18249.000000   \n",
       "mean      10.188148      9.698227      7.115979      0.122522   2016.147899   \n",
       "std        2.261495      2.575460      3.837418      0.171314      0.939938   \n",
       "min        0.000000      0.000000      0.000000      0.000000   2015.000000   \n",
       "25%        8.534962      7.955222      4.855695      0.000000   2015.000000   \n",
       "50%       10.590235     10.179748      7.881828      0.000000   2016.000000   \n",
       "75%       11.615341     11.330668     10.000172      0.355517   2017.000000   \n",
       "max       16.779398     16.409614     15.559322      0.387367   2018.000000   \n",
       "\n",
       "             region         month           day  \n",
       "count  18249.000000  18249.000000  18249.000000  \n",
       "mean      26.495644      6.177215     15.662612  \n",
       "std       15.583788      3.534130      8.776281  \n",
       "min        0.000000      1.000000      1.000000  \n",
       "25%       13.000000      3.000000      8.000000  \n",
       "50%       26.000000      6.000000     16.000000  \n",
       "75%       40.000000      9.000000     23.000000  \n",
       "max       53.000000     12.000000     31.000000  "
      ]
     },
     "execution_count": 36,
     "metadata": {},
     "output_type": "execute_result"
    }
   ],
   "source": [
    "# Stastistical Analysis :\n",
    "data.describe()"
   ]
  },
  {
   "cell_type": "code",
   "execution_count": 37,
   "metadata": {},
   "outputs": [
    {
     "data": {
      "text/html": [
       "<div>\n",
       "<style scoped>\n",
       "    .dataframe tbody tr th:only-of-type {\n",
       "        vertical-align: middle;\n",
       "    }\n",
       "\n",
       "    .dataframe tbody tr th {\n",
       "        vertical-align: top;\n",
       "    }\n",
       "\n",
       "    .dataframe thead th {\n",
       "        text-align: right;\n",
       "    }\n",
       "</style>\n",
       "<table border=\"1\" class=\"dataframe\">\n",
       "  <thead>\n",
       "    <tr style=\"text-align: right;\">\n",
       "      <th></th>\n",
       "      <th>AveragePrice</th>\n",
       "      <th>Total Volume</th>\n",
       "      <th>4046</th>\n",
       "      <th>4225</th>\n",
       "      <th>4770</th>\n",
       "      <th>Total Bags</th>\n",
       "      <th>Small Bags</th>\n",
       "      <th>Large Bags</th>\n",
       "      <th>XLarge Bags</th>\n",
       "      <th>year</th>\n",
       "      <th>region</th>\n",
       "      <th>month</th>\n",
       "      <th>day</th>\n",
       "    </tr>\n",
       "  </thead>\n",
       "  <tbody>\n",
       "    <tr>\n",
       "      <th>AveragePrice</th>\n",
       "      <td>1.000000</td>\n",
       "      <td>-0.592833</td>\n",
       "      <td>-0.556817</td>\n",
       "      <td>-0.457034</td>\n",
       "      <td>-0.518407</td>\n",
       "      <td>-0.579452</td>\n",
       "      <td>-0.496176</td>\n",
       "      <td>-0.484128</td>\n",
       "      <td>-0.419057</td>\n",
       "      <td>0.092480</td>\n",
       "      <td>-0.016902</td>\n",
       "      <td>0.163963</td>\n",
       "      <td>0.032275</td>\n",
       "    </tr>\n",
       "    <tr>\n",
       "      <th>Total Volume</th>\n",
       "      <td>-0.592833</td>\n",
       "      <td>1.000000</td>\n",
       "      <td>0.886538</td>\n",
       "      <td>0.908610</td>\n",
       "      <td>0.834274</td>\n",
       "      <td>0.934924</td>\n",
       "      <td>0.876670</td>\n",
       "      <td>0.671429</td>\n",
       "      <td>0.654372</td>\n",
       "      <td>0.086274</td>\n",
       "      <td>0.111673</td>\n",
       "      <td>-0.034262</td>\n",
       "      <td>-0.010493</td>\n",
       "    </tr>\n",
       "    <tr>\n",
       "      <th>4046</th>\n",
       "      <td>-0.556817</td>\n",
       "      <td>0.886538</td>\n",
       "      <td>1.000000</td>\n",
       "      <td>0.761893</td>\n",
       "      <td>0.747167</td>\n",
       "      <td>0.785653</td>\n",
       "      <td>0.741634</td>\n",
       "      <td>0.582992</td>\n",
       "      <td>0.587406</td>\n",
       "      <td>0.011078</td>\n",
       "      <td>0.191000</td>\n",
       "      <td>-0.033224</td>\n",
       "      <td>-0.007349</td>\n",
       "    </tr>\n",
       "    <tr>\n",
       "      <th>4225</th>\n",
       "      <td>-0.457034</td>\n",
       "      <td>0.908610</td>\n",
       "      <td>0.761893</td>\n",
       "      <td>1.000000</td>\n",
       "      <td>0.794104</td>\n",
       "      <td>0.790640</td>\n",
       "      <td>0.722492</td>\n",
       "      <td>0.614586</td>\n",
       "      <td>0.586006</td>\n",
       "      <td>0.014321</td>\n",
       "      <td>0.072366</td>\n",
       "      <td>-0.030705</td>\n",
       "      <td>-0.008917</td>\n",
       "    </tr>\n",
       "    <tr>\n",
       "      <th>4770</th>\n",
       "      <td>-0.518407</td>\n",
       "      <td>0.834274</td>\n",
       "      <td>0.747167</td>\n",
       "      <td>0.794104</td>\n",
       "      <td>1.000000</td>\n",
       "      <td>0.773176</td>\n",
       "      <td>0.747692</td>\n",
       "      <td>0.558938</td>\n",
       "      <td>0.644796</td>\n",
       "      <td>-0.040618</td>\n",
       "      <td>0.071842</td>\n",
       "      <td>-0.025808</td>\n",
       "      <td>-0.002803</td>\n",
       "    </tr>\n",
       "    <tr>\n",
       "      <th>Total Bags</th>\n",
       "      <td>-0.579452</td>\n",
       "      <td>0.934924</td>\n",
       "      <td>0.785653</td>\n",
       "      <td>0.790640</td>\n",
       "      <td>0.773176</td>\n",
       "      <td>1.000000</td>\n",
       "      <td>0.929040</td>\n",
       "      <td>0.709648</td>\n",
       "      <td>0.624242</td>\n",
       "      <td>0.222446</td>\n",
       "      <td>0.105552</td>\n",
       "      <td>-0.022617</td>\n",
       "      <td>-0.008874</td>\n",
       "    </tr>\n",
       "    <tr>\n",
       "      <th>Small Bags</th>\n",
       "      <td>-0.496176</td>\n",
       "      <td>0.876670</td>\n",
       "      <td>0.741634</td>\n",
       "      <td>0.722492</td>\n",
       "      <td>0.747692</td>\n",
       "      <td>0.929040</td>\n",
       "      <td>1.000000</td>\n",
       "      <td>0.526174</td>\n",
       "      <td>0.592697</td>\n",
       "      <td>0.202987</td>\n",
       "      <td>0.078192</td>\n",
       "      <td>-0.017234</td>\n",
       "      <td>-0.006399</td>\n",
       "    </tr>\n",
       "    <tr>\n",
       "      <th>Large Bags</th>\n",
       "      <td>-0.484128</td>\n",
       "      <td>0.671429</td>\n",
       "      <td>0.582992</td>\n",
       "      <td>0.614586</td>\n",
       "      <td>0.558938</td>\n",
       "      <td>0.709648</td>\n",
       "      <td>0.526174</td>\n",
       "      <td>1.000000</td>\n",
       "      <td>0.463829</td>\n",
       "      <td>0.193857</td>\n",
       "      <td>0.113016</td>\n",
       "      <td>-0.020540</td>\n",
       "      <td>-0.003034</td>\n",
       "    </tr>\n",
       "    <tr>\n",
       "      <th>XLarge Bags</th>\n",
       "      <td>-0.419057</td>\n",
       "      <td>0.654372</td>\n",
       "      <td>0.587406</td>\n",
       "      <td>0.586006</td>\n",
       "      <td>0.644796</td>\n",
       "      <td>0.624242</td>\n",
       "      <td>0.592697</td>\n",
       "      <td>0.463829</td>\n",
       "      <td>1.000000</td>\n",
       "      <td>0.159927</td>\n",
       "      <td>0.015556</td>\n",
       "      <td>0.013422</td>\n",
       "      <td>0.007317</td>\n",
       "    </tr>\n",
       "    <tr>\n",
       "      <th>year</th>\n",
       "      <td>0.092480</td>\n",
       "      <td>0.086274</td>\n",
       "      <td>0.011078</td>\n",
       "      <td>0.014321</td>\n",
       "      <td>-0.040618</td>\n",
       "      <td>0.222446</td>\n",
       "      <td>0.202987</td>\n",
       "      <td>0.193857</td>\n",
       "      <td>0.159927</td>\n",
       "      <td>1.000000</td>\n",
       "      <td>-0.000055</td>\n",
       "      <td>-0.177050</td>\n",
       "      <td>0.004475</td>\n",
       "    </tr>\n",
       "    <tr>\n",
       "      <th>region</th>\n",
       "      <td>-0.016902</td>\n",
       "      <td>0.111673</td>\n",
       "      <td>0.191000</td>\n",
       "      <td>0.072366</td>\n",
       "      <td>0.071842</td>\n",
       "      <td>0.105552</td>\n",
       "      <td>0.078192</td>\n",
       "      <td>0.113016</td>\n",
       "      <td>0.015556</td>\n",
       "      <td>-0.000055</td>\n",
       "      <td>1.000000</td>\n",
       "      <td>-0.000144</td>\n",
       "      <td>-0.000021</td>\n",
       "    </tr>\n",
       "    <tr>\n",
       "      <th>month</th>\n",
       "      <td>0.163963</td>\n",
       "      <td>-0.034262</td>\n",
       "      <td>-0.033224</td>\n",
       "      <td>-0.030705</td>\n",
       "      <td>-0.025808</td>\n",
       "      <td>-0.022617</td>\n",
       "      <td>-0.017234</td>\n",
       "      <td>-0.020540</td>\n",
       "      <td>0.013422</td>\n",
       "      <td>-0.177050</td>\n",
       "      <td>-0.000144</td>\n",
       "      <td>1.000000</td>\n",
       "      <td>0.010621</td>\n",
       "    </tr>\n",
       "    <tr>\n",
       "      <th>day</th>\n",
       "      <td>0.032275</td>\n",
       "      <td>-0.010493</td>\n",
       "      <td>-0.007349</td>\n",
       "      <td>-0.008917</td>\n",
       "      <td>-0.002803</td>\n",
       "      <td>-0.008874</td>\n",
       "      <td>-0.006399</td>\n",
       "      <td>-0.003034</td>\n",
       "      <td>0.007317</td>\n",
       "      <td>0.004475</td>\n",
       "      <td>-0.000021</td>\n",
       "      <td>0.010621</td>\n",
       "      <td>1.000000</td>\n",
       "    </tr>\n",
       "  </tbody>\n",
       "</table>\n",
       "</div>"
      ],
      "text/plain": [
       "              AveragePrice  Total Volume      4046      4225      4770  \\\n",
       "AveragePrice      1.000000     -0.592833 -0.556817 -0.457034 -0.518407   \n",
       "Total Volume     -0.592833      1.000000  0.886538  0.908610  0.834274   \n",
       "4046             -0.556817      0.886538  1.000000  0.761893  0.747167   \n",
       "4225             -0.457034      0.908610  0.761893  1.000000  0.794104   \n",
       "4770             -0.518407      0.834274  0.747167  0.794104  1.000000   \n",
       "Total Bags       -0.579452      0.934924  0.785653  0.790640  0.773176   \n",
       "Small Bags       -0.496176      0.876670  0.741634  0.722492  0.747692   \n",
       "Large Bags       -0.484128      0.671429  0.582992  0.614586  0.558938   \n",
       "XLarge Bags      -0.419057      0.654372  0.587406  0.586006  0.644796   \n",
       "year              0.092480      0.086274  0.011078  0.014321 -0.040618   \n",
       "region           -0.016902      0.111673  0.191000  0.072366  0.071842   \n",
       "month             0.163963     -0.034262 -0.033224 -0.030705 -0.025808   \n",
       "day               0.032275     -0.010493 -0.007349 -0.008917 -0.002803   \n",
       "\n",
       "              Total Bags  Small Bags  Large Bags  XLarge Bags      year  \\\n",
       "AveragePrice   -0.579452   -0.496176   -0.484128    -0.419057  0.092480   \n",
       "Total Volume    0.934924    0.876670    0.671429     0.654372  0.086274   \n",
       "4046            0.785653    0.741634    0.582992     0.587406  0.011078   \n",
       "4225            0.790640    0.722492    0.614586     0.586006  0.014321   \n",
       "4770            0.773176    0.747692    0.558938     0.644796 -0.040618   \n",
       "Total Bags      1.000000    0.929040    0.709648     0.624242  0.222446   \n",
       "Small Bags      0.929040    1.000000    0.526174     0.592697  0.202987   \n",
       "Large Bags      0.709648    0.526174    1.000000     0.463829  0.193857   \n",
       "XLarge Bags     0.624242    0.592697    0.463829     1.000000  0.159927   \n",
       "year            0.222446    0.202987    0.193857     0.159927  1.000000   \n",
       "region          0.105552    0.078192    0.113016     0.015556 -0.000055   \n",
       "month          -0.022617   -0.017234   -0.020540     0.013422 -0.177050   \n",
       "day            -0.008874   -0.006399   -0.003034     0.007317  0.004475   \n",
       "\n",
       "                region     month       day  \n",
       "AveragePrice -0.016902  0.163963  0.032275  \n",
       "Total Volume  0.111673 -0.034262 -0.010493  \n",
       "4046          0.191000 -0.033224 -0.007349  \n",
       "4225          0.072366 -0.030705 -0.008917  \n",
       "4770          0.071842 -0.025808 -0.002803  \n",
       "Total Bags    0.105552 -0.022617 -0.008874  \n",
       "Small Bags    0.078192 -0.017234 -0.006399  \n",
       "Large Bags    0.113016 -0.020540 -0.003034  \n",
       "XLarge Bags   0.015556  0.013422  0.007317  \n",
       "year         -0.000055 -0.177050  0.004475  \n",
       "region        1.000000 -0.000144 -0.000021  \n",
       "month        -0.000144  1.000000  0.010621  \n",
       "day          -0.000021  0.010621  1.000000  "
      ]
     },
     "execution_count": 37,
     "metadata": {},
     "output_type": "execute_result"
    }
   ],
   "source": [
    "# correlation of the given dataset :\n",
    "dfr=data.corr()\n",
    "dfr"
   ]
  },
  {
   "cell_type": "code",
   "execution_count": 38,
   "metadata": {},
   "outputs": [
    {
     "data": {
      "image/png": "[encoded data removed]",
      "text/plain": [
       "<Figure size 1008x720 with 2 Axes>"
      ]
     },
     "metadata": {
      "needs_background": "light"
     },
     "output_type": "display_data"
    }
   ],
   "source": [
    "# Correlation of data by heatmap :\n",
    "plt.figure(figsize=(14,10))\n",
    "sns.heatmap(dfr,annot=True)\n",
    "plt.show()"
   ]
  },
  {
   "cell_type": "code",
   "execution_count": 39,
   "metadata": {},
   "outputs": [
    {
     "data": {
      "text/html": [
       "<div>\n",
       "<style scoped>\n",
       "    .dataframe tbody tr th:only-of-type {\n",
       "        vertical-align: middle;\n",
       "    }\n",
       "\n",
       "    .dataframe tbody tr th {\n",
       "        vertical-align: top;\n",
       "    }\n",
       "\n",
       "    .dataframe thead th {\n",
       "        text-align: right;\n",
       "    }\n",
       "</style>\n",
       "<table border=\"1\" class=\"dataframe\">\n",
       "  <thead>\n",
       "    <tr style=\"text-align: right;\">\n",
       "      <th></th>\n",
       "      <th>AveragePrice</th>\n",
       "      <th>Total Volume</th>\n",
       "      <th>4046</th>\n",
       "      <th>4225</th>\n",
       "      <th>4770</th>\n",
       "      <th>Total Bags</th>\n",
       "      <th>Small Bags</th>\n",
       "      <th>Large Bags</th>\n",
       "      <th>XLarge Bags</th>\n",
       "      <th>year</th>\n",
       "      <th>region</th>\n",
       "      <th>month</th>\n",
       "      <th>day</th>\n",
       "    </tr>\n",
       "  </thead>\n",
       "  <tbody>\n",
       "    <tr>\n",
       "      <th>0</th>\n",
       "      <td>0.845868</td>\n",
       "      <td>11.070344</td>\n",
       "      <td>6.944801</td>\n",
       "      <td>10.905146</td>\n",
       "      <td>3.895080</td>\n",
       "      <td>9.070833</td>\n",
       "      <td>9.060055</td>\n",
       "      <td>4.545951</td>\n",
       "      <td>0.0</td>\n",
       "      <td>2015</td>\n",
       "      <td>0</td>\n",
       "      <td>12</td>\n",
       "      <td>27</td>\n",
       "    </tr>\n",
       "    <tr>\n",
       "      <th>1</th>\n",
       "      <td>0.854415</td>\n",
       "      <td>10.912867</td>\n",
       "      <td>6.515127</td>\n",
       "      <td>10.706381</td>\n",
       "      <td>4.083115</td>\n",
       "      <td>9.159737</td>\n",
       "      <td>9.149429</td>\n",
       "      <td>4.589955</td>\n",
       "      <td>0.0</td>\n",
       "      <td>2015</td>\n",
       "      <td>0</td>\n",
       "      <td>12</td>\n",
       "      <td>20</td>\n",
       "    </tr>\n",
       "    <tr>\n",
       "      <th>2</th>\n",
       "      <td>0.657520</td>\n",
       "      <td>11.680313</td>\n",
       "      <td>6.679222</td>\n",
       "      <td>11.600485</td>\n",
       "      <td>4.879007</td>\n",
       "      <td>9.005325</td>\n",
       "      <td>8.992584</td>\n",
       "      <td>4.645736</td>\n",
       "      <td>0.0</td>\n",
       "      <td>2015</td>\n",
       "      <td>0</td>\n",
       "      <td>12</td>\n",
       "      <td>13</td>\n",
       "    </tr>\n",
       "    <tr>\n",
       "      <th>3</th>\n",
       "      <td>0.732368</td>\n",
       "      <td>11.277116</td>\n",
       "      <td>7.032624</td>\n",
       "      <td>11.184108</td>\n",
       "      <td>4.298373</td>\n",
       "      <td>8.667708</td>\n",
       "      <td>8.644425</td>\n",
       "      <td>4.903495</td>\n",
       "      <td>0.0</td>\n",
       "      <td>2015</td>\n",
       "      <td>0</td>\n",
       "      <td>12</td>\n",
       "      <td>6</td>\n",
       "    </tr>\n",
       "    <tr>\n",
       "      <th>4</th>\n",
       "      <td>0.824175</td>\n",
       "      <td>10.840377</td>\n",
       "      <td>6.848515</td>\n",
       "      <td>10.688288</td>\n",
       "      <td>4.340944</td>\n",
       "      <td>8.729874</td>\n",
       "      <td>8.697389</td>\n",
       "      <td>5.291746</td>\n",
       "      <td>0.0</td>\n",
       "      <td>2015</td>\n",
       "      <td>0</td>\n",
       "      <td>11</td>\n",
       "      <td>29</td>\n",
       "    </tr>\n",
       "  </tbody>\n",
       "</table>\n",
       "</div>"
      ],
      "text/plain": [
       "   AveragePrice  Total Volume      4046       4225      4770  Total Bags  \\\n",
       "0      0.845868     11.070344  6.944801  10.905146  3.895080    9.070833   \n",
       "1      0.854415     10.912867  6.515127  10.706381  4.083115    9.159737   \n",
       "2      0.657520     11.680313  6.679222  11.600485  4.879007    9.005325   \n",
       "3      0.732368     11.277116  7.032624  11.184108  4.298373    8.667708   \n",
       "4      0.824175     10.840377  6.848515  10.688288  4.340944    8.729874   \n",
       "\n",
       "   Small Bags  Large Bags  XLarge Bags  year  region  month  day  \n",
       "0    9.060055    4.545951          0.0  2015       0     12   27  \n",
       "1    9.149429    4.589955          0.0  2015       0     12   20  \n",
       "2    8.992584    4.645736          0.0  2015       0     12   13  \n",
       "3    8.644425    4.903495          0.0  2015       0     12    6  \n",
       "4    8.697389    5.291746          0.0  2015       0     11   29  "
      ]
     },
     "execution_count": 39,
     "metadata": {},
     "output_type": "execute_result"
    }
   ],
   "source": [
    "data.head()"
   ]
  },
  {
   "cell_type": "code",
   "execution_count": 40,
   "metadata": {},
   "outputs": [],
   "source": [
    "# splitting the data into X and y :\n",
    "X=data.drop('AveragePrice',axis=1)\n",
    "y=data['AveragePrice']"
   ]
  },
  {
   "cell_type": "code",
   "execution_count": 41,
   "metadata": {},
   "outputs": [],
   "source": [
    "from sklearn.model_selection import train_test_split\n",
    "X_train,X_test,y_train,y_test=train_test_split(X,y,test_size=0.2,random_state=42)"
   ]
  },
  {
   "cell_type": "markdown",
   "metadata": {},
   "source": [
    "# Regression"
   ]
  },
  {
   "cell_type": "raw",
   "metadata": {},
   "source": [
    "# LinearRegression"
   ]
  },
  {
   "cell_type": "code",
   "execution_count": 42,
   "metadata": {},
   "outputs": [
    {
     "data": {
      "text/plain": [
       "array([0.78837864, 0.79068545, 0.89861836, ..., 0.70017651, 0.93429942,\n",
       "       0.96027292])"
      ]
     },
     "execution_count": 42,
     "metadata": {},
     "output_type": "execute_result"
    }
   ],
   "source": [
    "# importing the sklearn library :\n",
    "from sklearn.linear_model import LinearRegression\n",
    "lr=LinearRegression()\n",
    "lr.fit(X_train,y_train)\n",
    "pred=lr.predict(X_test)\n",
    "pred"
   ]
  },
  {
   "cell_type": "code",
   "execution_count": 43,
   "metadata": {},
   "outputs": [
    {
     "name": "stdout",
     "output_type": "stream",
     "text": [
      "MAE: 0.09465190280631451\n",
      "MSE: 0.013830775480958395\n",
      "RMSE: 0.11760431744182862\n"
     ]
    }
   ],
   "source": [
    "from sklearn import metrics\n",
    "print('MAE:', metrics.mean_absolute_error(y_test, pred))\n",
    "print('MSE:', metrics.mean_squared_error(y_test, pred))\n",
    "print('RMSE:', np.sqrt(metrics.mean_squared_error(y_test, pred)))"
   ]
  },
  {
   "cell_type": "code",
   "execution_count": 44,
   "metadata": {},
   "outputs": [
    {
     "data": {
      "text/plain": [
       "<matplotlib.collections.PathCollection at 0x276c00e5fc8>"
      ]
     },
     "execution_count": 44,
     "metadata": {},
     "output_type": "execute_result"
    },
    {
     "data": {
      "image/png": "[encoded data removed]",
      "text/plain": [
       "<Figure size 432x288 with 1 Axes>"
      ]
     },
     "metadata": {
      "needs_background": "light"
     },
     "output_type": "display_data"
    }
   ],
   "source": [
    "plt.scatter(x=y_test,y=pred)"
   ]
  },
  {
   "cell_type": "raw",
   "metadata": {},
   "source": [
    "DecisionTreeRegressor"
   ]
  },
  {
   "cell_type": "code",
   "execution_count": 45,
   "metadata": {},
   "outputs": [],
   "source": [
    "from sklearn.tree import DecisionTreeRegressor\n",
    "dtr=DecisionTreeRegressor()\n",
    "dtr.fit(X_train,y_train)\n",
    "pred=dtr.predict(X_test)"
   ]
  },
  {
   "cell_type": "code",
   "execution_count": 46,
   "metadata": {},
   "outputs": [
    {
     "data": {
      "text/plain": [
       "Text(0, 0.5, 'Predicted-Y')"
      ]
     },
     "execution_count": 46,
     "metadata": {},
     "output_type": "execute_result"
    },
    {
     "data": {
      "image/png": "[encoded data removed]",
      "text/plain": [
       "<Figure size 432x288 with 1 Axes>"
      ]
     },
     "metadata": {
      "needs_background": "light"
     },
     "output_type": "display_data"
    }
   ],
   "source": [
    "plt.scatter(x=y_test,y=pred)\n",
    "plt.xlabel('Y-Test')\n",
    "plt.ylabel('Predicted-Y')"
   ]
  },
  {
   "cell_type": "code",
   "execution_count": 47,
   "metadata": {},
   "outputs": [
    {
     "name": "stdout",
     "output_type": "stream",
     "text": [
      "MAE: 0.052956126811751096\n",
      "MSE: 0.006475381201466333\n",
      "RMSE: 0.0804697533329532\n"
     ]
    }
   ],
   "source": [
    "print('MAE:', metrics.mean_absolute_error(y_test, pred))\n",
    "print('MSE:', metrics.mean_squared_error(y_test, pred))\n",
    "print('RMSE:', np.sqrt(metrics.mean_squared_error(y_test, pred)))"
   ]
  },
  {
   "cell_type": "raw",
   "metadata": {},
   "source": [
    "RandomForestRegressor"
   ]
  },
  {
   "cell_type": "code",
   "execution_count": 48,
   "metadata": {},
   "outputs": [],
   "source": [
    "from sklearn.ensemble import RandomForestRegressor\n",
    "rdr = RandomForestRegressor()\n",
    "rdr.fit(X_train,y_train)\n",
    "pred=rdr.predict(X_test)"
   ]
  },
  {
   "cell_type": "code",
   "execution_count": 49,
   "metadata": {},
   "outputs": [
    {
     "name": "stdout",
     "output_type": "stream",
     "text": [
      "MAE: 0.038490636531847575\n",
      "MSE: 0.0028733360550994443\n",
      "RMSE: 0.053603507861887584\n"
     ]
    }
   ],
   "source": [
    "print('MAE:', metrics.mean_absolute_error(y_test, pred))\n",
    "print('MSE:', metrics.mean_squared_error(y_test, pred))\n",
    "print('RMSE:', np.sqrt(metrics.mean_squared_error(y_test, pred)))"
   ]
  },
  {
   "cell_type": "code",
   "execution_count": 50,
   "metadata": {},
   "outputs": [
    {
     "data": {
      "text/plain": [
       "<matplotlib.axes._subplots.AxesSubplot at 0x276c24ef088>"
      ]
     },
     "execution_count": 50,
     "metadata": {},
     "output_type": "execute_result"
    },
    {
     "data": {
      "image/png": "[encoded data removed]",
      "text/plain": [
       "<Figure size 432x288 with 1 Axes>"
      ]
     },
     "metadata": {
      "needs_background": "light"
     },
     "output_type": "display_data"
    }
   ],
   "source": [
    "sns.distplot((y_test-pred),bins=50)"
   ]
  },
  {
   "cell_type": "code",
   "execution_count": 51,
   "metadata": {},
   "outputs": [
    {
     "data": {
      "text/html": [
       "<div>\n",
       "<style scoped>\n",
       "    .dataframe tbody tr th:only-of-type {\n",
       "        vertical-align: middle;\n",
       "    }\n",
       "\n",
       "    .dataframe tbody tr th {\n",
       "        vertical-align: top;\n",
       "    }\n",
       "\n",
       "    .dataframe thead th {\n",
       "        text-align: right;\n",
       "    }\n",
       "</style>\n",
       "<table border=\"1\" class=\"dataframe\">\n",
       "  <thead>\n",
       "    <tr style=\"text-align: right;\">\n",
       "      <th></th>\n",
       "      <th>Y Test</th>\n",
       "      <th>Pred</th>\n",
       "    </tr>\n",
       "  </thead>\n",
       "  <tbody>\n",
       "    <tr>\n",
       "      <th>6</th>\n",
       "      <td>0.598837</td>\n",
       "      <td>0.646557</td>\n",
       "    </tr>\n",
       "    <tr>\n",
       "      <th>8</th>\n",
       "      <td>0.678034</td>\n",
       "      <td>0.679265</td>\n",
       "    </tr>\n",
       "    <tr>\n",
       "      <th>48</th>\n",
       "      <td>0.891998</td>\n",
       "      <td>0.873805</td>\n",
       "    </tr>\n",
       "    <tr>\n",
       "      <th>42</th>\n",
       "      <td>0.678034</td>\n",
       "      <td>0.641395</td>\n",
       "    </tr>\n",
       "    <tr>\n",
       "      <th>45</th>\n",
       "      <td>0.896088</td>\n",
       "      <td>0.892681</td>\n",
       "    </tr>\n",
       "  </tbody>\n",
       "</table>\n",
       "</div>"
      ],
      "text/plain": [
       "      Y Test      Pred\n",
       "6   0.598837  0.646557\n",
       "8   0.678034  0.679265\n",
       "48  0.891998  0.873805\n",
       "42  0.678034  0.641395\n",
       "45  0.896088  0.892681"
      ]
     },
     "execution_count": 51,
     "metadata": {},
     "output_type": "execute_result"
    },
    {
     "data": {
      "image/png": "[encoded data removed]",
      "text/plain": [
       "<Figure size 360x360 with 1 Axes>"
      ]
     },
     "metadata": {
      "needs_background": "light"
     },
     "output_type": "display_data"
    }
   ],
   "source": [
    "# Predicting the model :\n",
    "data = pd.DataFrame({'Y Test':y_test , 'Pred':pred},columns=['Y Test','Pred'])\n",
    "sns.lmplot(x='Y Test',y='Pred',data=data,palette='rainbow')\n",
    "data.head()"
   ]
  },
  {
   "cell_type": "raw",
   "metadata": {},
   "source": [
    "Classification"
   ]
  },
  {
   "cell_type": "code",
   "execution_count": 52,
   "metadata": {},
   "outputs": [],
   "source": [
    "data=pd.read_csv('avocado.csv', index_col=[0])"
   ]
  },
  {
   "cell_type": "code",
   "execution_count": 53,
   "metadata": {},
   "outputs": [
    {
     "data": {
      "text/html": [
       "<div>\n",
       "<style scoped>\n",
       "    .dataframe tbody tr th:only-of-type {\n",
       "        vertical-align: middle;\n",
       "    }\n",
       "\n",
       "    .dataframe tbody tr th {\n",
       "        vertical-align: top;\n",
       "    }\n",
       "\n",
       "    .dataframe thead th {\n",
       "        text-align: right;\n",
       "    }\n",
       "</style>\n",
       "<table border=\"1\" class=\"dataframe\">\n",
       "  <thead>\n",
       "    <tr style=\"text-align: right;\">\n",
       "      <th></th>\n",
       "      <th>Date</th>\n",
       "      <th>AveragePrice</th>\n",
       "      <th>Total Volume</th>\n",
       "      <th>4046</th>\n",
       "      <th>4225</th>\n",
       "      <th>4770</th>\n",
       "      <th>Total Bags</th>\n",
       "      <th>Small Bags</th>\n",
       "      <th>Large Bags</th>\n",
       "      <th>XLarge Bags</th>\n",
       "      <th>type</th>\n",
       "      <th>year</th>\n",
       "      <th>region</th>\n",
       "    </tr>\n",
       "  </thead>\n",
       "  <tbody>\n",
       "    <tr>\n",
       "      <th>0</th>\n",
       "      <td>2015-12-27</td>\n",
       "      <td>1.33</td>\n",
       "      <td>64236.62</td>\n",
       "      <td>1036.74</td>\n",
       "      <td>54454.85</td>\n",
       "      <td>48.16</td>\n",
       "      <td>8696.87</td>\n",
       "      <td>8603.62</td>\n",
       "      <td>93.25</td>\n",
       "      <td>0.0</td>\n",
       "      <td>conventional</td>\n",
       "      <td>2015</td>\n",
       "      <td>Albany</td>\n",
       "    </tr>\n",
       "    <tr>\n",
       "      <th>1</th>\n",
       "      <td>2015-12-20</td>\n",
       "      <td>1.35</td>\n",
       "      <td>54876.98</td>\n",
       "      <td>674.28</td>\n",
       "      <td>44638.81</td>\n",
       "      <td>58.33</td>\n",
       "      <td>9505.56</td>\n",
       "      <td>9408.07</td>\n",
       "      <td>97.49</td>\n",
       "      <td>0.0</td>\n",
       "      <td>conventional</td>\n",
       "      <td>2015</td>\n",
       "      <td>Albany</td>\n",
       "    </tr>\n",
       "    <tr>\n",
       "      <th>2</th>\n",
       "      <td>2015-12-13</td>\n",
       "      <td>0.93</td>\n",
       "      <td>118220.22</td>\n",
       "      <td>794.70</td>\n",
       "      <td>109149.67</td>\n",
       "      <td>130.50</td>\n",
       "      <td>8145.35</td>\n",
       "      <td>8042.21</td>\n",
       "      <td>103.14</td>\n",
       "      <td>0.0</td>\n",
       "      <td>conventional</td>\n",
       "      <td>2015</td>\n",
       "      <td>Albany</td>\n",
       "    </tr>\n",
       "    <tr>\n",
       "      <th>3</th>\n",
       "      <td>2015-12-06</td>\n",
       "      <td>1.08</td>\n",
       "      <td>78992.15</td>\n",
       "      <td>1132.00</td>\n",
       "      <td>71976.41</td>\n",
       "      <td>72.58</td>\n",
       "      <td>5811.16</td>\n",
       "      <td>5677.40</td>\n",
       "      <td>133.76</td>\n",
       "      <td>0.0</td>\n",
       "      <td>conventional</td>\n",
       "      <td>2015</td>\n",
       "      <td>Albany</td>\n",
       "    </tr>\n",
       "    <tr>\n",
       "      <th>4</th>\n",
       "      <td>2015-11-29</td>\n",
       "      <td>1.28</td>\n",
       "      <td>51039.60</td>\n",
       "      <td>941.48</td>\n",
       "      <td>43838.39</td>\n",
       "      <td>75.78</td>\n",
       "      <td>6183.95</td>\n",
       "      <td>5986.26</td>\n",
       "      <td>197.69</td>\n",
       "      <td>0.0</td>\n",
       "      <td>conventional</td>\n",
       "      <td>2015</td>\n",
       "      <td>Albany</td>\n",
       "    </tr>\n",
       "  </tbody>\n",
       "</table>\n",
       "</div>"
      ],
      "text/plain": [
       "         Date  AveragePrice  Total Volume     4046       4225    4770  \\\n",
       "0  2015-12-27          1.33      64236.62  1036.74   54454.85   48.16   \n",
       "1  2015-12-20          1.35      54876.98   674.28   44638.81   58.33   \n",
       "2  2015-12-13          0.93     118220.22   794.70  109149.67  130.50   \n",
       "3  2015-12-06          1.08      78992.15  1132.00   71976.41   72.58   \n",
       "4  2015-11-29          1.28      51039.60   941.48   43838.39   75.78   \n",
       "\n",
       "   Total Bags  Small Bags  Large Bags  XLarge Bags          type  year  region  \n",
       "0     8696.87     8603.62       93.25          0.0  conventional  2015  Albany  \n",
       "1     9505.56     9408.07       97.49          0.0  conventional  2015  Albany  \n",
       "2     8145.35     8042.21      103.14          0.0  conventional  2015  Albany  \n",
       "3     5811.16     5677.40      133.76          0.0  conventional  2015  Albany  \n",
       "4     6183.95     5986.26      197.69          0.0  conventional  2015  Albany  "
      ]
     },
     "execution_count": 53,
     "metadata": {},
     "output_type": "execute_result"
    }
   ],
   "source": [
    "data.head()"
   ]
  },
  {
   "cell_type": "raw",
   "metadata": {},
   "source": [
    "# we will change the date column to day,month,year and finally drop the date column"
   ]
  },
  {
   "cell_type": "code",
   "execution_count": 54,
   "metadata": {},
   "outputs": [],
   "source": [
    "data['year']=pd.to_datetime(data['Date']).dt.year"
   ]
  },
  {
   "cell_type": "code",
   "execution_count": 55,
   "metadata": {},
   "outputs": [],
   "source": [
    "data['month']=pd.to_datetime(data['Date']).dt.month"
   ]
  },
  {
   "cell_type": "code",
   "execution_count": 56,
   "metadata": {},
   "outputs": [],
   "source": [
    "data['day']=pd.to_datetime(data['Date']).dt.day"
   ]
  },
  {
   "cell_type": "code",
   "execution_count": 57,
   "metadata": {},
   "outputs": [],
   "source": [
    "data.drop('Date',axis=1,inplace=True)"
   ]
  },
  {
   "cell_type": "code",
   "execution_count": 58,
   "metadata": {},
   "outputs": [],
   "source": [
    "data.drop('type',axis=1,inplace=True)"
   ]
  },
  {
   "cell_type": "code",
   "execution_count": 59,
   "metadata": {},
   "outputs": [],
   "source": [
    "from sklearn.preprocessing import LabelEncoder\n",
    "le=LabelEncoder()\n",
    "data['region']=le.fit_transform(data['region'])"
   ]
  },
  {
   "cell_type": "code",
   "execution_count": 60,
   "metadata": {},
   "outputs": [
    {
     "data": {
      "text/html": [
       "<div>\n",
       "<style scoped>\n",
       "    .dataframe tbody tr th:only-of-type {\n",
       "        vertical-align: middle;\n",
       "    }\n",
       "\n",
       "    .dataframe tbody tr th {\n",
       "        vertical-align: top;\n",
       "    }\n",
       "\n",
       "    .dataframe thead th {\n",
       "        text-align: right;\n",
       "    }\n",
       "</style>\n",
       "<table border=\"1\" class=\"dataframe\">\n",
       "  <thead>\n",
       "    <tr style=\"text-align: right;\">\n",
       "      <th></th>\n",
       "      <th>AveragePrice</th>\n",
       "      <th>Total Volume</th>\n",
       "      <th>4046</th>\n",
       "      <th>4225</th>\n",
       "      <th>4770</th>\n",
       "      <th>Total Bags</th>\n",
       "      <th>Small Bags</th>\n",
       "      <th>Large Bags</th>\n",
       "      <th>XLarge Bags</th>\n",
       "      <th>year</th>\n",
       "      <th>region</th>\n",
       "      <th>month</th>\n",
       "      <th>day</th>\n",
       "    </tr>\n",
       "  </thead>\n",
       "  <tbody>\n",
       "    <tr>\n",
       "      <th>0</th>\n",
       "      <td>1.33</td>\n",
       "      <td>64236.62</td>\n",
       "      <td>1036.74</td>\n",
       "      <td>54454.85</td>\n",
       "      <td>48.16</td>\n",
       "      <td>8696.87</td>\n",
       "      <td>8603.62</td>\n",
       "      <td>93.25</td>\n",
       "      <td>0.0</td>\n",
       "      <td>2015</td>\n",
       "      <td>0</td>\n",
       "      <td>12</td>\n",
       "      <td>27</td>\n",
       "    </tr>\n",
       "    <tr>\n",
       "      <th>1</th>\n",
       "      <td>1.35</td>\n",
       "      <td>54876.98</td>\n",
       "      <td>674.28</td>\n",
       "      <td>44638.81</td>\n",
       "      <td>58.33</td>\n",
       "      <td>9505.56</td>\n",
       "      <td>9408.07</td>\n",
       "      <td>97.49</td>\n",
       "      <td>0.0</td>\n",
       "      <td>2015</td>\n",
       "      <td>0</td>\n",
       "      <td>12</td>\n",
       "      <td>20</td>\n",
       "    </tr>\n",
       "    <tr>\n",
       "      <th>2</th>\n",
       "      <td>0.93</td>\n",
       "      <td>118220.22</td>\n",
       "      <td>794.70</td>\n",
       "      <td>109149.67</td>\n",
       "      <td>130.50</td>\n",
       "      <td>8145.35</td>\n",
       "      <td>8042.21</td>\n",
       "      <td>103.14</td>\n",
       "      <td>0.0</td>\n",
       "      <td>2015</td>\n",
       "      <td>0</td>\n",
       "      <td>12</td>\n",
       "      <td>13</td>\n",
       "    </tr>\n",
       "    <tr>\n",
       "      <th>3</th>\n",
       "      <td>1.08</td>\n",
       "      <td>78992.15</td>\n",
       "      <td>1132.00</td>\n",
       "      <td>71976.41</td>\n",
       "      <td>72.58</td>\n",
       "      <td>5811.16</td>\n",
       "      <td>5677.40</td>\n",
       "      <td>133.76</td>\n",
       "      <td>0.0</td>\n",
       "      <td>2015</td>\n",
       "      <td>0</td>\n",
       "      <td>12</td>\n",
       "      <td>6</td>\n",
       "    </tr>\n",
       "    <tr>\n",
       "      <th>4</th>\n",
       "      <td>1.28</td>\n",
       "      <td>51039.60</td>\n",
       "      <td>941.48</td>\n",
       "      <td>43838.39</td>\n",
       "      <td>75.78</td>\n",
       "      <td>6183.95</td>\n",
       "      <td>5986.26</td>\n",
       "      <td>197.69</td>\n",
       "      <td>0.0</td>\n",
       "      <td>2015</td>\n",
       "      <td>0</td>\n",
       "      <td>11</td>\n",
       "      <td>29</td>\n",
       "    </tr>\n",
       "  </tbody>\n",
       "</table>\n",
       "</div>"
      ],
      "text/plain": [
       "   AveragePrice  Total Volume     4046       4225    4770  Total Bags  \\\n",
       "0          1.33      64236.62  1036.74   54454.85   48.16     8696.87   \n",
       "1          1.35      54876.98   674.28   44638.81   58.33     9505.56   \n",
       "2          0.93     118220.22   794.70  109149.67  130.50     8145.35   \n",
       "3          1.08      78992.15  1132.00   71976.41   72.58     5811.16   \n",
       "4          1.28      51039.60   941.48   43838.39   75.78     6183.95   \n",
       "\n",
       "   Small Bags  Large Bags  XLarge Bags  year  region  month  day  \n",
       "0     8603.62       93.25          0.0  2015       0     12   27  \n",
       "1     9408.07       97.49          0.0  2015       0     12   20  \n",
       "2     8042.21      103.14          0.0  2015       0     12   13  \n",
       "3     5677.40      133.76          0.0  2015       0     12    6  \n",
       "4     5986.26      197.69          0.0  2015       0     11   29  "
      ]
     },
     "execution_count": 60,
     "metadata": {},
     "output_type": "execute_result"
    }
   ],
   "source": [
    "# lets check the first five records :\n",
    "data.head()"
   ]
  },
  {
   "cell_type": "code",
   "execution_count": 61,
   "metadata": {},
   "outputs": [
    {
     "data": {
      "text/html": [
       "<div>\n",
       "<style scoped>\n",
       "    .dataframe tbody tr th:only-of-type {\n",
       "        vertical-align: middle;\n",
       "    }\n",
       "\n",
       "    .dataframe tbody tr th {\n",
       "        vertical-align: top;\n",
       "    }\n",
       "\n",
       "    .dataframe thead th {\n",
       "        text-align: right;\n",
       "    }\n",
       "</style>\n",
       "<table border=\"1\" class=\"dataframe\">\n",
       "  <thead>\n",
       "    <tr style=\"text-align: right;\">\n",
       "      <th></th>\n",
       "      <th>AveragePrice</th>\n",
       "      <th>Total Volume</th>\n",
       "      <th>4046</th>\n",
       "      <th>4225</th>\n",
       "      <th>4770</th>\n",
       "      <th>Total Bags</th>\n",
       "      <th>Small Bags</th>\n",
       "      <th>Large Bags</th>\n",
       "      <th>XLarge Bags</th>\n",
       "      <th>year</th>\n",
       "      <th>region</th>\n",
       "      <th>month</th>\n",
       "      <th>day</th>\n",
       "    </tr>\n",
       "  </thead>\n",
       "  <tbody>\n",
       "    <tr>\n",
       "      <th>7</th>\n",
       "      <td>1.63</td>\n",
       "      <td>17074.83</td>\n",
       "      <td>2046.96</td>\n",
       "      <td>1529.20</td>\n",
       "      <td>0.00</td>\n",
       "      <td>13498.67</td>\n",
       "      <td>13066.82</td>\n",
       "      <td>431.85</td>\n",
       "      <td>0.0</td>\n",
       "      <td>2018</td>\n",
       "      <td>53</td>\n",
       "      <td>2</td>\n",
       "      <td>4</td>\n",
       "    </tr>\n",
       "    <tr>\n",
       "      <th>8</th>\n",
       "      <td>1.71</td>\n",
       "      <td>13888.04</td>\n",
       "      <td>1191.70</td>\n",
       "      <td>3431.50</td>\n",
       "      <td>0.00</td>\n",
       "      <td>9264.84</td>\n",
       "      <td>8940.04</td>\n",
       "      <td>324.80</td>\n",
       "      <td>0.0</td>\n",
       "      <td>2018</td>\n",
       "      <td>53</td>\n",
       "      <td>1</td>\n",
       "      <td>28</td>\n",
       "    </tr>\n",
       "    <tr>\n",
       "      <th>9</th>\n",
       "      <td>1.87</td>\n",
       "      <td>13766.76</td>\n",
       "      <td>1191.92</td>\n",
       "      <td>2452.79</td>\n",
       "      <td>727.94</td>\n",
       "      <td>9394.11</td>\n",
       "      <td>9351.80</td>\n",
       "      <td>42.31</td>\n",
       "      <td>0.0</td>\n",
       "      <td>2018</td>\n",
       "      <td>53</td>\n",
       "      <td>1</td>\n",
       "      <td>21</td>\n",
       "    </tr>\n",
       "    <tr>\n",
       "      <th>10</th>\n",
       "      <td>1.93</td>\n",
       "      <td>16205.22</td>\n",
       "      <td>1527.63</td>\n",
       "      <td>2981.04</td>\n",
       "      <td>727.01</td>\n",
       "      <td>10969.54</td>\n",
       "      <td>10919.54</td>\n",
       "      <td>50.00</td>\n",
       "      <td>0.0</td>\n",
       "      <td>2018</td>\n",
       "      <td>53</td>\n",
       "      <td>1</td>\n",
       "      <td>14</td>\n",
       "    </tr>\n",
       "    <tr>\n",
       "      <th>11</th>\n",
       "      <td>1.62</td>\n",
       "      <td>17489.58</td>\n",
       "      <td>2894.77</td>\n",
       "      <td>2356.13</td>\n",
       "      <td>224.53</td>\n",
       "      <td>12014.15</td>\n",
       "      <td>11988.14</td>\n",
       "      <td>26.01</td>\n",
       "      <td>0.0</td>\n",
       "      <td>2018</td>\n",
       "      <td>53</td>\n",
       "      <td>1</td>\n",
       "      <td>7</td>\n",
       "    </tr>\n",
       "  </tbody>\n",
       "</table>\n",
       "</div>"
      ],
      "text/plain": [
       "    AveragePrice  Total Volume     4046     4225    4770  Total Bags  \\\n",
       "7           1.63      17074.83  2046.96  1529.20    0.00    13498.67   \n",
       "8           1.71      13888.04  1191.70  3431.50    0.00     9264.84   \n",
       "9           1.87      13766.76  1191.92  2452.79  727.94     9394.11   \n",
       "10          1.93      16205.22  1527.63  2981.04  727.01    10969.54   \n",
       "11          1.62      17489.58  2894.77  2356.13  224.53    12014.15   \n",
       "\n",
       "    Small Bags  Large Bags  XLarge Bags  year  region  month  day  \n",
       "7     13066.82      431.85          0.0  2018      53      2    4  \n",
       "8      8940.04      324.80          0.0  2018      53      1   28  \n",
       "9      9351.80       42.31          0.0  2018      53      1   21  \n",
       "10    10919.54       50.00          0.0  2018      53      1   14  \n",
       "11    11988.14       26.01          0.0  2018      53      1    7  "
      ]
     },
     "execution_count": 61,
     "metadata": {},
     "output_type": "execute_result"
    }
   ],
   "source": [
    "# lets check the last five records :\n",
    "data.tail()"
   ]
  },
  {
   "cell_type": "code",
   "execution_count": 62,
   "metadata": {},
   "outputs": [
    {
     "data": {
      "text/plain": [
       "AveragePrice     0.580303\n",
       "Total Volume     9.007687\n",
       "4046             8.648220\n",
       "4225             8.942466\n",
       "4770            10.159396\n",
       "Total Bags       9.756072\n",
       "Small Bags       9.540660\n",
       "Large Bags       9.796455\n",
       "XLarge Bags     13.139751\n",
       "year             0.215339\n",
       "region           0.000030\n",
       "month            0.106617\n",
       "day              0.014310\n",
       "dtype: float64"
      ]
     },
     "execution_count": 62,
     "metadata": {},
     "output_type": "execute_result"
    }
   ],
   "source": [
    "data.skew()"
   ]
  },
  {
   "cell_type": "code",
   "execution_count": 63,
   "metadata": {},
   "outputs": [
    {
     "name": "stdout",
     "output_type": "stream",
     "text": [
      "(18249, 13)\n",
      "(17651, 13)\n"
     ]
    }
   ],
   "source": [
    "# check the outliers from the dataset :\n",
    "from scipy.stats import zscore\n",
    "z_score=abs(zscore(data))\n",
    "print(data.shape)\n",
    "data_final=data.loc[(z_score<3).all(axis=1)]\n",
    "print(data_final.shape)"
   ]
  },
  {
   "cell_type": "code",
   "execution_count": 64,
   "metadata": {},
   "outputs": [],
   "source": [
    "# removing the outliers :\n",
    "for i in data.columns:\n",
    "    if data.skew().loc[i]>0.55:\n",
    "        data[i]=np.log1p(data[i])"
   ]
  },
  {
   "cell_type": "code",
   "execution_count": 65,
   "metadata": {},
   "outputs": [
    {
     "data": {
      "text/plain": [
       "AveragePrice    0.138629\n",
       "Total Volume    0.088098\n",
       "4046           -0.328195\n",
       "4225           -0.486654\n",
       "4770            0.099986\n",
       "Total Bags     -0.218874\n",
       "Small Bags     -0.622148\n",
       "Large Bags     -0.547765\n",
       "XLarge Bags     1.176494\n",
       "year            0.215339\n",
       "region          0.000030\n",
       "month           0.106617\n",
       "day             0.014310\n",
       "dtype: float64"
      ]
     },
     "execution_count": 65,
     "metadata": {},
     "output_type": "execute_result"
    }
   ],
   "source": [
    "data.skew()"
   ]
  },
  {
   "cell_type": "code",
   "execution_count": 66,
   "metadata": {},
   "outputs": [],
   "source": [
    "# splitting the dataset :\n",
    "X=data.drop('region',axis=1)\n",
    "y=data['region']"
   ]
  },
  {
   "cell_type": "code",
   "execution_count": 67,
   "metadata": {},
   "outputs": [],
   "source": [
    "from sklearn.model_selection import train_test_split\n",
    "X_train,X_test,y_train,y_test=train_test_split(X,y,test_size=0.2,random_state=42)"
   ]
  },
  {
   "cell_type": "code",
   "execution_count": 68,
   "metadata": {},
   "outputs": [],
   "source": [
    "# importing the esential libraries :\n",
    "from sklearn.metrics import confusion_matrix\n",
    "from sklearn.metrics import classification_report\n",
    "from sklearn.metrics import accuracy_score\n",
    "from sklearn.linear_model import LogisticRegression\n",
    "from sklearn.tree import DecisionTreeClassifier\n",
    "from sklearn.neighbors import KNeighborsClassifier\n",
    "from sklearn.naive_bayes import MultinomialNB\n",
    "from sklearn.svm import SVC\n",
    "from sklearn.ensemble import RandomForestClassifier"
   ]
  },
  {
   "cell_type": "code",
   "execution_count": 69,
   "metadata": {},
   "outputs": [
    {
     "name": "stderr",
     "output_type": "stream",
     "text": [
      "C:\\Users\\Scp\\anaconda3\\lib\\site-packages\\sklearn\\linear_model\\_logistic.py:940: ConvergenceWarning: lbfgs failed to converge (status=1):\n",
      "STOP: TOTAL NO. of ITERATIONS REACHED LIMIT.\n",
      "\n",
      "Increase the number of iterations (max_iter) or scale the data as shown in:\n",
      "    https://scikit-learn.org/stable/modules/preprocessing.html\n",
      "Please also refer to the documentation for alternative solver options:\n",
      "    https://scikit-learn.org/stable/modules/linear_model.html#logistic-regression\n",
      "  extra_warning_msg=_LOGISTIC_SOLVER_CONVERGENCE_MSG)\n"
     ]
    },
    {
     "name": "stdout",
     "output_type": "stream",
     "text": [
      "Accuracy score of LogisticRegression(C=1.0, class_weight=None, dual=False, fit_intercept=True,\n",
      "                   intercept_scaling=1, l1_ratio=None, max_iter=100,\n",
      "                   multi_class='auto', n_jobs=None, penalty='l2',\n",
      "                   random_state=None, solver='lbfgs', tol=0.0001, verbose=0,\n",
      "                   warm_start=False) is:\n",
      "0.18684931506849314\n",
      "[[22  0  0 ...  0  0  0]\n",
      " [ 0 20  0 ...  0  0  0]\n",
      " [ 0  0  7 ...  0  0  0]\n",
      " ...\n",
      " [ 0  0  0 ... 34  8  0]\n",
      " [ 0  2  0 ... 36  2  1]\n",
      " [ 2  1  1 ...  0  1  1]]\n",
      "              precision    recall  f1-score   support\n",
      "\n",
      "           0       0.21      0.35      0.26        63\n",
      "           1       0.14      0.27      0.19        73\n",
      "           2       0.09      0.11      0.10        61\n",
      "           3       0.00      0.00      0.00        72\n",
      "           4       0.15      0.19      0.17        67\n",
      "           5       0.00      0.00      0.00        73\n",
      "           6       0.32      0.58      0.41        62\n",
      "           7       0.29      0.30      0.30        76\n",
      "           8       0.45      0.44      0.45        72\n",
      "           9       0.21      0.31      0.25        65\n",
      "          10       0.12      0.06      0.08        65\n",
      "          11       0.33      0.19      0.24        68\n",
      "          12       0.10      0.20      0.14        65\n",
      "          13       0.03      0.03      0.03        66\n",
      "          14       0.33      0.34      0.34        71\n",
      "          15       0.14      0.19      0.16        69\n",
      "          16       0.21      0.10      0.13        71\n",
      "          17       0.12      0.09      0.10        69\n",
      "          18       0.25      0.24      0.25        67\n",
      "          19       0.22      0.17      0.19        63\n",
      "          20       0.22      0.21      0.21        68\n",
      "          21       0.00      0.00      0.00        65\n",
      "          22       0.21      0.17      0.19        70\n",
      "          23       0.35      0.51      0.42        68\n",
      "          24       0.04      0.03      0.03        68\n",
      "          25       0.19      0.44      0.27        62\n",
      "          26       0.13      0.06      0.08        70\n",
      "          27       0.27      0.49      0.35        73\n",
      "          28       0.09      0.09      0.09        66\n",
      "          29       0.20      0.21      0.20        75\n",
      "          30       0.25      0.38      0.30        58\n",
      "          31       0.04      0.01      0.02        69\n",
      "          32       0.20      0.03      0.05        73\n",
      "          33       0.09      0.13      0.11        52\n",
      "          34       0.06      0.03      0.04        63\n",
      "          35       0.03      0.01      0.02        80\n",
      "          36       0.56      0.07      0.12        74\n",
      "          37       0.21      0.48      0.29        61\n",
      "          38       0.08      0.03      0.04        69\n",
      "          39       0.05      0.07      0.05        59\n",
      "          40       0.33      0.42      0.37        72\n",
      "          41       0.21      0.09      0.12        79\n",
      "          42       0.37      0.53      0.43        70\n",
      "          43       0.06      0.02      0.03        60\n",
      "          44       0.16      0.16      0.16        67\n",
      "          45       0.12      0.28      0.17        60\n",
      "          46       0.00      0.00      0.00        64\n",
      "          47       0.22      0.18      0.20        77\n",
      "          48       0.12      0.01      0.03        67\n",
      "          49       0.21      0.23      0.22        70\n",
      "          50       0.04      0.03      0.03        72\n",
      "          51       0.38      0.51      0.44        67\n",
      "          52       0.03      0.03      0.03        65\n",
      "          53       0.03      0.02      0.02        59\n",
      "\n",
      "    accuracy                           0.19      3650\n",
      "   macro avg       0.17      0.19      0.17      3650\n",
      "weighted avg       0.17      0.19      0.17      3650\n",
      "\n",
      "\n",
      "\n",
      "Accuracy score of DecisionTreeClassifier(ccp_alpha=0.0, class_weight=None, criterion='gini',\n",
      "                       max_depth=None, max_features=None, max_leaf_nodes=None,\n",
      "                       min_impurity_decrease=0.0, min_impurity_split=None,\n",
      "                       min_samples_leaf=1, min_samples_split=2,\n",
      "                       min_weight_fraction_leaf=0.0, presort='deprecated',\n",
      "                       random_state=None, splitter='best') is:\n",
      "0.7857534246575343\n",
      "[[48  0  0 ...  0  0  0]\n",
      " [ 0 48  0 ...  0  0  0]\n",
      " [ 0  0 54 ...  0  0  0]\n",
      " ...\n",
      " [ 0  0  0 ... 67  0  0]\n",
      " [ 0  0  0 ...  0 58  0]\n",
      " [ 0  0  1 ...  0  0 44]]\n",
      "              precision    recall  f1-score   support\n",
      "\n",
      "           0       0.84      0.76      0.80        63\n",
      "           1       0.69      0.66      0.67        73\n",
      "           2       0.86      0.89      0.87        61\n",
      "           3       0.79      0.83      0.81        72\n",
      "           4       0.80      0.88      0.84        67\n",
      "           5       0.71      0.73      0.72        73\n",
      "           6       0.92      0.92      0.92        62\n",
      "           7       0.82      0.84      0.83        76\n",
      "           8       0.96      0.92      0.94        72\n",
      "           9       0.79      0.83      0.81        65\n",
      "          10       0.76      0.58      0.66        65\n",
      "          11       0.88      0.87      0.87        68\n",
      "          12       0.80      0.82      0.81        65\n",
      "          13       0.64      0.71      0.67        66\n",
      "          14       0.83      0.83      0.83        71\n",
      "          15       0.91      0.90      0.91        69\n",
      "          16       0.95      0.85      0.90        71\n",
      "          17       0.75      0.87      0.81        69\n",
      "          18       0.83      0.85      0.84        67\n",
      "          19       0.78      0.71      0.74        63\n",
      "          20       0.84      0.76      0.80        68\n",
      "          21       0.67      0.75      0.71        65\n",
      "          22       0.93      0.89      0.91        70\n",
      "          23       0.73      0.69      0.71        68\n",
      "          24       0.65      0.60      0.63        68\n",
      "          25       0.89      0.94      0.91        62\n",
      "          26       0.59      0.63      0.61        70\n",
      "          27       0.81      0.81      0.81        73\n",
      "          28       0.69      0.88      0.77        66\n",
      "          29       0.90      0.93      0.92        75\n",
      "          30       0.92      0.79      0.85        58\n",
      "          31       0.54      0.62      0.58        69\n",
      "          32       0.81      0.75      0.78        73\n",
      "          33       0.74      0.71      0.73        52\n",
      "          34       0.75      0.81      0.78        63\n",
      "          35       0.84      0.91      0.87        80\n",
      "          36       0.68      0.68      0.68        74\n",
      "          37       0.75      0.77      0.76        61\n",
      "          38       0.77      0.72      0.75        69\n",
      "          39       0.83      0.92      0.87        59\n",
      "          40       0.80      0.82      0.81        72\n",
      "          41       0.80      0.75      0.77        79\n",
      "          42       0.92      0.84      0.88        70\n",
      "          43       0.72      0.65      0.68        60\n",
      "          44       0.77      0.76      0.77        67\n",
      "          45       0.87      0.90      0.89        60\n",
      "          46       0.83      0.86      0.85        64\n",
      "          47       0.74      0.70      0.72        77\n",
      "          48       0.71      0.63      0.67        67\n",
      "          49       0.66      0.71      0.68        70\n",
      "          50       0.47      0.39      0.42        72\n",
      "          51       0.94      1.00      0.97        67\n",
      "          52       0.92      0.89      0.91        65\n",
      "          53       0.76      0.75      0.75        59\n",
      "\n",
      "    accuracy                           0.79      3650\n",
      "   macro avg       0.79      0.79      0.79      3650\n",
      "weighted avg       0.79      0.79      0.79      3650\n",
      "\n",
      "\n",
      "\n",
      "Accuracy score of SVC(C=1.0, break_ties=False, cache_size=200, class_weight=None, coef0=0.0,\n",
      "    decision_function_shape='ovr', degree=3, gamma='scale', kernel='rbf',\n",
      "    max_iter=-1, probability=False, random_state=None, shrinking=True,\n",
      "    tol=0.001, verbose=False) is:\n",
      "0.014246575342465753\n",
      "[[0 0 0 ... 0 0 0]\n",
      " [0 0 0 ... 0 0 0]\n",
      " [0 0 0 ... 0 0 0]\n",
      " ...\n",
      " [0 0 0 ... 0 0 0]\n",
      " [0 0 0 ... 0 0 0]\n",
      " [0 0 0 ... 0 0 0]]\n",
      "              precision    recall  f1-score   support\n",
      "\n",
      "           0       0.00      0.00      0.00        63\n",
      "           1       0.00      0.00      0.00        73\n",
      "           2       0.00      0.00      0.00        61\n",
      "           3       0.00      0.00      0.00        72\n",
      "           4       0.00      0.00      0.00        67\n",
      "           5       0.00      0.00      0.00        73\n",
      "           6       0.00      0.00      0.00        62\n",
      "           7       0.00      0.00      0.00        76\n",
      "           8       0.00      0.00      0.00        72\n",
      "           9       0.00      0.00      0.00        65\n",
      "          10       0.00      0.00      0.00        65\n",
      "          11       0.00      0.00      0.00        68\n",
      "          12       0.00      0.00      0.00        65\n",
      "          13       0.00      0.00      0.00        66\n",
      "          14       0.00      0.00      0.00        71\n",
      "          15       0.00      0.00      0.00        69\n",
      "          16       0.00      0.00      0.00        71\n",
      "          17       0.00      0.00      0.00        69\n",
      "          18       0.00      0.00      0.00        67\n",
      "          19       0.00      0.00      0.00        63\n",
      "          20       0.00      0.00      0.00        68\n",
      "          21       0.00      0.00      0.00        65\n",
      "          22       0.00      0.00      0.00        70\n",
      "          23       0.00      0.00      0.00        68\n",
      "          24       0.00      0.00      0.00        68\n",
      "          25       0.00      0.00      0.00        62\n",
      "          26       0.00      0.00      0.00        70\n",
      "          27       0.00      0.00      0.00        73\n",
      "          28       0.00      0.00      0.00        66\n",
      "          29       0.00      0.00      0.00        75\n",
      "          30       0.00      0.00      0.00        58\n",
      "          31       0.00      0.00      0.00        69\n",
      "          32       0.00      0.00      0.00        73\n",
      "          33       0.01      1.00      0.03        52\n",
      "          34       0.00      0.00      0.00        63\n",
      "          35       0.00      0.00      0.00        80\n",
      "          36       0.00      0.00      0.00        74\n",
      "          37       0.00      0.00      0.00        61\n",
      "          38       0.00      0.00      0.00        69\n",
      "          39       0.00      0.00      0.00        59\n",
      "          40       0.00      0.00      0.00        72\n",
      "          41       0.00      0.00      0.00        79\n",
      "          42       0.00      0.00      0.00        70\n",
      "          43       0.00      0.00      0.00        60\n",
      "          44       0.00      0.00      0.00        67\n",
      "          45       0.00      0.00      0.00        60\n",
      "          46       0.00      0.00      0.00        64\n",
      "          47       0.00      0.00      0.00        77\n",
      "          48       0.00      0.00      0.00        67\n",
      "          49       0.00      0.00      0.00        70\n",
      "          50       0.00      0.00      0.00        72\n",
      "          51       0.00      0.00      0.00        67\n",
      "          52       0.00      0.00      0.00        65\n",
      "          53       0.00      0.00      0.00        59\n",
      "\n",
      "    accuracy                           0.01      3650\n",
      "   macro avg       0.00      0.02      0.00      3650\n",
      "weighted avg       0.00      0.01      0.00      3650\n",
      "\n",
      "\n",
      "\n"
     ]
    },
    {
     "name": "stderr",
     "output_type": "stream",
     "text": [
      "C:\\Users\\Scp\\anaconda3\\lib\\site-packages\\sklearn\\metrics\\_classification.py:1272: UndefinedMetricWarning: Precision and F-score are ill-defined and being set to 0.0 in labels with no predicted samples. Use `zero_division` parameter to control this behavior.\n",
      "  _warn_prf(average, modifier, msg_start, len(result))\n"
     ]
    },
    {
     "name": "stdout",
     "output_type": "stream",
     "text": [
      "Accuracy score of KNeighborsClassifier(algorithm='auto', leaf_size=30, metric='minkowski',\n",
      "                     metric_params=None, n_jobs=None, n_neighbors=5, p=2,\n",
      "                     weights='uniform') is:\n",
      "0.3613698630136986\n",
      "[[38  0  1 ...  0  0  0]\n",
      " [ 0 17  0 ...  0  2  0]\n",
      " [ 1  0 40 ...  0  0  1]\n",
      " ...\n",
      " [ 0  0  0 ... 48  0  0]\n",
      " [ 0  1  0 ...  0 39  0]\n",
      " [ 0  2  2 ...  0  0  9]]\n",
      "              precision    recall  f1-score   support\n",
      "\n",
      "           0       0.27      0.60      0.37        63\n",
      "           1       0.11      0.23      0.15        73\n",
      "           2       0.35      0.66      0.46        61\n",
      "           3       0.41      0.54      0.46        72\n",
      "           4       0.32      0.28      0.30        67\n",
      "           5       0.20      0.22      0.21        73\n",
      "           6       0.42      0.61      0.50        62\n",
      "           7       0.36      0.59      0.45        76\n",
      "           8       0.70      0.64      0.67        72\n",
      "           9       0.19      0.32      0.24        65\n",
      "          10       0.10      0.17      0.13        65\n",
      "          11       0.39      0.54      0.45        68\n",
      "          12       0.43      0.54      0.48        65\n",
      "          13       0.25      0.21      0.23        66\n",
      "          14       0.68      0.55      0.61        71\n",
      "          15       0.64      0.77      0.70        69\n",
      "          16       0.48      0.58      0.52        71\n",
      "          17       0.43      0.33      0.37        69\n",
      "          18       0.31      0.25      0.28        67\n",
      "          19       0.12      0.14      0.13        63\n",
      "          20       0.42      0.47      0.44        68\n",
      "          21       0.21      0.26      0.23        65\n",
      "          22       0.46      0.34      0.39        70\n",
      "          23       0.45      0.38      0.41        68\n",
      "          24       0.11      0.09      0.10        68\n",
      "          25       0.34      0.63      0.44        62\n",
      "          26       0.13      0.09      0.10        70\n",
      "          27       0.33      0.21      0.25        73\n",
      "          28       0.62      0.44      0.51        66\n",
      "          29       0.77      0.32      0.45        75\n",
      "          30       0.53      0.47      0.50        58\n",
      "          31       0.10      0.12      0.11        69\n",
      "          32       0.45      0.34      0.39        73\n",
      "          33       0.24      0.23      0.23        52\n",
      "          34       0.41      0.24      0.30        63\n",
      "          35       0.52      0.31      0.39        80\n",
      "          36       0.38      0.24      0.30        74\n",
      "          37       0.24      0.33      0.27        61\n",
      "          38       0.21      0.16      0.18        69\n",
      "          39       0.16      0.15      0.16        59\n",
      "          40       0.48      0.44      0.46        72\n",
      "          41       0.29      0.13      0.18        79\n",
      "          42       0.62      0.54      0.58        70\n",
      "          43       0.40      0.35      0.37        60\n",
      "          44       0.23      0.16      0.19        67\n",
      "          45       0.70      0.62      0.65        60\n",
      "          46       0.47      0.44      0.46        64\n",
      "          47       0.42      0.29      0.34        77\n",
      "          48       0.47      0.21      0.29        67\n",
      "          49       0.39      0.29      0.33        70\n",
      "          50       0.10      0.06      0.07        72\n",
      "          51       0.69      0.72      0.70        67\n",
      "          52       0.74      0.60      0.66        65\n",
      "          53       0.30      0.15      0.20        59\n",
      "\n",
      "    accuracy                           0.36      3650\n",
      "   macro avg       0.38      0.36      0.36      3650\n",
      "weighted avg       0.38      0.36      0.36      3650\n",
      "\n",
      "\n",
      "\n",
      "Accuracy score of MultinomialNB(alpha=1.0, class_prior=None, fit_prior=True) is:\n",
      "0.03863013698630137\n",
      "[[ 1  0  1 ...  0  0  0]\n",
      " [ 3  0  0 ...  0  0  0]\n",
      " [ 0  0  1 ...  1  0  0]\n",
      " ...\n",
      " [ 0  0  0 ... 34  2  0]\n",
      " [ 0  1  0 ... 37  0  0]\n",
      " [ 7  0  0 ...  6  5  0]]\n",
      "              precision    recall  f1-score   support\n",
      "\n",
      "           0       0.00      0.02      0.01        63\n",
      "           1       0.00      0.00      0.00        73\n",
      "           2       0.02      0.02      0.02        61\n",
      "           3       0.00      0.00      0.00        72\n",
      "           4       0.00      0.00      0.00        67\n",
      "           5       0.00      0.00      0.00        73\n",
      "           6       0.00      0.00      0.00        62\n",
      "           7       0.12      0.05      0.07        76\n",
      "           8       0.00      0.00      0.00        72\n",
      "           9       0.00      0.00      0.00        65\n",
      "          10       0.00      0.00      0.00        65\n",
      "          11       0.00      0.00      0.00        68\n",
      "          12       0.05      0.34      0.09        65\n",
      "          13       0.00      0.00      0.00        66\n",
      "          14       0.00      0.00      0.00        71\n",
      "          15       0.00      0.00      0.00        69\n",
      "          16       0.00      0.00      0.00        71\n",
      "          17       0.00      0.00      0.00        69\n",
      "          18       0.00      0.00      0.00        67\n",
      "          19       0.00      0.00      0.00        63\n",
      "          20       0.00      0.00      0.00        68\n",
      "          21       0.00      0.00      0.00        65\n",
      "          22       0.00      0.00      0.00        70\n",
      "          23       0.00      0.00      0.00        68\n",
      "          24       0.00      0.00      0.00        68\n",
      "          25       0.01      0.02      0.01        62\n",
      "          26       0.00      0.00      0.00        70\n",
      "          27       0.00      0.00      0.00        73\n",
      "          28       0.00      0.00      0.00        66\n",
      "          29       0.23      0.09      0.13        75\n",
      "          30       0.02      0.03      0.03        58\n",
      "          31       0.00      0.00      0.00        69\n",
      "          32       0.00      0.00      0.00        73\n",
      "          33       0.00      0.00      0.00        52\n",
      "          34       0.00      0.00      0.00        63\n",
      "          35       0.00      0.00      0.00        80\n",
      "          36       0.00      0.00      0.00        74\n",
      "          37       0.15      0.33      0.20        61\n",
      "          38       0.00      0.00      0.00        69\n",
      "          39       0.00      0.00      0.00        59\n",
      "          40       0.16      0.17      0.16        72\n",
      "          41       0.00      0.00      0.00        79\n",
      "          42       0.00      0.00      0.00        70\n",
      "          43       0.00      0.00      0.00        60\n",
      "          44       0.00      0.00      0.00        67\n",
      "          45       0.00      0.00      0.00        60\n",
      "          46       0.00      0.00      0.00        64\n",
      "          47       0.05      0.03      0.03        77\n",
      "          48       0.07      0.04      0.05        67\n",
      "          49       0.05      0.44      0.09        70\n",
      "          50       0.02      0.01      0.02        72\n",
      "          51       0.10      0.51      0.16        67\n",
      "          52       0.00      0.00      0.00        65\n",
      "          53       0.00      0.00      0.00        59\n",
      "\n",
      "    accuracy                           0.04      3650\n",
      "   macro avg       0.02      0.04      0.02      3650\n",
      "weighted avg       0.02      0.04      0.02      3650\n",
      "\n",
      "\n",
      "\n"
     ]
    },
    {
     "name": "stderr",
     "output_type": "stream",
     "text": [
      "C:\\Users\\Scp\\anaconda3\\lib\\site-packages\\sklearn\\metrics\\_classification.py:1272: UndefinedMetricWarning: Precision and F-score are ill-defined and being set to 0.0 in labels with no predicted samples. Use `zero_division` parameter to control this behavior.\n",
      "  _warn_prf(average, modifier, msg_start, len(result))\n"
     ]
    },
    {
     "name": "stdout",
     "output_type": "stream",
     "text": [
      "Accuracy score of RandomForestClassifier(bootstrap=True, ccp_alpha=0.0, class_weight=None,\n",
      "                       criterion='gini', max_depth=None, max_features='auto',\n",
      "                       max_leaf_nodes=None, max_samples=None,\n",
      "                       min_impurity_decrease=0.0, min_impurity_split=None,\n",
      "                       min_samples_leaf=1, min_samples_split=2,\n",
      "                       min_weight_fraction_leaf=0.0, n_estimators=100,\n",
      "                       n_jobs=None, oob_score=False, random_state=None,\n",
      "                       verbose=0, warm_start=False) is:\n",
      "0.9087671232876713\n",
      "[[58  0  0 ...  0  0  0]\n",
      " [ 0 61  0 ...  0  0  0]\n",
      " [ 0  0 60 ...  0  0  0]\n",
      " ...\n",
      " [ 0  0  0 ... 67  0  0]\n",
      " [ 0  0  0 ...  0 64  0]\n",
      " [ 0  0  0 ...  0  0 51]]\n",
      "              precision    recall  f1-score   support\n",
      "\n",
      "           0       0.89      0.92      0.91        63\n",
      "           1       0.86      0.84      0.85        73\n",
      "           2       0.95      0.98      0.97        61\n",
      "           3       0.91      0.88      0.89        72\n",
      "           4       0.92      0.97      0.94        67\n",
      "           5       0.87      0.84      0.85        73\n",
      "           6       0.98      0.98      0.98        62\n",
      "           7       0.97      0.84      0.90        76\n",
      "           8       0.97      0.97      0.97        72\n",
      "           9       0.94      0.91      0.92        65\n",
      "          10       0.89      0.83      0.86        65\n",
      "          11       0.97      0.99      0.98        68\n",
      "          12       0.95      0.95      0.95        65\n",
      "          13       0.81      0.89      0.85        66\n",
      "          14       0.91      0.94      0.92        71\n",
      "          15       0.96      0.96      0.96        69\n",
      "          16       0.99      0.94      0.96        71\n",
      "          17       0.92      0.97      0.94        69\n",
      "          18       0.95      0.93      0.94        67\n",
      "          19       0.85      0.87      0.86        63\n",
      "          20       0.97      0.97      0.97        68\n",
      "          21       0.78      0.89      0.83        65\n",
      "          22       0.96      1.00      0.98        70\n",
      "          23       0.86      0.90      0.88        68\n",
      "          24       0.82      0.72      0.77        68\n",
      "          25       0.92      0.98      0.95        62\n",
      "          26       0.81      0.77      0.79        70\n",
      "          27       0.91      0.96      0.93        73\n",
      "          28       0.98      0.98      0.98        66\n",
      "          29       0.99      0.97      0.98        75\n",
      "          30       0.98      0.95      0.96        58\n",
      "          31       0.70      0.75      0.73        69\n",
      "          32       0.98      0.86      0.92        73\n",
      "          33       0.88      0.88      0.88        52\n",
      "          34       0.97      0.94      0.95        63\n",
      "          35       0.94      0.96      0.95        80\n",
      "          36       0.91      0.84      0.87        74\n",
      "          37       0.81      0.92      0.86        61\n",
      "          38       0.91      0.97      0.94        69\n",
      "          39       0.92      0.95      0.93        59\n",
      "          40       0.92      0.94      0.93        72\n",
      "          41       0.89      0.91      0.90        79\n",
      "          42       0.93      0.99      0.96        70\n",
      "          43       0.88      0.88      0.88        60\n",
      "          44       0.92      0.84      0.88        67\n",
      "          45       0.94      0.98      0.96        60\n",
      "          46       0.97      0.95      0.96        64\n",
      "          47       0.93      0.91      0.92        77\n",
      "          48       0.95      0.81      0.87        67\n",
      "          49       0.83      0.86      0.85        70\n",
      "          50       0.67      0.62      0.65        72\n",
      "          51       0.99      1.00      0.99        67\n",
      "          52       0.98      0.98      0.98        65\n",
      "          53       0.86      0.86      0.86        59\n",
      "\n",
      "    accuracy                           0.91      3650\n",
      "   macro avg       0.91      0.91      0.91      3650\n",
      "weighted avg       0.91      0.91      0.91      3650\n",
      "\n",
      "\n",
      "\n"
     ]
    }
   ],
   "source": [
    "# we will make list of algorithm and add to for loop and check the score :\n",
    "model=[LogisticRegression(),DecisionTreeClassifier(),SVC(),KNeighborsClassifier(),MultinomialNB(),RandomForestClassifier()]\n",
    "\n",
    "for m in model:\n",
    "    m.fit(X_train,y_train)\n",
    "    m.score(X_train,y_train)\n",
    "    predm=m.predict(X_test)\n",
    "    print('Accuracy score of',m,'is:')\n",
    "    print(accuracy_score(y_test,predm))\n",
    "    print(confusion_matrix(y_test,predm))\n",
    "    print(classification_report(y_test,predm))\n",
    "    print('\\n')"
   ]
  },
  {
   "cell_type": "code",
   "execution_count": 70,
   "metadata": {},
   "outputs": [
    {
     "data": {
      "text/plain": [
       "0.7901369863013699"
      ]
     },
     "execution_count": 70,
     "metadata": {},
     "output_type": "execute_result"
    }
   ],
   "source": [
    "# Decision Tree Classifier\n",
    "from sklearn.tree import DecisionTreeClassifier\n",
    "dtc = DecisionTreeClassifier()\n",
    "dtc.fit(X_train, y_train)\n",
    "pred = dtc.predict(X_test)\n",
    "accuracy_score(y_test, pred)"
   ]
  },
  {
   "cell_type": "code",
   "execution_count": 71,
   "metadata": {},
   "outputs": [
    {
     "data": {
      "text/plain": [
       "0.903013698630137"
      ]
     },
     "execution_count": 71,
     "metadata": {},
     "output_type": "execute_result"
    }
   ],
   "source": [
    "# Random Forest Classifier\n",
    "from sklearn.ensemble import RandomForestClassifier\n",
    "rfc = RandomForestClassifier()\n",
    "rfc.fit(X_train, y_train)\n",
    "pred = rfc.predict(X_test)\n",
    "accuracy_score(y_test, pred)"
   ]
  },
  {
   "cell_type": "code",
   "execution_count": 72,
   "metadata": {},
   "outputs": [
    {
     "data": {
      "text/plain": [
       "['Project3_avacoda']"
      ]
     },
     "execution_count": 72,
     "metadata": {},
     "output_type": "execute_result"
    }
   ],
   "source": [
    "# saving the model :\n",
    "import joblib\n",
    "joblib.dump(rfc,'Project3_avacoda')"
   ]
  },
  {
   "cell_type": "markdown",
   "metadata": {},
   "source": [
    "Conclusion:1) These problem we have solved by Regresion as well as Classification.\n",
    "2) We have done EDA process, Feature Engineering, Model Selection, finding the right model.\n",
    "3) for Regression problem (RandomforestRegressor is best) \n",
    "4) for Clasification problem (RandomForestClassifier is best)\n",
    "5) Saving the model.\n",
    "Thank You!!"
   ]
  },
  {
   "cell_type": "code",
   "execution_count": null,
   "metadata": {},
   "outputs": [],
   "source": []
  }
 ],
 "metadata": {
  "kernelspec": {
   "display_name": "Python 3",
   "language": "python",
   "name": "python3"
  },
  "language_info": {
   "codemirror_mode": {
    "name": "ipython",
    "version": 3
   },
   "file_extension": ".py",
   "mimetype": "text/x-python",
   "name": "python",
   "nbconvert_exporter": "python",
   "pygments_lexer": "ipython3",
   "version": "3.7.6"
  }
 },
 "nbformat": 4,
 "nbformat_minor": 4
}
